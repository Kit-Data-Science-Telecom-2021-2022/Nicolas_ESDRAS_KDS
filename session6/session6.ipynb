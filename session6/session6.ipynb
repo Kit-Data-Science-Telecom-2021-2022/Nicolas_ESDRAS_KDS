{
 "cells": [
  {
   "cell_type": "markdown",
   "metadata": {},
   "source": [
    "# Session 6\n",
    "\n",
    "1. Séries temporelles\n",
    "2. Graphiques avec pandas\n",
    "3. Graphiques avec matplotlib\n",
    "4. Graphiques avec seaborn\n",
    "5. Cartes : matplotlib, plotly et ipyleaflet"
   ]
  },
  {
   "cell_type": "code",
   "execution_count": 1,
   "metadata": {},
   "outputs": [],
   "source": [
    "# imports\n",
    "import numpy as np\n",
    "import pandas as pd\n",
    "import matplotlib.pyplot as plt"
   ]
  },
  {
   "cell_type": "markdown",
   "metadata": {},
   "source": [
    "## 1. Séries temporelles\n",
    "\n",
    "Le module datetime :\n",
    "- **date**: date (year, month, day) calendrier Grégorien\n",
    "- **time**: temps (hours, minutes, seconds, microseconds)\n",
    "- **datetime**: timestamp (date + time)\n",
    "- **timedelta**: durée, différence entre 2 dates ou 2 temps (days, hours, minutes, seconds, microseconds)\n",
    "- **tzinfo**: gestion des fuseaux horaires (time zones)\n",
    "\n",
    "Voir : https://docs.python.org/fr/3.7/library/datetime.html"
   ]
  },
  {
   "cell_type": "code",
   "execution_count": 2,
   "metadata": {},
   "outputs": [],
   "source": [
    "# import\n",
    "import datetime"
   ]
  },
  {
   "cell_type": "markdown",
   "metadata": {},
   "source": [
    "### 1.1 Objets temporels"
   ]
  },
  {
   "cell_type": "code",
   "execution_count": 3,
   "metadata": {},
   "outputs": [
    {
     "data": {
      "text/plain": [
       "datetime.date(2021, 10, 20)"
      ]
     },
     "execution_count": 3,
     "metadata": {},
     "output_type": "execute_result"
    }
   ],
   "source": [
    "# date\n",
    "today = datetime.date.today()\n",
    "today"
   ]
  },
  {
   "cell_type": "code",
   "execution_count": 4,
   "metadata": {},
   "outputs": [
    {
     "data": {
      "text/plain": [
       "datetime.datetime(2021, 10, 20, 13, 46, 21, 173732)"
      ]
     },
     "execution_count": 4,
     "metadata": {},
     "output_type": "execute_result"
    }
   ],
   "source": [
    "# datetime\n",
    "now = datetime.datetime.now()\n",
    "now"
   ]
  },
  {
   "cell_type": "code",
   "execution_count": 5,
   "metadata": {},
   "outputs": [
    {
     "data": {
      "text/plain": [
       "datetime.datetime(2021, 10, 20, 11, 46, 21, 185404)"
      ]
     },
     "execution_count": 5,
     "metadata": {},
     "output_type": "execute_result"
    }
   ],
   "source": [
    "# UTC datetime\n",
    "now_utc = datetime.datetime.utcnow()\n",
    "now_utc"
   ]
  },
  {
   "cell_type": "code",
   "execution_count": 6,
   "metadata": {},
   "outputs": [
    {
     "data": {
      "text/plain": [
       "datetime.timedelta(days=292)"
      ]
     },
     "execution_count": 6,
     "metadata": {},
     "output_type": "execute_result"
    }
   ],
   "source": [
    "# timedelta\n",
    "today - datetime.date(2021, 1, 1)"
   ]
  },
  {
   "cell_type": "code",
   "execution_count": 7,
   "metadata": {},
   "outputs": [
    {
     "data": {
      "text/plain": [
       "datetime.datetime(2022, 1, 28, 13, 46, 21, 173732)"
      ]
     },
     "execution_count": 7,
     "metadata": {},
     "output_type": "execute_result"
    }
   ],
   "source": [
    "# addition entre une date et un timedelta\n",
    "now + datetime.timedelta(days=100)"
   ]
  },
  {
   "cell_type": "code",
   "execution_count": 8,
   "metadata": {},
   "outputs": [
    {
     "data": {
      "text/plain": [
       "datetime.datetime(2021, 7, 12, 13, 46, 21, 173732)"
      ]
     },
     "execution_count": 8,
     "metadata": {},
     "output_type": "execute_result"
    }
   ],
   "source": [
    "# différence entre une date et un timedelta\n",
    "now - datetime.timedelta(days=100)"
   ]
  },
  {
   "cell_type": "code",
   "execution_count": 9,
   "metadata": {},
   "outputs": [],
   "source": [
    "# import pytz\n",
    "from pytz import timezone"
   ]
  },
  {
   "cell_type": "code",
   "execution_count": 10,
   "metadata": {},
   "outputs": [
    {
     "data": {
      "text/plain": [
       "<DstTzInfo 'Asia/Shanghai' LMT+8:06:00 STD>"
      ]
     },
     "execution_count": 10,
     "metadata": {},
     "output_type": "execute_result"
    }
   ],
   "source": [
    "# build a timezone object\n",
    "tz = timezone('Asia/Shanghai')\n",
    "tz"
   ]
  },
  {
   "cell_type": "code",
   "execution_count": 11,
   "metadata": {},
   "outputs": [
    {
     "data": {
      "text/plain": [
       "datetime.datetime(2021, 10, 20, 19, 46, 21, 173732, tzinfo=<DstTzInfo 'Asia/Shanghai' CST+8:00:00 STD>)"
      ]
     },
     "execution_count": 11,
     "metadata": {},
     "output_type": "execute_result"
    }
   ],
   "source": [
    "# convertion d'un datetime selon un fuseau horaire\n",
    "now.astimezone(tz)"
   ]
  },
  {
   "cell_type": "markdown",
   "metadata": {},
   "source": [
    "### 1.2 Ecriture et lecture\n",
    "\n",
    "- strftime() : écrire un datetime selon un format donné\n",
    "- strptime() : lire un datetime selon un format donné"
   ]
  },
  {
   "cell_type": "markdown",
   "metadata": {},
   "source": [
    "Directives | Comments\n",
    "- | -\n",
    "%a | Day of the week abbreviated\n",
    "%A | Day of the week\n",
    "%w | Day of the week 0 = Sunday ... 6 = Saturday\n",
    "%d | Day of month on 2 digits 01, 02, ..., 31\n",
    "%j | Day of year on 3 digits 001, 002, ..., 366\n",
    "%b | Month abbreviated\n",
    "%B | Month name\n",
    "%m | Month on 2 digits 01, 02, ..., 12\n",
    "%U | Number of week in year (Sunday = first day)\n",
    "%W | Number of week in year (Monday = first day)\n",
    "%y | Year without the century on 2 digits 00, 01, ..., 99\t \n",
    "%Y | Year with the century on 4 digits 0001, 0002, ..., 2018, 2019, ..., 9998, 9999\n",
    "%H | Hour over 24 00, 01, ..., 23\n",
    "%I | Hour over 12 01, 02, ..., 12\n",
    "%p | AM or PM\n",
    "%M | Minute on 2 digits 00, 01, ..., 59\n",
    "%S | Second on 2 digits 00, 01, ..., 59\n",
    "%f | Microsecond on 6 digits 000000, 000001, ..., 999999\n",
    "%z | UTC offset +HHMM or -HHMM\n",
    "%Z | Time zone \n",
    "%c | Representation date and temps\n",
    "%x | Representation date\n",
    "%X | Representation time\n",
    "%% | Character %"
   ]
  },
  {
   "cell_type": "code",
   "execution_count": 12,
   "metadata": {},
   "outputs": [
    {
     "data": {
      "text/plain": [
       "datetime.datetime(2021, 10, 20, 13, 46, 22, 182638)"
      ]
     },
     "execution_count": 12,
     "metadata": {},
     "output_type": "execute_result"
    }
   ],
   "source": [
    "# datetime\n",
    "now = datetime.datetime.now()\n",
    "now"
   ]
  },
  {
   "cell_type": "code",
   "execution_count": 13,
   "metadata": {},
   "outputs": [
    {
     "data": {
      "text/plain": [
       "'Wednesday 20/10/2021'"
      ]
     },
     "execution_count": 13,
     "metadata": {},
     "output_type": "execute_result"
    }
   ],
   "source": [
    "# jour dela semaine\n",
    "now.strftime(\"%A %d/%m/%Y\")"
   ]
  },
  {
   "cell_type": "code",
   "execution_count": 14,
   "metadata": {},
   "outputs": [
    {
     "data": {
      "text/plain": [
       "'Mercredi octobre 20/10/2021'"
      ]
     },
     "execution_count": 14,
     "metadata": {},
     "output_type": "execute_result"
    }
   ],
   "source": [
    "# locale\n",
    "# mettre parfois fr_FR ou fr_FR.UTF-8 au lien de fr, etc.\n",
    "import locale\n",
    "#locale.setlocale(locale.LC_ALL, 'ar') # arabic\n",
    "#locale.setlocale(locale.LC_ALL, 'de') # german\n",
    "#locale.setlocale(locale.LC_ALL, 'es') # spanish\n",
    "#locale.setlocale(locale.LC_ALL, 'en') # english\n",
    "#locale.setlocale(locale.LC_ALL, 'fa') # iranian\n",
    "locale.setlocale(locale.LC_ALL, 'fr_FR') # french\n",
    "#locale.setlocale(locale.LC_ALL, 'hi') # hindi\n",
    "#locale.setlocale(locale.LC_ALL, 'he') # hebrew\n",
    "#locale.setlocale(locale.LC_ALL, 'it') # italian\n",
    "#locale.setlocale(locale.LC_ALL, 'ja') # japanese\n",
    "#locale.setlocale(locale.LC_ALL, 'lt') # lithuanian \n",
    "#locale.setlocale(locale.LC_ALL, 'ko') # korean\n",
    "#locale.setlocale(locale.LC_ALL, 'ro') # romanian\n",
    "#locale.setlocale(locale.LC_ALL, 'ru') # russian\n",
    "#locale.setlocale(locale.LC_ALL, 'sr') # serbian\n",
    "#locale.setlocale(locale.LC_ALL, 'tr') # turkish\n",
    "#locale.setlocale(locale.LC_ALL, 'zh') # chinese\n",
    "now.strftime(\"%A %B %d/%m/%Y\")"
   ]
  },
  {
   "cell_type": "code",
   "execution_count": 15,
   "metadata": {},
   "outputs": [
    {
     "data": {
      "text/plain": [
       "'10:30 04/11/2020'"
      ]
     },
     "execution_count": 15,
     "metadata": {},
     "output_type": "execute_result"
    }
   ],
   "source": [
    "# lecture au format : AA-MM-DD-HH-MM\n",
    "# écriture au format : HH:MM DD/MM/YYYY\n",
    "var = datetime.datetime.strptime(\"20-11-04-10-30\", \"%y-%m-%d-%H-%M\")\n",
    "var.strftime(\"%H:%M %d/%m/%Y\")"
   ]
  },
  {
   "cell_type": "markdown",
   "metadata": {},
   "source": [
    "**Exercice n° 1**\n",
    "\n",
    "\n",
    "- Prendre le DataFrame des villes 'cities500.txt', combien a-t-on de fuseaux horaires ?\n",
    "- Remplacez les valeurs de la colonne \"timezone\" par des objets \"timezone\".\n",
    "- Prenez le datetime courant (now), convertissez-le avec toutes les valeurs de la colonne \"timezone\", et produisez des chaines de caractères au format format: `'%Y-%m-%d %H:%M:%S'`\n",
    "- Il y a 24 heures dans une journée, combien obtient-on de fuseaux horaires différents ?"
   ]
  },
  {
   "cell_type": "code",
   "execution_count": 16,
   "metadata": {},
   "outputs": [
    {
     "data": {
      "text/html": [
       "<div>\n",
       "<style scoped>\n",
       "    .dataframe tbody tr th:only-of-type {\n",
       "        vertical-align: middle;\n",
       "    }\n",
       "\n",
       "    .dataframe tbody tr th {\n",
       "        vertical-align: top;\n",
       "    }\n",
       "\n",
       "    .dataframe thead th {\n",
       "        text-align: right;\n",
       "    }\n",
       "</style>\n",
       "<table border=\"1\" class=\"dataframe\">\n",
       "  <thead>\n",
       "    <tr style=\"text-align: right;\">\n",
       "      <th></th>\n",
       "      <th>geonameid</th>\n",
       "      <th>name</th>\n",
       "      <th>asciiname</th>\n",
       "      <th>alternatenames</th>\n",
       "      <th>latitude</th>\n",
       "      <th>longitude</th>\n",
       "      <th>feature class</th>\n",
       "      <th>feature code</th>\n",
       "      <th>country code</th>\n",
       "      <th>cc2</th>\n",
       "      <th>admin1 code</th>\n",
       "      <th>admin2 code</th>\n",
       "      <th>admin3 code</th>\n",
       "      <th>admin4 code</th>\n",
       "      <th>population</th>\n",
       "      <th>elevation</th>\n",
       "      <th>dem</th>\n",
       "      <th>timezone</th>\n",
       "      <th>modification date</th>\n",
       "    </tr>\n",
       "  </thead>\n",
       "  <tbody>\n",
       "    <tr>\n",
       "      <th>0</th>\n",
       "      <td>3038999</td>\n",
       "      <td>Soldeu</td>\n",
       "      <td>Soldeu</td>\n",
       "      <td>NaN</td>\n",
       "      <td>42.57688</td>\n",
       "      <td>1.66769</td>\n",
       "      <td>P</td>\n",
       "      <td>PPL</td>\n",
       "      <td>AD</td>\n",
       "      <td>NaN</td>\n",
       "      <td>02</td>\n",
       "      <td>NaN</td>\n",
       "      <td>NaN</td>\n",
       "      <td>NaN</td>\n",
       "      <td>602</td>\n",
       "      <td>NaN</td>\n",
       "      <td>1832.0</td>\n",
       "      <td>Europe/Andorra</td>\n",
       "      <td>2017-11-06</td>\n",
       "    </tr>\n",
       "    <tr>\n",
       "      <th>1</th>\n",
       "      <td>3039154</td>\n",
       "      <td>El Tarter</td>\n",
       "      <td>El Tarter</td>\n",
       "      <td>Ehl Tarter,Эл Тартер</td>\n",
       "      <td>42.57952</td>\n",
       "      <td>1.65362</td>\n",
       "      <td>P</td>\n",
       "      <td>PPL</td>\n",
       "      <td>AD</td>\n",
       "      <td>NaN</td>\n",
       "      <td>02</td>\n",
       "      <td>NaN</td>\n",
       "      <td>NaN</td>\n",
       "      <td>NaN</td>\n",
       "      <td>1052</td>\n",
       "      <td>NaN</td>\n",
       "      <td>1721.0</td>\n",
       "      <td>Europe/Andorra</td>\n",
       "      <td>2012-11-03</td>\n",
       "    </tr>\n",
       "    <tr>\n",
       "      <th>2</th>\n",
       "      <td>3039163</td>\n",
       "      <td>Sant Julià de Lòria</td>\n",
       "      <td>Sant Julia de Loria</td>\n",
       "      <td>San Julia,San Julià,Sant Julia de Loria,Sant J...</td>\n",
       "      <td>42.46372</td>\n",
       "      <td>1.49129</td>\n",
       "      <td>P</td>\n",
       "      <td>PPLA</td>\n",
       "      <td>AD</td>\n",
       "      <td>NaN</td>\n",
       "      <td>06</td>\n",
       "      <td>NaN</td>\n",
       "      <td>NaN</td>\n",
       "      <td>NaN</td>\n",
       "      <td>8022</td>\n",
       "      <td>NaN</td>\n",
       "      <td>921.0</td>\n",
       "      <td>Europe/Andorra</td>\n",
       "      <td>2013-11-23</td>\n",
       "    </tr>\n",
       "    <tr>\n",
       "      <th>3</th>\n",
       "      <td>3039604</td>\n",
       "      <td>Pas de la Casa</td>\n",
       "      <td>Pas de la Casa</td>\n",
       "      <td>Pas de la Kasa,Пас де ла Каса</td>\n",
       "      <td>42.54277</td>\n",
       "      <td>1.73361</td>\n",
       "      <td>P</td>\n",
       "      <td>PPL</td>\n",
       "      <td>AD</td>\n",
       "      <td>NaN</td>\n",
       "      <td>03</td>\n",
       "      <td>NaN</td>\n",
       "      <td>NaN</td>\n",
       "      <td>NaN</td>\n",
       "      <td>2363</td>\n",
       "      <td>2050.0</td>\n",
       "      <td>2106.0</td>\n",
       "      <td>Europe/Andorra</td>\n",
       "      <td>2008-06-09</td>\n",
       "    </tr>\n",
       "    <tr>\n",
       "      <th>4</th>\n",
       "      <td>3039678</td>\n",
       "      <td>Ordino</td>\n",
       "      <td>Ordino</td>\n",
       "      <td>Ordino,ao er di nuo,orudino jiao qu,Ордино,オルデ...</td>\n",
       "      <td>42.55623</td>\n",
       "      <td>1.53319</td>\n",
       "      <td>P</td>\n",
       "      <td>PPLA</td>\n",
       "      <td>AD</td>\n",
       "      <td>NaN</td>\n",
       "      <td>05</td>\n",
       "      <td>NaN</td>\n",
       "      <td>NaN</td>\n",
       "      <td>NaN</td>\n",
       "      <td>3066</td>\n",
       "      <td>NaN</td>\n",
       "      <td>1296.0</td>\n",
       "      <td>Europe/Andorra</td>\n",
       "      <td>2018-10-26</td>\n",
       "    </tr>\n",
       "  </tbody>\n",
       "</table>\n",
       "</div>"
      ],
      "text/plain": [
       "   geonameid                 name            asciiname  \\\n",
       "0    3038999               Soldeu               Soldeu   \n",
       "1    3039154            El Tarter            El Tarter   \n",
       "2    3039163  Sant Julià de Lòria  Sant Julia de Loria   \n",
       "3    3039604       Pas de la Casa       Pas de la Casa   \n",
       "4    3039678               Ordino               Ordino   \n",
       "\n",
       "                                      alternatenames  latitude  longitude  \\\n",
       "0                                                NaN  42.57688    1.66769   \n",
       "1                               Ehl Tarter,Эл Тартер  42.57952    1.65362   \n",
       "2  San Julia,San Julià,Sant Julia de Loria,Sant J...  42.46372    1.49129   \n",
       "3                      Pas de la Kasa,Пас де ла Каса  42.54277    1.73361   \n",
       "4  Ordino,ao er di nuo,orudino jiao qu,Ордино,オルデ...  42.55623    1.53319   \n",
       "\n",
       "  feature class feature code country code  cc2 admin1 code admin2 code  \\\n",
       "0             P          PPL           AD  NaN          02         NaN   \n",
       "1             P          PPL           AD  NaN          02         NaN   \n",
       "2             P         PPLA           AD  NaN          06         NaN   \n",
       "3             P          PPL           AD  NaN          03         NaN   \n",
       "4             P         PPLA           AD  NaN          05         NaN   \n",
       "\n",
       "  admin3 code admin4 code  population  elevation     dem        timezone  \\\n",
       "0         NaN         NaN         602        NaN  1832.0  Europe/Andorra   \n",
       "1         NaN         NaN        1052        NaN  1721.0  Europe/Andorra   \n",
       "2         NaN         NaN        8022        NaN   921.0  Europe/Andorra   \n",
       "3         NaN         NaN        2363     2050.0  2106.0  Europe/Andorra   \n",
       "4         NaN         NaN        3066        NaN  1296.0  Europe/Andorra   \n",
       "\n",
       "  modification date  \n",
       "0        2017-11-06  \n",
       "1        2012-11-03  \n",
       "2        2013-11-23  \n",
       "3        2008-06-09  \n",
       "4        2018-10-26  "
      ]
     },
     "execution_count": 16,
     "metadata": {},
     "output_type": "execute_result"
    }
   ],
   "source": [
    "df = pd.read_csv('cities500.zip',\n",
    "                 sep='\\t',\n",
    "                 header=None,\n",
    "                 keep_default_na=False,  # NA = North America\n",
    "                 na_values=['', -9999],\n",
    "                 names=['geonameid', 'name', 'asciiname', 'alternatenames', 'latitude', \n",
    "                        'longitude', 'feature class', 'feature code', 'country code', \n",
    "                        'cc2', 'admin1 code', 'admin2 code', 'admin3 code', 'admin4 code', \n",
    "                        'population', 'elevation', 'dem', 'timezone', 'modification date'],\n",
    "                dtype={'admin1 code': str,\n",
    "                       'admin2 code': str,\n",
    "                       'admin3 code': str,\n",
    "                       'admin4 code': str})\n",
    "df.head()"
   ]
  },
  {
   "cell_type": "code",
   "execution_count": 17,
   "metadata": {},
   "outputs": [
    {
     "data": {
      "text/plain": [
       "0         Europe/Andorra\n",
       "1         Europe/Andorra\n",
       "2         Europe/Andorra\n",
       "3         Europe/Andorra\n",
       "4         Europe/Andorra\n",
       "               ...      \n",
       "197244     Africa/Harare\n",
       "197245     Africa/Harare\n",
       "197246     Africa/Harare\n",
       "197247     Africa/Harare\n",
       "197248     Africa/Harare\n",
       "Name: timezone, Length: 197249, dtype: object"
      ]
     },
     "execution_count": 17,
     "metadata": {},
     "output_type": "execute_result"
    }
   ],
   "source": [
    "df['timezone'].apply(timezone)"
   ]
  },
  {
   "cell_type": "code",
   "execution_count": 20,
   "metadata": {},
   "outputs": [
    {
     "data": {
      "text/plain": [
       "0         2021-10-20 13:46:22\n",
       "1         2021-10-20 13:46:22\n",
       "2         2021-10-20 13:46:22\n",
       "3         2021-10-20 13:46:22\n",
       "4         2021-10-20 13:46:22\n",
       "                 ...         \n",
       "197244    2021-10-20 13:46:22\n",
       "197245    2021-10-20 13:46:22\n",
       "197246    2021-10-20 13:46:22\n",
       "197247    2021-10-20 13:46:22\n",
       "197248    2021-10-20 13:46:22\n",
       "Name: timezone, Length: 197249, dtype: object"
      ]
     },
     "execution_count": 20,
     "metadata": {},
     "output_type": "execute_result"
    }
   ],
   "source": [
    "df['timezone'].apply(timezone).apply(lambda x: now.astimezone(x)).apply(lambda x: x.strftime('%Y-%m-%d %H:%M:%S'))"
   ]
  },
  {
   "cell_type": "code",
   "execution_count": 21,
   "metadata": {},
   "outputs": [
    {
     "data": {
      "text/plain": [
       "36"
      ]
     },
     "execution_count": 21,
     "metadata": {},
     "output_type": "execute_result"
    }
   ],
   "source": [
    "df['timezone'].apply(timezone).apply(lambda x: now.astimezone(x)).apply(lambda x: x.strftime('%Y-%m-%d %H:%M:%S')).nunique()"
   ]
  },
  {
   "cell_type": "markdown",
   "metadata": {},
   "source": [
    "### 1.3 Séries temporelles"
   ]
  },
  {
   "cell_type": "code",
   "execution_count": 22,
   "metadata": {},
   "outputs": [],
   "source": [
    "def df_taux_change(devises):\n",
    "    df = pd.read_csv(\"Webstat_Export_20210929.csv\",\n",
    "                     sep=\";\",\n",
    "                     na_values='-',\n",
    "                     decimal=',',\n",
    "                     skiprows=[0, 1, 3, 4, 5],  # le skiprows permet à l'option \"decimal\" de fonctionner\n",
    "                     converters={0: lambda x: pd.to_datetime(x, format='%d/%m/%Y', errors='ignore')})\n",
    "\n",
    "    # extraction des codes monnaies\n",
    "    cols = pd.Series(df.columns.tolist()).str.extract('\\(([A-Z]{3})\\)', expand=True)\n",
    "    cols.iloc[0] = 'Date'\n",
    "    df.columns = cols[0]\n",
    "\n",
    "    # selection des devises\n",
    "    df = df[['Date'] + devises]\n",
    "\n",
    "    # drop na\n",
    "    df = df.dropna()\n",
    "\n",
    "    # set index\n",
    "    df = df.set_index('Date')\n",
    "    \n",
    "    return df"
   ]
  },
  {
   "cell_type": "code",
   "execution_count": 23,
   "metadata": {},
   "outputs": [
    {
     "data": {
      "text/html": [
       "<div>\n",
       "<style scoped>\n",
       "    .dataframe tbody tr th:only-of-type {\n",
       "        vertical-align: middle;\n",
       "    }\n",
       "\n",
       "    .dataframe tbody tr th {\n",
       "        vertical-align: top;\n",
       "    }\n",
       "\n",
       "    .dataframe thead th {\n",
       "        text-align: right;\n",
       "    }\n",
       "</style>\n",
       "<table border=\"1\" class=\"dataframe\">\n",
       "  <thead>\n",
       "    <tr style=\"text-align: right;\">\n",
       "      <th></th>\n",
       "      <th>USD</th>\n",
       "      <th>CHF</th>\n",
       "      <th>GBP</th>\n",
       "      <th>JPY</th>\n",
       "      <th>RUB</th>\n",
       "      <th>CNY</th>\n",
       "    </tr>\n",
       "    <tr>\n",
       "      <th>Date</th>\n",
       "      <th></th>\n",
       "      <th></th>\n",
       "      <th></th>\n",
       "      <th></th>\n",
       "      <th></th>\n",
       "      <th></th>\n",
       "    </tr>\n",
       "  </thead>\n",
       "  <tbody>\n",
       "    <tr>\n",
       "      <th>2021-09-28</th>\n",
       "      <td>1.1678</td>\n",
       "      <td>1.0840</td>\n",
       "      <td>0.85950</td>\n",
       "      <td>130.17</td>\n",
       "      <td>84.7497</td>\n",
       "      <td>7.5433</td>\n",
       "    </tr>\n",
       "    <tr>\n",
       "      <th>2021-09-27</th>\n",
       "      <td>1.1698</td>\n",
       "      <td>1.0850</td>\n",
       "      <td>0.85420</td>\n",
       "      <td>129.74</td>\n",
       "      <td>84.9955</td>\n",
       "      <td>7.5609</td>\n",
       "    </tr>\n",
       "    <tr>\n",
       "      <th>2021-09-24</th>\n",
       "      <td>1.1719</td>\n",
       "      <td>1.0830</td>\n",
       "      <td>0.85703</td>\n",
       "      <td>129.49</td>\n",
       "      <td>85.5104</td>\n",
       "      <td>7.5803</td>\n",
       "    </tr>\n",
       "    <tr>\n",
       "      <th>2021-09-23</th>\n",
       "      <td>1.1715</td>\n",
       "      <td>1.0831</td>\n",
       "      <td>0.85495</td>\n",
       "      <td>128.88</td>\n",
       "      <td>85.2372</td>\n",
       "      <td>7.5643</td>\n",
       "    </tr>\n",
       "    <tr>\n",
       "      <th>2021-09-22</th>\n",
       "      <td>1.1729</td>\n",
       "      <td>1.0820</td>\n",
       "      <td>0.86000</td>\n",
       "      <td>128.50</td>\n",
       "      <td>85.3877</td>\n",
       "      <td>7.5850</td>\n",
       "    </tr>\n",
       "  </tbody>\n",
       "</table>\n",
       "</div>"
      ],
      "text/plain": [
       "0              USD     CHF      GBP     JPY      RUB     CNY\n",
       "Date                                                        \n",
       "2021-09-28  1.1678  1.0840  0.85950  130.17  84.7497  7.5433\n",
       "2021-09-27  1.1698  1.0850  0.85420  129.74  84.9955  7.5609\n",
       "2021-09-24  1.1719  1.0830  0.85703  129.49  85.5104  7.5803\n",
       "2021-09-23  1.1715  1.0831  0.85495  128.88  85.2372  7.5643\n",
       "2021-09-22  1.1729  1.0820  0.86000  128.50  85.3877  7.5850"
      ]
     },
     "execution_count": 23,
     "metadata": {},
     "output_type": "execute_result"
    }
   ],
   "source": [
    "df = df_taux_change(['USD', 'CHF', 'GBP', 'JPY', 'RUB', 'CNY'])\n",
    "df.head()"
   ]
  },
  {
   "cell_type": "code",
   "execution_count": 24,
   "metadata": {},
   "outputs": [
    {
     "name": "stdout",
     "output_type": "stream",
     "text": [
      "<class 'pandas.core.frame.DataFrame'>\n",
      "DatetimeIndex: 5555 entries, 2021-09-28 to 2000-01-13\n",
      "Data columns (total 6 columns):\n",
      " #   Column  Non-Null Count  Dtype  \n",
      "---  ------  --------------  -----  \n",
      " 0   USD     5555 non-null   float64\n",
      " 1   CHF     5555 non-null   float64\n",
      " 2   GBP     5555 non-null   float64\n",
      " 3   JPY     5555 non-null   float64\n",
      " 4   RUB     5555 non-null   float64\n",
      " 5   CNY     5555 non-null   float64\n",
      "dtypes: float64(6)\n",
      "memory usage: 303.8 KB\n"
     ]
    }
   ],
   "source": [
    "df.info()"
   ]
  },
  {
   "cell_type": "markdown",
   "metadata": {},
   "source": [
    "**L'accesseur dt**"
   ]
  },
  {
   "cell_type": "code",
   "execution_count": 25,
   "metadata": {},
   "outputs": [
    {
     "data": {
      "text/html": [
       "<div>\n",
       "<style scoped>\n",
       "    .dataframe tbody tr th:only-of-type {\n",
       "        vertical-align: middle;\n",
       "    }\n",
       "\n",
       "    .dataframe tbody tr th {\n",
       "        vertical-align: top;\n",
       "    }\n",
       "\n",
       "    .dataframe thead th {\n",
       "        text-align: right;\n",
       "    }\n",
       "</style>\n",
       "<table border=\"1\" class=\"dataframe\">\n",
       "  <thead>\n",
       "    <tr style=\"text-align: right;\">\n",
       "      <th></th>\n",
       "      <th>Date</th>\n",
       "      <th>USD</th>\n",
       "      <th>CHF</th>\n",
       "      <th>GBP</th>\n",
       "      <th>JPY</th>\n",
       "      <th>RUB</th>\n",
       "      <th>CNY</th>\n",
       "    </tr>\n",
       "  </thead>\n",
       "  <tbody>\n",
       "    <tr>\n",
       "      <th>0</th>\n",
       "      <td>2021-09-28</td>\n",
       "      <td>1.1678</td>\n",
       "      <td>1.0840</td>\n",
       "      <td>0.85950</td>\n",
       "      <td>130.17</td>\n",
       "      <td>84.7497</td>\n",
       "      <td>7.5433</td>\n",
       "    </tr>\n",
       "    <tr>\n",
       "      <th>1</th>\n",
       "      <td>2021-09-27</td>\n",
       "      <td>1.1698</td>\n",
       "      <td>1.0850</td>\n",
       "      <td>0.85420</td>\n",
       "      <td>129.74</td>\n",
       "      <td>84.9955</td>\n",
       "      <td>7.5609</td>\n",
       "    </tr>\n",
       "    <tr>\n",
       "      <th>2</th>\n",
       "      <td>2021-09-24</td>\n",
       "      <td>1.1719</td>\n",
       "      <td>1.0830</td>\n",
       "      <td>0.85703</td>\n",
       "      <td>129.49</td>\n",
       "      <td>85.5104</td>\n",
       "      <td>7.5803</td>\n",
       "    </tr>\n",
       "    <tr>\n",
       "      <th>3</th>\n",
       "      <td>2021-09-23</td>\n",
       "      <td>1.1715</td>\n",
       "      <td>1.0831</td>\n",
       "      <td>0.85495</td>\n",
       "      <td>128.88</td>\n",
       "      <td>85.2372</td>\n",
       "      <td>7.5643</td>\n",
       "    </tr>\n",
       "    <tr>\n",
       "      <th>4</th>\n",
       "      <td>2021-09-22</td>\n",
       "      <td>1.1729</td>\n",
       "      <td>1.0820</td>\n",
       "      <td>0.86000</td>\n",
       "      <td>128.50</td>\n",
       "      <td>85.3877</td>\n",
       "      <td>7.5850</td>\n",
       "    </tr>\n",
       "  </tbody>\n",
       "</table>\n",
       "</div>"
      ],
      "text/plain": [
       "0       Date     USD     CHF      GBP     JPY      RUB     CNY\n",
       "0 2021-09-28  1.1678  1.0840  0.85950  130.17  84.7497  7.5433\n",
       "1 2021-09-27  1.1698  1.0850  0.85420  129.74  84.9955  7.5609\n",
       "2 2021-09-24  1.1719  1.0830  0.85703  129.49  85.5104  7.5803\n",
       "3 2021-09-23  1.1715  1.0831  0.85495  128.88  85.2372  7.5643\n",
       "4 2021-09-22  1.1729  1.0820  0.86000  128.50  85.3877  7.5850"
      ]
     },
     "execution_count": 25,
     "metadata": {},
     "output_type": "execute_result"
    }
   ],
   "source": [
    "# reset_index\n",
    "df = df.reset_index()\n",
    "df.head()"
   ]
  },
  {
   "cell_type": "code",
   "execution_count": 26,
   "metadata": {},
   "outputs": [
    {
     "name": "stdout",
     "output_type": "stream",
     "text": [
      "<class 'pandas.core.frame.DataFrame'>\n",
      "RangeIndex: 5555 entries, 0 to 5554\n",
      "Data columns (total 7 columns):\n",
      " #   Column  Non-Null Count  Dtype         \n",
      "---  ------  --------------  -----         \n",
      " 0   Date    5555 non-null   datetime64[ns]\n",
      " 1   USD     5555 non-null   float64       \n",
      " 2   CHF     5555 non-null   float64       \n",
      " 3   GBP     5555 non-null   float64       \n",
      " 4   JPY     5555 non-null   float64       \n",
      " 5   RUB     5555 non-null   float64       \n",
      " 6   CNY     5555 non-null   float64       \n",
      "dtypes: datetime64[ns](1), float64(6)\n",
      "memory usage: 303.9 KB\n"
     ]
    }
   ],
   "source": [
    "df.info()"
   ]
  },
  {
   "cell_type": "code",
   "execution_count": 27,
   "metadata": {},
   "outputs": [
    {
     "data": {
      "text/plain": [
       "0       2021\n",
       "1       2021\n",
       "2       2021\n",
       "3       2021\n",
       "4       2021\n",
       "        ... \n",
       "5550    2000\n",
       "5551    2000\n",
       "5552    2000\n",
       "5553    2000\n",
       "5554    2000\n",
       "Name: Date, Length: 5555, dtype: int64"
      ]
     },
     "execution_count": 27,
     "metadata": {},
     "output_type": "execute_result"
    }
   ],
   "source": [
    "# access to year\n",
    "df['Date'].dt.year"
   ]
  },
  {
   "cell_type": "code",
   "execution_count": 28,
   "metadata": {},
   "outputs": [
    {
     "data": {
      "text/plain": [
       "0       9\n",
       "1       9\n",
       "2       9\n",
       "3       9\n",
       "4       9\n",
       "       ..\n",
       "5550    1\n",
       "5551    1\n",
       "5552    1\n",
       "5553    1\n",
       "5554    1\n",
       "Name: Date, Length: 5555, dtype: int64"
      ]
     },
     "execution_count": 28,
     "metadata": {},
     "output_type": "execute_result"
    }
   ],
   "source": [
    "# access to month\n",
    "df['Date'].dt.month"
   ]
  },
  {
   "cell_type": "code",
   "execution_count": 29,
   "metadata": {},
   "outputs": [
    {
     "data": {
      "text/plain": [
       "0       1\n",
       "1       0\n",
       "2       4\n",
       "3       3\n",
       "4       2\n",
       "       ..\n",
       "5550    2\n",
       "5551    1\n",
       "5552    0\n",
       "5553    4\n",
       "5554    3\n",
       "Name: Date, Length: 5555, dtype: int64"
      ]
     },
     "execution_count": 29,
     "metadata": {},
     "output_type": "execute_result"
    }
   ],
   "source": [
    "# access to week days\n",
    "df['Date'].dt.weekday"
   ]
  },
  {
   "cell_type": "markdown",
   "metadata": {},
   "source": [
    "**Sélection de données temporelles**"
   ]
  },
  {
   "cell_type": "code",
   "execution_count": 30,
   "metadata": {},
   "outputs": [
    {
     "data": {
      "text/html": [
       "<div>\n",
       "<style scoped>\n",
       "    .dataframe tbody tr th:only-of-type {\n",
       "        vertical-align: middle;\n",
       "    }\n",
       "\n",
       "    .dataframe tbody tr th {\n",
       "        vertical-align: top;\n",
       "    }\n",
       "\n",
       "    .dataframe thead th {\n",
       "        text-align: right;\n",
       "    }\n",
       "</style>\n",
       "<table border=\"1\" class=\"dataframe\">\n",
       "  <thead>\n",
       "    <tr style=\"text-align: right;\">\n",
       "      <th></th>\n",
       "      <th>USD</th>\n",
       "      <th>CHF</th>\n",
       "      <th>GBP</th>\n",
       "      <th>JPY</th>\n",
       "      <th>RUB</th>\n",
       "      <th>CNY</th>\n",
       "    </tr>\n",
       "    <tr>\n",
       "      <th>Date</th>\n",
       "      <th></th>\n",
       "      <th></th>\n",
       "      <th></th>\n",
       "      <th></th>\n",
       "      <th></th>\n",
       "      <th></th>\n",
       "    </tr>\n",
       "  </thead>\n",
       "  <tbody>\n",
       "    <tr>\n",
       "      <th>2000-01-13</th>\n",
       "      <td>1.0276</td>\n",
       "      <td>1.6111</td>\n",
       "      <td>0.62550</td>\n",
       "      <td>108.89</td>\n",
       "      <td>29.4837</td>\n",
       "      <td>8.5054</td>\n",
       "    </tr>\n",
       "    <tr>\n",
       "      <th>2000-01-14</th>\n",
       "      <td>1.0225</td>\n",
       "      <td>1.6130</td>\n",
       "      <td>0.62210</td>\n",
       "      <td>108.05</td>\n",
       "      <td>29.2350</td>\n",
       "      <td>8.4632</td>\n",
       "    </tr>\n",
       "    <tr>\n",
       "      <th>2000-01-17</th>\n",
       "      <td>1.0094</td>\n",
       "      <td>1.6136</td>\n",
       "      <td>0.61800</td>\n",
       "      <td>105.81</td>\n",
       "      <td>28.9738</td>\n",
       "      <td>8.3548</td>\n",
       "    </tr>\n",
       "    <tr>\n",
       "      <th>2000-01-18</th>\n",
       "      <td>1.0093</td>\n",
       "      <td>1.6131</td>\n",
       "      <td>0.61740</td>\n",
       "      <td>106.42</td>\n",
       "      <td>28.8510</td>\n",
       "      <td>8.3540</td>\n",
       "    </tr>\n",
       "    <tr>\n",
       "      <th>2000-01-19</th>\n",
       "      <td>1.0105</td>\n",
       "      <td>1.6120</td>\n",
       "      <td>0.61720</td>\n",
       "      <td>106.99</td>\n",
       "      <td>28.8815</td>\n",
       "      <td>8.3639</td>\n",
       "    </tr>\n",
       "    <tr>\n",
       "      <th>...</th>\n",
       "      <td>...</td>\n",
       "      <td>...</td>\n",
       "      <td>...</td>\n",
       "      <td>...</td>\n",
       "      <td>...</td>\n",
       "      <td>...</td>\n",
       "    </tr>\n",
       "    <tr>\n",
       "      <th>2021-09-22</th>\n",
       "      <td>1.1729</td>\n",
       "      <td>1.0820</td>\n",
       "      <td>0.86000</td>\n",
       "      <td>128.50</td>\n",
       "      <td>85.3877</td>\n",
       "      <td>7.5850</td>\n",
       "    </tr>\n",
       "    <tr>\n",
       "      <th>2021-09-23</th>\n",
       "      <td>1.1715</td>\n",
       "      <td>1.0831</td>\n",
       "      <td>0.85495</td>\n",
       "      <td>128.88</td>\n",
       "      <td>85.2372</td>\n",
       "      <td>7.5643</td>\n",
       "    </tr>\n",
       "    <tr>\n",
       "      <th>2021-09-24</th>\n",
       "      <td>1.1719</td>\n",
       "      <td>1.0830</td>\n",
       "      <td>0.85703</td>\n",
       "      <td>129.49</td>\n",
       "      <td>85.5104</td>\n",
       "      <td>7.5803</td>\n",
       "    </tr>\n",
       "    <tr>\n",
       "      <th>2021-09-27</th>\n",
       "      <td>1.1698</td>\n",
       "      <td>1.0850</td>\n",
       "      <td>0.85420</td>\n",
       "      <td>129.74</td>\n",
       "      <td>84.9955</td>\n",
       "      <td>7.5609</td>\n",
       "    </tr>\n",
       "    <tr>\n",
       "      <th>2021-09-28</th>\n",
       "      <td>1.1678</td>\n",
       "      <td>1.0840</td>\n",
       "      <td>0.85950</td>\n",
       "      <td>130.17</td>\n",
       "      <td>84.7497</td>\n",
       "      <td>7.5433</td>\n",
       "    </tr>\n",
       "  </tbody>\n",
       "</table>\n",
       "<p>5555 rows × 6 columns</p>\n",
       "</div>"
      ],
      "text/plain": [
       "0              USD     CHF      GBP     JPY      RUB     CNY\n",
       "Date                                                        \n",
       "2000-01-13  1.0276  1.6111  0.62550  108.89  29.4837  8.5054\n",
       "2000-01-14  1.0225  1.6130  0.62210  108.05  29.2350  8.4632\n",
       "2000-01-17  1.0094  1.6136  0.61800  105.81  28.9738  8.3548\n",
       "2000-01-18  1.0093  1.6131  0.61740  106.42  28.8510  8.3540\n",
       "2000-01-19  1.0105  1.6120  0.61720  106.99  28.8815  8.3639\n",
       "...            ...     ...      ...     ...      ...     ...\n",
       "2021-09-22  1.1729  1.0820  0.86000  128.50  85.3877  7.5850\n",
       "2021-09-23  1.1715  1.0831  0.85495  128.88  85.2372  7.5643\n",
       "2021-09-24  1.1719  1.0830  0.85703  129.49  85.5104  7.5803\n",
       "2021-09-27  1.1698  1.0850  0.85420  129.74  84.9955  7.5609\n",
       "2021-09-28  1.1678  1.0840  0.85950  130.17  84.7497  7.5433\n",
       "\n",
       "[5555 rows x 6 columns]"
      ]
     },
     "execution_count": 30,
     "metadata": {},
     "output_type": "execute_result"
    }
   ],
   "source": [
    "# setting the index as a datetime object\n",
    "df = df.set_index('Date')\n",
    "df = df.sort_index()\n",
    "df"
   ]
  },
  {
   "cell_type": "code",
   "execution_count": 31,
   "metadata": {},
   "outputs": [
    {
     "data": {
      "text/html": [
       "<div>\n",
       "<style scoped>\n",
       "    .dataframe tbody tr th:only-of-type {\n",
       "        vertical-align: middle;\n",
       "    }\n",
       "\n",
       "    .dataframe tbody tr th {\n",
       "        vertical-align: top;\n",
       "    }\n",
       "\n",
       "    .dataframe thead th {\n",
       "        text-align: right;\n",
       "    }\n",
       "</style>\n",
       "<table border=\"1\" class=\"dataframe\">\n",
       "  <thead>\n",
       "    <tr style=\"text-align: right;\">\n",
       "      <th></th>\n",
       "      <th>USD</th>\n",
       "      <th>CHF</th>\n",
       "      <th>GBP</th>\n",
       "      <th>JPY</th>\n",
       "      <th>RUB</th>\n",
       "      <th>CNY</th>\n",
       "    </tr>\n",
       "    <tr>\n",
       "      <th>Date</th>\n",
       "      <th></th>\n",
       "      <th></th>\n",
       "      <th></th>\n",
       "      <th></th>\n",
       "      <th></th>\n",
       "      <th></th>\n",
       "    </tr>\n",
       "  </thead>\n",
       "  <tbody>\n",
       "    <tr>\n",
       "      <th>2021-01-04</th>\n",
       "      <td>1.2296</td>\n",
       "      <td>1.0811</td>\n",
       "      <td>0.90160</td>\n",
       "      <td>126.62</td>\n",
       "      <td>90.3420</td>\n",
       "      <td>7.9484</td>\n",
       "    </tr>\n",
       "    <tr>\n",
       "      <th>2021-01-05</th>\n",
       "      <td>1.2271</td>\n",
       "      <td>1.0803</td>\n",
       "      <td>0.90333</td>\n",
       "      <td>126.25</td>\n",
       "      <td>91.6715</td>\n",
       "      <td>7.9315</td>\n",
       "    </tr>\n",
       "    <tr>\n",
       "      <th>2021-01-06</th>\n",
       "      <td>1.2338</td>\n",
       "      <td>1.0821</td>\n",
       "      <td>0.90635</td>\n",
       "      <td>127.03</td>\n",
       "      <td>90.8175</td>\n",
       "      <td>7.9653</td>\n",
       "    </tr>\n",
       "    <tr>\n",
       "      <th>2021-01-07</th>\n",
       "      <td>1.2276</td>\n",
       "      <td>1.0833</td>\n",
       "      <td>0.90190</td>\n",
       "      <td>127.13</td>\n",
       "      <td>91.2000</td>\n",
       "      <td>7.9392</td>\n",
       "    </tr>\n",
       "    <tr>\n",
       "      <th>2021-01-08</th>\n",
       "      <td>1.2250</td>\n",
       "      <td>1.0827</td>\n",
       "      <td>0.90128</td>\n",
       "      <td>127.26</td>\n",
       "      <td>90.8000</td>\n",
       "      <td>7.9184</td>\n",
       "    </tr>\n",
       "    <tr>\n",
       "      <th>...</th>\n",
       "      <td>...</td>\n",
       "      <td>...</td>\n",
       "      <td>...</td>\n",
       "      <td>...</td>\n",
       "      <td>...</td>\n",
       "      <td>...</td>\n",
       "    </tr>\n",
       "    <tr>\n",
       "      <th>2021-09-22</th>\n",
       "      <td>1.1729</td>\n",
       "      <td>1.0820</td>\n",
       "      <td>0.86000</td>\n",
       "      <td>128.50</td>\n",
       "      <td>85.3877</td>\n",
       "      <td>7.5850</td>\n",
       "    </tr>\n",
       "    <tr>\n",
       "      <th>2021-09-23</th>\n",
       "      <td>1.1715</td>\n",
       "      <td>1.0831</td>\n",
       "      <td>0.85495</td>\n",
       "      <td>128.88</td>\n",
       "      <td>85.2372</td>\n",
       "      <td>7.5643</td>\n",
       "    </tr>\n",
       "    <tr>\n",
       "      <th>2021-09-24</th>\n",
       "      <td>1.1719</td>\n",
       "      <td>1.0830</td>\n",
       "      <td>0.85703</td>\n",
       "      <td>129.49</td>\n",
       "      <td>85.5104</td>\n",
       "      <td>7.5803</td>\n",
       "    </tr>\n",
       "    <tr>\n",
       "      <th>2021-09-27</th>\n",
       "      <td>1.1698</td>\n",
       "      <td>1.0850</td>\n",
       "      <td>0.85420</td>\n",
       "      <td>129.74</td>\n",
       "      <td>84.9955</td>\n",
       "      <td>7.5609</td>\n",
       "    </tr>\n",
       "    <tr>\n",
       "      <th>2021-09-28</th>\n",
       "      <td>1.1678</td>\n",
       "      <td>1.0840</td>\n",
       "      <td>0.85950</td>\n",
       "      <td>130.17</td>\n",
       "      <td>84.7497</td>\n",
       "      <td>7.5433</td>\n",
       "    </tr>\n",
       "  </tbody>\n",
       "</table>\n",
       "<p>190 rows × 6 columns</p>\n",
       "</div>"
      ],
      "text/plain": [
       "0              USD     CHF      GBP     JPY      RUB     CNY\n",
       "Date                                                        \n",
       "2021-01-04  1.2296  1.0811  0.90160  126.62  90.3420  7.9484\n",
       "2021-01-05  1.2271  1.0803  0.90333  126.25  91.6715  7.9315\n",
       "2021-01-06  1.2338  1.0821  0.90635  127.03  90.8175  7.9653\n",
       "2021-01-07  1.2276  1.0833  0.90190  127.13  91.2000  7.9392\n",
       "2021-01-08  1.2250  1.0827  0.90128  127.26  90.8000  7.9184\n",
       "...            ...     ...      ...     ...      ...     ...\n",
       "2021-09-22  1.1729  1.0820  0.86000  128.50  85.3877  7.5850\n",
       "2021-09-23  1.1715  1.0831  0.85495  128.88  85.2372  7.5643\n",
       "2021-09-24  1.1719  1.0830  0.85703  129.49  85.5104  7.5803\n",
       "2021-09-27  1.1698  1.0850  0.85420  129.74  84.9955  7.5609\n",
       "2021-09-28  1.1678  1.0840  0.85950  130.17  84.7497  7.5433\n",
       "\n",
       "[190 rows x 6 columns]"
      ]
     },
     "execution_count": 31,
     "metadata": {},
     "output_type": "execute_result"
    }
   ],
   "source": [
    "# yearly data\n",
    "df.loc['2021']"
   ]
  },
  {
   "cell_type": "code",
   "execution_count": 32,
   "metadata": {},
   "outputs": [
    {
     "data": {
      "text/html": [
       "<div>\n",
       "<style scoped>\n",
       "    .dataframe tbody tr th:only-of-type {\n",
       "        vertical-align: middle;\n",
       "    }\n",
       "\n",
       "    .dataframe tbody tr th {\n",
       "        vertical-align: top;\n",
       "    }\n",
       "\n",
       "    .dataframe thead th {\n",
       "        text-align: right;\n",
       "    }\n",
       "</style>\n",
       "<table border=\"1\" class=\"dataframe\">\n",
       "  <thead>\n",
       "    <tr style=\"text-align: right;\">\n",
       "      <th></th>\n",
       "      <th>USD</th>\n",
       "      <th>CHF</th>\n",
       "      <th>GBP</th>\n",
       "      <th>JPY</th>\n",
       "      <th>RUB</th>\n",
       "      <th>CNY</th>\n",
       "    </tr>\n",
       "    <tr>\n",
       "      <th>Date</th>\n",
       "      <th></th>\n",
       "      <th></th>\n",
       "      <th></th>\n",
       "      <th></th>\n",
       "      <th></th>\n",
       "      <th></th>\n",
       "    </tr>\n",
       "  </thead>\n",
       "  <tbody>\n",
       "    <tr>\n",
       "      <th>2020-01-02</th>\n",
       "      <td>1.1193</td>\n",
       "      <td>1.0865</td>\n",
       "      <td>0.84828</td>\n",
       "      <td>121.75</td>\n",
       "      <td>69.1893</td>\n",
       "      <td>7.7946</td>\n",
       "    </tr>\n",
       "    <tr>\n",
       "      <th>2020-01-03</th>\n",
       "      <td>1.1147</td>\n",
       "      <td>1.0840</td>\n",
       "      <td>0.85115</td>\n",
       "      <td>120.54</td>\n",
       "      <td>69.1190</td>\n",
       "      <td>7.7712</td>\n",
       "    </tr>\n",
       "    <tr>\n",
       "      <th>2020-01-06</th>\n",
       "      <td>1.1194</td>\n",
       "      <td>1.0850</td>\n",
       "      <td>0.85215</td>\n",
       "      <td>121.02</td>\n",
       "      <td>69.4047</td>\n",
       "      <td>7.8049</td>\n",
       "    </tr>\n",
       "    <tr>\n",
       "      <th>2020-01-07</th>\n",
       "      <td>1.1172</td>\n",
       "      <td>1.0850</td>\n",
       "      <td>0.85183</td>\n",
       "      <td>121.15</td>\n",
       "      <td>69.2576</td>\n",
       "      <td>7.7562</td>\n",
       "    </tr>\n",
       "    <tr>\n",
       "      <th>2020-01-08</th>\n",
       "      <td>1.1115</td>\n",
       "      <td>1.0792</td>\n",
       "      <td>0.84868</td>\n",
       "      <td>120.86</td>\n",
       "      <td>68.6389</td>\n",
       "      <td>7.7184</td>\n",
       "    </tr>\n",
       "    <tr>\n",
       "      <th>2020-01-09</th>\n",
       "      <td>1.1110</td>\n",
       "      <td>1.0808</td>\n",
       "      <td>0.85285</td>\n",
       "      <td>121.54</td>\n",
       "      <td>68.0757</td>\n",
       "      <td>7.7011</td>\n",
       "    </tr>\n",
       "    <tr>\n",
       "      <th>2020-01-10</th>\n",
       "      <td>1.1091</td>\n",
       "      <td>1.0822</td>\n",
       "      <td>0.84810</td>\n",
       "      <td>121.60</td>\n",
       "      <td>68.0410</td>\n",
       "      <td>7.6773</td>\n",
       "    </tr>\n",
       "    <tr>\n",
       "      <th>2020-01-13</th>\n",
       "      <td>1.1126</td>\n",
       "      <td>1.0811</td>\n",
       "      <td>0.85760</td>\n",
       "      <td>122.25</td>\n",
       "      <td>68.0893</td>\n",
       "      <td>7.6697</td>\n",
       "    </tr>\n",
       "    <tr>\n",
       "      <th>2020-01-14</th>\n",
       "      <td>1.1115</td>\n",
       "      <td>1.0767</td>\n",
       "      <td>0.85618</td>\n",
       "      <td>122.32</td>\n",
       "      <td>68.2418</td>\n",
       "      <td>7.6536</td>\n",
       "    </tr>\n",
       "    <tr>\n",
       "      <th>2020-01-15</th>\n",
       "      <td>1.1142</td>\n",
       "      <td>1.0751</td>\n",
       "      <td>0.85683</td>\n",
       "      <td>122.43</td>\n",
       "      <td>68.4386</td>\n",
       "      <td>7.6746</td>\n",
       "    </tr>\n",
       "    <tr>\n",
       "      <th>2020-01-16</th>\n",
       "      <td>1.1169</td>\n",
       "      <td>1.0739</td>\n",
       "      <td>0.85470</td>\n",
       "      <td>122.80</td>\n",
       "      <td>68.8102</td>\n",
       "      <td>7.6837</td>\n",
       "    </tr>\n",
       "    <tr>\n",
       "      <th>2020-01-17</th>\n",
       "      <td>1.1108</td>\n",
       "      <td>1.0736</td>\n",
       "      <td>0.85105</td>\n",
       "      <td>122.31</td>\n",
       "      <td>68.2495</td>\n",
       "      <td>7.6186</td>\n",
       "    </tr>\n",
       "    <tr>\n",
       "      <th>2020-01-20</th>\n",
       "      <td>1.1085</td>\n",
       "      <td>1.0737</td>\n",
       "      <td>0.85275</td>\n",
       "      <td>122.14</td>\n",
       "      <td>68.2075</td>\n",
       "      <td>7.6112</td>\n",
       "    </tr>\n",
       "    <tr>\n",
       "      <th>2020-01-21</th>\n",
       "      <td>1.1115</td>\n",
       "      <td>1.0743</td>\n",
       "      <td>0.85030</td>\n",
       "      <td>122.31</td>\n",
       "      <td>68.7300</td>\n",
       "      <td>7.6732</td>\n",
       "    </tr>\n",
       "    <tr>\n",
       "      <th>2020-01-22</th>\n",
       "      <td>1.1088</td>\n",
       "      <td>1.0757</td>\n",
       "      <td>0.84445</td>\n",
       "      <td>121.93</td>\n",
       "      <td>68.6934</td>\n",
       "      <td>7.6530</td>\n",
       "    </tr>\n",
       "    <tr>\n",
       "      <th>2020-01-23</th>\n",
       "      <td>1.1091</td>\n",
       "      <td>1.0734</td>\n",
       "      <td>0.84498</td>\n",
       "      <td>121.50</td>\n",
       "      <td>68.6301</td>\n",
       "      <td>7.6897</td>\n",
       "    </tr>\n",
       "    <tr>\n",
       "      <th>2020-01-24</th>\n",
       "      <td>1.1035</td>\n",
       "      <td>1.0712</td>\n",
       "      <td>0.84313</td>\n",
       "      <td>120.96</td>\n",
       "      <td>68.1692</td>\n",
       "      <td>7.6509</td>\n",
       "    </tr>\n",
       "    <tr>\n",
       "      <th>2020-01-27</th>\n",
       "      <td>1.1025</td>\n",
       "      <td>1.0689</td>\n",
       "      <td>0.84358</td>\n",
       "      <td>120.11</td>\n",
       "      <td>69.0442</td>\n",
       "      <td>7.6477</td>\n",
       "    </tr>\n",
       "    <tr>\n",
       "      <th>2020-01-28</th>\n",
       "      <td>1.1005</td>\n",
       "      <td>1.0703</td>\n",
       "      <td>0.84603</td>\n",
       "      <td>120.02</td>\n",
       "      <td>68.9032</td>\n",
       "      <td>7.6338</td>\n",
       "    </tr>\n",
       "    <tr>\n",
       "      <th>2020-01-29</th>\n",
       "      <td>1.1001</td>\n",
       "      <td>1.0729</td>\n",
       "      <td>0.84580</td>\n",
       "      <td>120.06</td>\n",
       "      <td>68.9755</td>\n",
       "      <td>7.6310</td>\n",
       "    </tr>\n",
       "    <tr>\n",
       "      <th>2020-01-30</th>\n",
       "      <td>1.1029</td>\n",
       "      <td>1.0690</td>\n",
       "      <td>0.84183</td>\n",
       "      <td>120.03</td>\n",
       "      <td>69.6719</td>\n",
       "      <td>7.6504</td>\n",
       "    </tr>\n",
       "    <tr>\n",
       "      <th>2020-01-31</th>\n",
       "      <td>1.1052</td>\n",
       "      <td>1.0694</td>\n",
       "      <td>0.84175</td>\n",
       "      <td>120.35</td>\n",
       "      <td>70.3375</td>\n",
       "      <td>7.6664</td>\n",
       "    </tr>\n",
       "  </tbody>\n",
       "</table>\n",
       "</div>"
      ],
      "text/plain": [
       "0              USD     CHF      GBP     JPY      RUB     CNY\n",
       "Date                                                        \n",
       "2020-01-02  1.1193  1.0865  0.84828  121.75  69.1893  7.7946\n",
       "2020-01-03  1.1147  1.0840  0.85115  120.54  69.1190  7.7712\n",
       "2020-01-06  1.1194  1.0850  0.85215  121.02  69.4047  7.8049\n",
       "2020-01-07  1.1172  1.0850  0.85183  121.15  69.2576  7.7562\n",
       "2020-01-08  1.1115  1.0792  0.84868  120.86  68.6389  7.7184\n",
       "2020-01-09  1.1110  1.0808  0.85285  121.54  68.0757  7.7011\n",
       "2020-01-10  1.1091  1.0822  0.84810  121.60  68.0410  7.6773\n",
       "2020-01-13  1.1126  1.0811  0.85760  122.25  68.0893  7.6697\n",
       "2020-01-14  1.1115  1.0767  0.85618  122.32  68.2418  7.6536\n",
       "2020-01-15  1.1142  1.0751  0.85683  122.43  68.4386  7.6746\n",
       "2020-01-16  1.1169  1.0739  0.85470  122.80  68.8102  7.6837\n",
       "2020-01-17  1.1108  1.0736  0.85105  122.31  68.2495  7.6186\n",
       "2020-01-20  1.1085  1.0737  0.85275  122.14  68.2075  7.6112\n",
       "2020-01-21  1.1115  1.0743  0.85030  122.31  68.7300  7.6732\n",
       "2020-01-22  1.1088  1.0757  0.84445  121.93  68.6934  7.6530\n",
       "2020-01-23  1.1091  1.0734  0.84498  121.50  68.6301  7.6897\n",
       "2020-01-24  1.1035  1.0712  0.84313  120.96  68.1692  7.6509\n",
       "2020-01-27  1.1025  1.0689  0.84358  120.11  69.0442  7.6477\n",
       "2020-01-28  1.1005  1.0703  0.84603  120.02  68.9032  7.6338\n",
       "2020-01-29  1.1001  1.0729  0.84580  120.06  68.9755  7.6310\n",
       "2020-01-30  1.1029  1.0690  0.84183  120.03  69.6719  7.6504\n",
       "2020-01-31  1.1052  1.0694  0.84175  120.35  70.3375  7.6664"
      ]
     },
     "execution_count": 32,
     "metadata": {},
     "output_type": "execute_result"
    }
   ],
   "source": [
    "# monthly data\n",
    "df.loc['2020/01'] # or df.loc['01/2020']"
   ]
  },
  {
   "cell_type": "code",
   "execution_count": 33,
   "metadata": {},
   "outputs": [
    {
     "data": {
      "text/html": [
       "<div>\n",
       "<style scoped>\n",
       "    .dataframe tbody tr th:only-of-type {\n",
       "        vertical-align: middle;\n",
       "    }\n",
       "\n",
       "    .dataframe tbody tr th {\n",
       "        vertical-align: top;\n",
       "    }\n",
       "\n",
       "    .dataframe thead th {\n",
       "        text-align: right;\n",
       "    }\n",
       "</style>\n",
       "<table border=\"1\" class=\"dataframe\">\n",
       "  <thead>\n",
       "    <tr style=\"text-align: right;\">\n",
       "      <th></th>\n",
       "      <th>USD</th>\n",
       "      <th>CHF</th>\n",
       "      <th>GBP</th>\n",
       "      <th>JPY</th>\n",
       "      <th>RUB</th>\n",
       "      <th>CNY</th>\n",
       "    </tr>\n",
       "    <tr>\n",
       "      <th>Date</th>\n",
       "      <th></th>\n",
       "      <th></th>\n",
       "      <th></th>\n",
       "      <th></th>\n",
       "      <th></th>\n",
       "      <th></th>\n",
       "    </tr>\n",
       "  </thead>\n",
       "  <tbody>\n",
       "    <tr>\n",
       "      <th>2019-12-02</th>\n",
       "      <td>1.1023</td>\n",
       "      <td>1.0995</td>\n",
       "      <td>0.85218</td>\n",
       "      <td>120.75</td>\n",
       "      <td>70.9217</td>\n",
       "      <td>7.7625</td>\n",
       "    </tr>\n",
       "    <tr>\n",
       "      <th>2019-12-03</th>\n",
       "      <td>1.1071</td>\n",
       "      <td>1.0947</td>\n",
       "      <td>0.85200</td>\n",
       "      <td>120.39</td>\n",
       "      <td>71.0634</td>\n",
       "      <td>7.8140</td>\n",
       "    </tr>\n",
       "    <tr>\n",
       "      <th>2019-12-04</th>\n",
       "      <td>1.1081</td>\n",
       "      <td>1.0956</td>\n",
       "      <td>0.84610</td>\n",
       "      <td>120.45</td>\n",
       "      <td>70.7959</td>\n",
       "      <td>7.8149</td>\n",
       "    </tr>\n",
       "    <tr>\n",
       "      <th>2019-12-05</th>\n",
       "      <td>1.1094</td>\n",
       "      <td>1.0964</td>\n",
       "      <td>0.84470</td>\n",
       "      <td>120.69</td>\n",
       "      <td>70.7798</td>\n",
       "      <td>7.8125</td>\n",
       "    </tr>\n",
       "    <tr>\n",
       "      <th>2019-12-06</th>\n",
       "      <td>1.1094</td>\n",
       "      <td>1.0968</td>\n",
       "      <td>0.84453</td>\n",
       "      <td>120.44</td>\n",
       "      <td>70.7441</td>\n",
       "      <td>7.7993</td>\n",
       "    </tr>\n",
       "    <tr>\n",
       "      <th>2019-12-09</th>\n",
       "      <td>1.1075</td>\n",
       "      <td>1.0959</td>\n",
       "      <td>0.84195</td>\n",
       "      <td>120.15</td>\n",
       "      <td>70.5731</td>\n",
       "      <td>7.7960</td>\n",
       "    </tr>\n",
       "    <tr>\n",
       "      <th>2019-12-10</th>\n",
       "      <td>1.1077</td>\n",
       "      <td>1.0922</td>\n",
       "      <td>0.84073</td>\n",
       "      <td>120.27</td>\n",
       "      <td>70.4627</td>\n",
       "      <td>7.7968</td>\n",
       "    </tr>\n",
       "    <tr>\n",
       "      <th>2019-12-11</th>\n",
       "      <td>1.1075</td>\n",
       "      <td>1.0916</td>\n",
       "      <td>0.84245</td>\n",
       "      <td>120.44</td>\n",
       "      <td>70.3925</td>\n",
       "      <td>7.7960</td>\n",
       "    </tr>\n",
       "    <tr>\n",
       "      <th>2019-12-12</th>\n",
       "      <td>1.1137</td>\n",
       "      <td>1.0939</td>\n",
       "      <td>0.84560</td>\n",
       "      <td>120.95</td>\n",
       "      <td>70.0885</td>\n",
       "      <td>7.8374</td>\n",
       "    </tr>\n",
       "    <tr>\n",
       "      <th>2019-12-13</th>\n",
       "      <td>1.1174</td>\n",
       "      <td>1.0982</td>\n",
       "      <td>0.83508</td>\n",
       "      <td>122.43</td>\n",
       "      <td>69.9930</td>\n",
       "      <td>7.7900</td>\n",
       "    </tr>\n",
       "    <tr>\n",
       "      <th>2019-12-16</th>\n",
       "      <td>1.1146</td>\n",
       "      <td>1.0953</td>\n",
       "      <td>0.83415</td>\n",
       "      <td>121.97</td>\n",
       "      <td>69.8317</td>\n",
       "      <td>7.8025</td>\n",
       "    </tr>\n",
       "    <tr>\n",
       "      <th>2019-12-17</th>\n",
       "      <td>1.1162</td>\n",
       "      <td>1.0946</td>\n",
       "      <td>0.84748</td>\n",
       "      <td>122.31</td>\n",
       "      <td>69.8758</td>\n",
       "      <td>7.8090</td>\n",
       "    </tr>\n",
       "    <tr>\n",
       "      <th>2019-12-18</th>\n",
       "      <td>1.1115</td>\n",
       "      <td>1.0913</td>\n",
       "      <td>0.85055</td>\n",
       "      <td>121.81</td>\n",
       "      <td>69.5288</td>\n",
       "      <td>7.7783</td>\n",
       "    </tr>\n",
       "    <tr>\n",
       "      <th>2019-12-19</th>\n",
       "      <td>1.1117</td>\n",
       "      <td>1.0899</td>\n",
       "      <td>0.85073</td>\n",
       "      <td>121.73</td>\n",
       "      <td>69.4593</td>\n",
       "      <td>7.7931</td>\n",
       "    </tr>\n",
       "    <tr>\n",
       "      <th>2019-12-20</th>\n",
       "      <td>1.1097</td>\n",
       "      <td>1.0883</td>\n",
       "      <td>0.85133</td>\n",
       "      <td>121.31</td>\n",
       "      <td>68.9657</td>\n",
       "      <td>7.7764</td>\n",
       "    </tr>\n",
       "    <tr>\n",
       "      <th>2019-12-23</th>\n",
       "      <td>1.1075</td>\n",
       "      <td>1.0870</td>\n",
       "      <td>0.85708</td>\n",
       "      <td>121.18</td>\n",
       "      <td>69.0297</td>\n",
       "      <td>7.7652</td>\n",
       "    </tr>\n",
       "    <tr>\n",
       "      <th>2019-12-24</th>\n",
       "      <td>1.1080</td>\n",
       "      <td>1.0878</td>\n",
       "      <td>0.85533</td>\n",
       "      <td>121.19</td>\n",
       "      <td>68.7932</td>\n",
       "      <td>7.7643</td>\n",
       "    </tr>\n",
       "    <tr>\n",
       "      <th>2019-12-27</th>\n",
       "      <td>1.1153</td>\n",
       "      <td>1.0890</td>\n",
       "      <td>0.85130</td>\n",
       "      <td>122.23</td>\n",
       "      <td>69.2013</td>\n",
       "      <td>7.8025</td>\n",
       "    </tr>\n",
       "    <tr>\n",
       "      <th>2019-12-30</th>\n",
       "      <td>1.1189</td>\n",
       "      <td>1.0871</td>\n",
       "      <td>0.85208</td>\n",
       "      <td>122.19</td>\n",
       "      <td>69.2781</td>\n",
       "      <td>7.8175</td>\n",
       "    </tr>\n",
       "    <tr>\n",
       "      <th>2019-12-31</th>\n",
       "      <td>1.1234</td>\n",
       "      <td>1.0854</td>\n",
       "      <td>0.85080</td>\n",
       "      <td>121.94</td>\n",
       "      <td>69.9563</td>\n",
       "      <td>7.8205</td>\n",
       "    </tr>\n",
       "    <tr>\n",
       "      <th>2020-01-02</th>\n",
       "      <td>1.1193</td>\n",
       "      <td>1.0865</td>\n",
       "      <td>0.84828</td>\n",
       "      <td>121.75</td>\n",
       "      <td>69.1893</td>\n",
       "      <td>7.7946</td>\n",
       "    </tr>\n",
       "    <tr>\n",
       "      <th>2020-01-03</th>\n",
       "      <td>1.1147</td>\n",
       "      <td>1.0840</td>\n",
       "      <td>0.85115</td>\n",
       "      <td>120.54</td>\n",
       "      <td>69.1190</td>\n",
       "      <td>7.7712</td>\n",
       "    </tr>\n",
       "    <tr>\n",
       "      <th>2020-01-06</th>\n",
       "      <td>1.1194</td>\n",
       "      <td>1.0850</td>\n",
       "      <td>0.85215</td>\n",
       "      <td>121.02</td>\n",
       "      <td>69.4047</td>\n",
       "      <td>7.8049</td>\n",
       "    </tr>\n",
       "    <tr>\n",
       "      <th>2020-01-07</th>\n",
       "      <td>1.1172</td>\n",
       "      <td>1.0850</td>\n",
       "      <td>0.85183</td>\n",
       "      <td>121.15</td>\n",
       "      <td>69.2576</td>\n",
       "      <td>7.7562</td>\n",
       "    </tr>\n",
       "    <tr>\n",
       "      <th>2020-01-08</th>\n",
       "      <td>1.1115</td>\n",
       "      <td>1.0792</td>\n",
       "      <td>0.84868</td>\n",
       "      <td>120.86</td>\n",
       "      <td>68.6389</td>\n",
       "      <td>7.7184</td>\n",
       "    </tr>\n",
       "    <tr>\n",
       "      <th>2020-01-09</th>\n",
       "      <td>1.1110</td>\n",
       "      <td>1.0808</td>\n",
       "      <td>0.85285</td>\n",
       "      <td>121.54</td>\n",
       "      <td>68.0757</td>\n",
       "      <td>7.7011</td>\n",
       "    </tr>\n",
       "    <tr>\n",
       "      <th>2020-01-10</th>\n",
       "      <td>1.1091</td>\n",
       "      <td>1.0822</td>\n",
       "      <td>0.84810</td>\n",
       "      <td>121.60</td>\n",
       "      <td>68.0410</td>\n",
       "      <td>7.6773</td>\n",
       "    </tr>\n",
       "    <tr>\n",
       "      <th>2020-01-13</th>\n",
       "      <td>1.1126</td>\n",
       "      <td>1.0811</td>\n",
       "      <td>0.85760</td>\n",
       "      <td>122.25</td>\n",
       "      <td>68.0893</td>\n",
       "      <td>7.6697</td>\n",
       "    </tr>\n",
       "    <tr>\n",
       "      <th>2020-01-14</th>\n",
       "      <td>1.1115</td>\n",
       "      <td>1.0767</td>\n",
       "      <td>0.85618</td>\n",
       "      <td>122.32</td>\n",
       "      <td>68.2418</td>\n",
       "      <td>7.6536</td>\n",
       "    </tr>\n",
       "    <tr>\n",
       "      <th>2020-01-15</th>\n",
       "      <td>1.1142</td>\n",
       "      <td>1.0751</td>\n",
       "      <td>0.85683</td>\n",
       "      <td>122.43</td>\n",
       "      <td>68.4386</td>\n",
       "      <td>7.6746</td>\n",
       "    </tr>\n",
       "    <tr>\n",
       "      <th>2020-01-16</th>\n",
       "      <td>1.1169</td>\n",
       "      <td>1.0739</td>\n",
       "      <td>0.85470</td>\n",
       "      <td>122.80</td>\n",
       "      <td>68.8102</td>\n",
       "      <td>7.6837</td>\n",
       "    </tr>\n",
       "    <tr>\n",
       "      <th>2020-01-17</th>\n",
       "      <td>1.1108</td>\n",
       "      <td>1.0736</td>\n",
       "      <td>0.85105</td>\n",
       "      <td>122.31</td>\n",
       "      <td>68.2495</td>\n",
       "      <td>7.6186</td>\n",
       "    </tr>\n",
       "    <tr>\n",
       "      <th>2020-01-20</th>\n",
       "      <td>1.1085</td>\n",
       "      <td>1.0737</td>\n",
       "      <td>0.85275</td>\n",
       "      <td>122.14</td>\n",
       "      <td>68.2075</td>\n",
       "      <td>7.6112</td>\n",
       "    </tr>\n",
       "    <tr>\n",
       "      <th>2020-01-21</th>\n",
       "      <td>1.1115</td>\n",
       "      <td>1.0743</td>\n",
       "      <td>0.85030</td>\n",
       "      <td>122.31</td>\n",
       "      <td>68.7300</td>\n",
       "      <td>7.6732</td>\n",
       "    </tr>\n",
       "    <tr>\n",
       "      <th>2020-01-22</th>\n",
       "      <td>1.1088</td>\n",
       "      <td>1.0757</td>\n",
       "      <td>0.84445</td>\n",
       "      <td>121.93</td>\n",
       "      <td>68.6934</td>\n",
       "      <td>7.6530</td>\n",
       "    </tr>\n",
       "    <tr>\n",
       "      <th>2020-01-23</th>\n",
       "      <td>1.1091</td>\n",
       "      <td>1.0734</td>\n",
       "      <td>0.84498</td>\n",
       "      <td>121.50</td>\n",
       "      <td>68.6301</td>\n",
       "      <td>7.6897</td>\n",
       "    </tr>\n",
       "    <tr>\n",
       "      <th>2020-01-24</th>\n",
       "      <td>1.1035</td>\n",
       "      <td>1.0712</td>\n",
       "      <td>0.84313</td>\n",
       "      <td>120.96</td>\n",
       "      <td>68.1692</td>\n",
       "      <td>7.6509</td>\n",
       "    </tr>\n",
       "    <tr>\n",
       "      <th>2020-01-27</th>\n",
       "      <td>1.1025</td>\n",
       "      <td>1.0689</td>\n",
       "      <td>0.84358</td>\n",
       "      <td>120.11</td>\n",
       "      <td>69.0442</td>\n",
       "      <td>7.6477</td>\n",
       "    </tr>\n",
       "    <tr>\n",
       "      <th>2020-01-28</th>\n",
       "      <td>1.1005</td>\n",
       "      <td>1.0703</td>\n",
       "      <td>0.84603</td>\n",
       "      <td>120.02</td>\n",
       "      <td>68.9032</td>\n",
       "      <td>7.6338</td>\n",
       "    </tr>\n",
       "    <tr>\n",
       "      <th>2020-01-29</th>\n",
       "      <td>1.1001</td>\n",
       "      <td>1.0729</td>\n",
       "      <td>0.84580</td>\n",
       "      <td>120.06</td>\n",
       "      <td>68.9755</td>\n",
       "      <td>7.6310</td>\n",
       "    </tr>\n",
       "    <tr>\n",
       "      <th>2020-01-30</th>\n",
       "      <td>1.1029</td>\n",
       "      <td>1.0690</td>\n",
       "      <td>0.84183</td>\n",
       "      <td>120.03</td>\n",
       "      <td>69.6719</td>\n",
       "      <td>7.6504</td>\n",
       "    </tr>\n",
       "    <tr>\n",
       "      <th>2020-01-31</th>\n",
       "      <td>1.1052</td>\n",
       "      <td>1.0694</td>\n",
       "      <td>0.84175</td>\n",
       "      <td>120.35</td>\n",
       "      <td>70.3375</td>\n",
       "      <td>7.6664</td>\n",
       "    </tr>\n",
       "  </tbody>\n",
       "</table>\n",
       "</div>"
      ],
      "text/plain": [
       "0              USD     CHF      GBP     JPY      RUB     CNY\n",
       "Date                                                        \n",
       "2019-12-02  1.1023  1.0995  0.85218  120.75  70.9217  7.7625\n",
       "2019-12-03  1.1071  1.0947  0.85200  120.39  71.0634  7.8140\n",
       "2019-12-04  1.1081  1.0956  0.84610  120.45  70.7959  7.8149\n",
       "2019-12-05  1.1094  1.0964  0.84470  120.69  70.7798  7.8125\n",
       "2019-12-06  1.1094  1.0968  0.84453  120.44  70.7441  7.7993\n",
       "2019-12-09  1.1075  1.0959  0.84195  120.15  70.5731  7.7960\n",
       "2019-12-10  1.1077  1.0922  0.84073  120.27  70.4627  7.7968\n",
       "2019-12-11  1.1075  1.0916  0.84245  120.44  70.3925  7.7960\n",
       "2019-12-12  1.1137  1.0939  0.84560  120.95  70.0885  7.8374\n",
       "2019-12-13  1.1174  1.0982  0.83508  122.43  69.9930  7.7900\n",
       "2019-12-16  1.1146  1.0953  0.83415  121.97  69.8317  7.8025\n",
       "2019-12-17  1.1162  1.0946  0.84748  122.31  69.8758  7.8090\n",
       "2019-12-18  1.1115  1.0913  0.85055  121.81  69.5288  7.7783\n",
       "2019-12-19  1.1117  1.0899  0.85073  121.73  69.4593  7.7931\n",
       "2019-12-20  1.1097  1.0883  0.85133  121.31  68.9657  7.7764\n",
       "2019-12-23  1.1075  1.0870  0.85708  121.18  69.0297  7.7652\n",
       "2019-12-24  1.1080  1.0878  0.85533  121.19  68.7932  7.7643\n",
       "2019-12-27  1.1153  1.0890  0.85130  122.23  69.2013  7.8025\n",
       "2019-12-30  1.1189  1.0871  0.85208  122.19  69.2781  7.8175\n",
       "2019-12-31  1.1234  1.0854  0.85080  121.94  69.9563  7.8205\n",
       "2020-01-02  1.1193  1.0865  0.84828  121.75  69.1893  7.7946\n",
       "2020-01-03  1.1147  1.0840  0.85115  120.54  69.1190  7.7712\n",
       "2020-01-06  1.1194  1.0850  0.85215  121.02  69.4047  7.8049\n",
       "2020-01-07  1.1172  1.0850  0.85183  121.15  69.2576  7.7562\n",
       "2020-01-08  1.1115  1.0792  0.84868  120.86  68.6389  7.7184\n",
       "2020-01-09  1.1110  1.0808  0.85285  121.54  68.0757  7.7011\n",
       "2020-01-10  1.1091  1.0822  0.84810  121.60  68.0410  7.6773\n",
       "2020-01-13  1.1126  1.0811  0.85760  122.25  68.0893  7.6697\n",
       "2020-01-14  1.1115  1.0767  0.85618  122.32  68.2418  7.6536\n",
       "2020-01-15  1.1142  1.0751  0.85683  122.43  68.4386  7.6746\n",
       "2020-01-16  1.1169  1.0739  0.85470  122.80  68.8102  7.6837\n",
       "2020-01-17  1.1108  1.0736  0.85105  122.31  68.2495  7.6186\n",
       "2020-01-20  1.1085  1.0737  0.85275  122.14  68.2075  7.6112\n",
       "2020-01-21  1.1115  1.0743  0.85030  122.31  68.7300  7.6732\n",
       "2020-01-22  1.1088  1.0757  0.84445  121.93  68.6934  7.6530\n",
       "2020-01-23  1.1091  1.0734  0.84498  121.50  68.6301  7.6897\n",
       "2020-01-24  1.1035  1.0712  0.84313  120.96  68.1692  7.6509\n",
       "2020-01-27  1.1025  1.0689  0.84358  120.11  69.0442  7.6477\n",
       "2020-01-28  1.1005  1.0703  0.84603  120.02  68.9032  7.6338\n",
       "2020-01-29  1.1001  1.0729  0.84580  120.06  68.9755  7.6310\n",
       "2020-01-30  1.1029  1.0690  0.84183  120.03  69.6719  7.6504\n",
       "2020-01-31  1.1052  1.0694  0.84175  120.35  70.3375  7.6664"
      ]
     },
     "execution_count": 33,
     "metadata": {},
     "output_type": "execute_result"
    }
   ],
   "source": [
    "# slice selection\n",
    "df.loc['12/2019':'01/2020']"
   ]
  },
  {
   "cell_type": "markdown",
   "metadata": {},
   "source": [
    "### Réindexation temporelle\n",
    "\n",
    "La fonction date_range() permet de construire un nouvel index sur la base de limites et d'une fréquence donnée."
   ]
  },
  {
   "cell_type": "code",
   "execution_count": 34,
   "metadata": {},
   "outputs": [
    {
     "data": {
      "text/plain": [
       "DatetimeIndex(['2000-01-13', '2000-01-14', '2000-01-15', '2000-01-16',\n",
       "               '2000-01-17', '2000-01-18', '2000-01-19', '2000-01-20',\n",
       "               '2000-01-21', '2000-01-22',\n",
       "               ...\n",
       "               '2021-09-19', '2021-09-20', '2021-09-21', '2021-09-22',\n",
       "               '2021-09-23', '2021-09-24', '2021-09-25', '2021-09-26',\n",
       "               '2021-09-27', '2021-09-28'],\n",
       "              dtype='datetime64[ns]', length=7930, freq='D')"
      ]
     },
     "execution_count": 34,
     "metadata": {},
     "output_type": "execute_result"
    }
   ],
   "source": [
    "# nouvel index avec toutes les dates\n",
    "newindex = pd.date_range(start=df.index[0], end=df.index[-1], freq='D')\n",
    "newindex"
   ]
  },
  {
   "cell_type": "markdown",
   "metadata": {},
   "source": [
    "La méthode reindex() va produire un nouveau DataFrame avec des valeurs manquantes si le nouvel index comprend des valeurs nouvelles."
   ]
  },
  {
   "cell_type": "code",
   "execution_count": 35,
   "metadata": {},
   "outputs": [
    {
     "data": {
      "text/html": [
       "<div>\n",
       "<style scoped>\n",
       "    .dataframe tbody tr th:only-of-type {\n",
       "        vertical-align: middle;\n",
       "    }\n",
       "\n",
       "    .dataframe tbody tr th {\n",
       "        vertical-align: top;\n",
       "    }\n",
       "\n",
       "    .dataframe thead th {\n",
       "        text-align: right;\n",
       "    }\n",
       "</style>\n",
       "<table border=\"1\" class=\"dataframe\">\n",
       "  <thead>\n",
       "    <tr style=\"text-align: right;\">\n",
       "      <th></th>\n",
       "      <th>USD</th>\n",
       "      <th>CHF</th>\n",
       "      <th>GBP</th>\n",
       "      <th>JPY</th>\n",
       "      <th>RUB</th>\n",
       "      <th>CNY</th>\n",
       "    </tr>\n",
       "  </thead>\n",
       "  <tbody>\n",
       "    <tr>\n",
       "      <th>2000-01-13</th>\n",
       "      <td>1.0276</td>\n",
       "      <td>1.6111</td>\n",
       "      <td>0.6255</td>\n",
       "      <td>108.89</td>\n",
       "      <td>29.4837</td>\n",
       "      <td>8.5054</td>\n",
       "    </tr>\n",
       "    <tr>\n",
       "      <th>2000-01-14</th>\n",
       "      <td>1.0225</td>\n",
       "      <td>1.6130</td>\n",
       "      <td>0.6221</td>\n",
       "      <td>108.05</td>\n",
       "      <td>29.2350</td>\n",
       "      <td>8.4632</td>\n",
       "    </tr>\n",
       "    <tr>\n",
       "      <th>2000-01-15</th>\n",
       "      <td>NaN</td>\n",
       "      <td>NaN</td>\n",
       "      <td>NaN</td>\n",
       "      <td>NaN</td>\n",
       "      <td>NaN</td>\n",
       "      <td>NaN</td>\n",
       "    </tr>\n",
       "    <tr>\n",
       "      <th>2000-01-16</th>\n",
       "      <td>NaN</td>\n",
       "      <td>NaN</td>\n",
       "      <td>NaN</td>\n",
       "      <td>NaN</td>\n",
       "      <td>NaN</td>\n",
       "      <td>NaN</td>\n",
       "    </tr>\n",
       "    <tr>\n",
       "      <th>2000-01-17</th>\n",
       "      <td>1.0094</td>\n",
       "      <td>1.6136</td>\n",
       "      <td>0.6180</td>\n",
       "      <td>105.81</td>\n",
       "      <td>28.9738</td>\n",
       "      <td>8.3548</td>\n",
       "    </tr>\n",
       "  </tbody>\n",
       "</table>\n",
       "</div>"
      ],
      "text/plain": [
       "0              USD     CHF     GBP     JPY      RUB     CNY\n",
       "2000-01-13  1.0276  1.6111  0.6255  108.89  29.4837  8.5054\n",
       "2000-01-14  1.0225  1.6130  0.6221  108.05  29.2350  8.4632\n",
       "2000-01-15     NaN     NaN     NaN     NaN      NaN     NaN\n",
       "2000-01-16     NaN     NaN     NaN     NaN      NaN     NaN\n",
       "2000-01-17  1.0094  1.6136  0.6180  105.81  28.9738  8.3548"
      ]
     },
     "execution_count": 35,
     "metadata": {},
     "output_type": "execute_result"
    }
   ],
   "source": [
    "# réindexation temporelle\n",
    "var = df.reindex(newindex)\n",
    "var.head()"
   ]
  },
  {
   "cell_type": "markdown",
   "metadata": {},
   "source": [
    "Différentes méthodes permettent de combler les valeurs manquantes."
   ]
  },
  {
   "cell_type": "code",
   "execution_count": 36,
   "metadata": {},
   "outputs": [
    {
     "data": {
      "text/html": [
       "<div>\n",
       "<style scoped>\n",
       "    .dataframe tbody tr th:only-of-type {\n",
       "        vertical-align: middle;\n",
       "    }\n",
       "\n",
       "    .dataframe tbody tr th {\n",
       "        vertical-align: top;\n",
       "    }\n",
       "\n",
       "    .dataframe thead th {\n",
       "        text-align: right;\n",
       "    }\n",
       "</style>\n",
       "<table border=\"1\" class=\"dataframe\">\n",
       "  <thead>\n",
       "    <tr style=\"text-align: right;\">\n",
       "      <th></th>\n",
       "      <th>USD</th>\n",
       "      <th>CHF</th>\n",
       "      <th>GBP</th>\n",
       "      <th>JPY</th>\n",
       "      <th>RUB</th>\n",
       "      <th>CNY</th>\n",
       "    </tr>\n",
       "  </thead>\n",
       "  <tbody>\n",
       "    <tr>\n",
       "      <th>2000-01-13</th>\n",
       "      <td>1.0276</td>\n",
       "      <td>1.6111</td>\n",
       "      <td>0.6255</td>\n",
       "      <td>108.89</td>\n",
       "      <td>29.4837</td>\n",
       "      <td>8.5054</td>\n",
       "    </tr>\n",
       "    <tr>\n",
       "      <th>2000-01-14</th>\n",
       "      <td>1.0225</td>\n",
       "      <td>1.6130</td>\n",
       "      <td>0.6221</td>\n",
       "      <td>108.05</td>\n",
       "      <td>29.2350</td>\n",
       "      <td>8.4632</td>\n",
       "    </tr>\n",
       "    <tr>\n",
       "      <th>2000-01-15</th>\n",
       "      <td>1.0225</td>\n",
       "      <td>1.6130</td>\n",
       "      <td>0.6221</td>\n",
       "      <td>108.05</td>\n",
       "      <td>29.2350</td>\n",
       "      <td>8.4632</td>\n",
       "    </tr>\n",
       "    <tr>\n",
       "      <th>2000-01-16</th>\n",
       "      <td>1.0225</td>\n",
       "      <td>1.6130</td>\n",
       "      <td>0.6221</td>\n",
       "      <td>108.05</td>\n",
       "      <td>29.2350</td>\n",
       "      <td>8.4632</td>\n",
       "    </tr>\n",
       "    <tr>\n",
       "      <th>2000-01-17</th>\n",
       "      <td>1.0094</td>\n",
       "      <td>1.6136</td>\n",
       "      <td>0.6180</td>\n",
       "      <td>105.81</td>\n",
       "      <td>28.9738</td>\n",
       "      <td>8.3548</td>\n",
       "    </tr>\n",
       "  </tbody>\n",
       "</table>\n",
       "</div>"
      ],
      "text/plain": [
       "0              USD     CHF     GBP     JPY      RUB     CNY\n",
       "2000-01-13  1.0276  1.6111  0.6255  108.89  29.4837  8.5054\n",
       "2000-01-14  1.0225  1.6130  0.6221  108.05  29.2350  8.4632\n",
       "2000-01-15  1.0225  1.6130  0.6221  108.05  29.2350  8.4632\n",
       "2000-01-16  1.0225  1.6130  0.6221  108.05  29.2350  8.4632\n",
       "2000-01-17  1.0094  1.6136  0.6180  105.81  28.9738  8.3548"
      ]
     },
     "execution_count": 36,
     "metadata": {},
     "output_type": "execute_result"
    }
   ],
   "source": [
    "# fillna forward\n",
    "var.fillna(method='ffill').head()"
   ]
  },
  {
   "cell_type": "code",
   "execution_count": 37,
   "metadata": {},
   "outputs": [
    {
     "data": {
      "text/html": [
       "<div>\n",
       "<style scoped>\n",
       "    .dataframe tbody tr th:only-of-type {\n",
       "        vertical-align: middle;\n",
       "    }\n",
       "\n",
       "    .dataframe tbody tr th {\n",
       "        vertical-align: top;\n",
       "    }\n",
       "\n",
       "    .dataframe thead th {\n",
       "        text-align: right;\n",
       "    }\n",
       "</style>\n",
       "<table border=\"1\" class=\"dataframe\">\n",
       "  <thead>\n",
       "    <tr style=\"text-align: right;\">\n",
       "      <th></th>\n",
       "      <th>USD</th>\n",
       "      <th>CHF</th>\n",
       "      <th>GBP</th>\n",
       "      <th>JPY</th>\n",
       "      <th>RUB</th>\n",
       "      <th>CNY</th>\n",
       "    </tr>\n",
       "  </thead>\n",
       "  <tbody>\n",
       "    <tr>\n",
       "      <th>2000-01-13</th>\n",
       "      <td>1.0276</td>\n",
       "      <td>1.6111</td>\n",
       "      <td>0.6255</td>\n",
       "      <td>108.89</td>\n",
       "      <td>29.4837</td>\n",
       "      <td>8.5054</td>\n",
       "    </tr>\n",
       "    <tr>\n",
       "      <th>2000-01-14</th>\n",
       "      <td>1.0225</td>\n",
       "      <td>1.6130</td>\n",
       "      <td>0.6221</td>\n",
       "      <td>108.05</td>\n",
       "      <td>29.2350</td>\n",
       "      <td>8.4632</td>\n",
       "    </tr>\n",
       "    <tr>\n",
       "      <th>2000-01-15</th>\n",
       "      <td>1.0094</td>\n",
       "      <td>1.6136</td>\n",
       "      <td>0.6180</td>\n",
       "      <td>105.81</td>\n",
       "      <td>28.9738</td>\n",
       "      <td>8.3548</td>\n",
       "    </tr>\n",
       "    <tr>\n",
       "      <th>2000-01-16</th>\n",
       "      <td>1.0094</td>\n",
       "      <td>1.6136</td>\n",
       "      <td>0.6180</td>\n",
       "      <td>105.81</td>\n",
       "      <td>28.9738</td>\n",
       "      <td>8.3548</td>\n",
       "    </tr>\n",
       "    <tr>\n",
       "      <th>2000-01-17</th>\n",
       "      <td>1.0094</td>\n",
       "      <td>1.6136</td>\n",
       "      <td>0.6180</td>\n",
       "      <td>105.81</td>\n",
       "      <td>28.9738</td>\n",
       "      <td>8.3548</td>\n",
       "    </tr>\n",
       "  </tbody>\n",
       "</table>\n",
       "</div>"
      ],
      "text/plain": [
       "0              USD     CHF     GBP     JPY      RUB     CNY\n",
       "2000-01-13  1.0276  1.6111  0.6255  108.89  29.4837  8.5054\n",
       "2000-01-14  1.0225  1.6130  0.6221  108.05  29.2350  8.4632\n",
       "2000-01-15  1.0094  1.6136  0.6180  105.81  28.9738  8.3548\n",
       "2000-01-16  1.0094  1.6136  0.6180  105.81  28.9738  8.3548\n",
       "2000-01-17  1.0094  1.6136  0.6180  105.81  28.9738  8.3548"
      ]
     },
     "execution_count": 37,
     "metadata": {},
     "output_type": "execute_result"
    }
   ],
   "source": [
    "# fillna backward\n",
    "var.fillna(method='bfill').head()"
   ]
  },
  {
   "cell_type": "markdown",
   "metadata": {},
   "source": [
    "La méthode interpolate() remplace les valeurs manquantes par une interpolation linéraire."
   ]
  },
  {
   "cell_type": "code",
   "execution_count": 38,
   "metadata": {},
   "outputs": [
    {
     "data": {
      "text/html": [
       "<div>\n",
       "<style scoped>\n",
       "    .dataframe tbody tr th:only-of-type {\n",
       "        vertical-align: middle;\n",
       "    }\n",
       "\n",
       "    .dataframe tbody tr th {\n",
       "        vertical-align: top;\n",
       "    }\n",
       "\n",
       "    .dataframe thead th {\n",
       "        text-align: right;\n",
       "    }\n",
       "</style>\n",
       "<table border=\"1\" class=\"dataframe\">\n",
       "  <thead>\n",
       "    <tr style=\"text-align: right;\">\n",
       "      <th></th>\n",
       "      <th>USD</th>\n",
       "      <th>CHF</th>\n",
       "      <th>GBP</th>\n",
       "      <th>JPY</th>\n",
       "      <th>RUB</th>\n",
       "      <th>CNY</th>\n",
       "    </tr>\n",
       "  </thead>\n",
       "  <tbody>\n",
       "    <tr>\n",
       "      <th>2000-01-13</th>\n",
       "      <td>1.027600</td>\n",
       "      <td>1.6111</td>\n",
       "      <td>0.625500</td>\n",
       "      <td>108.890000</td>\n",
       "      <td>29.483700</td>\n",
       "      <td>8.505400</td>\n",
       "    </tr>\n",
       "    <tr>\n",
       "      <th>2000-01-14</th>\n",
       "      <td>1.022500</td>\n",
       "      <td>1.6130</td>\n",
       "      <td>0.622100</td>\n",
       "      <td>108.050000</td>\n",
       "      <td>29.235000</td>\n",
       "      <td>8.463200</td>\n",
       "    </tr>\n",
       "    <tr>\n",
       "      <th>2000-01-15</th>\n",
       "      <td>1.018133</td>\n",
       "      <td>1.6132</td>\n",
       "      <td>0.620733</td>\n",
       "      <td>107.303333</td>\n",
       "      <td>29.147933</td>\n",
       "      <td>8.427067</td>\n",
       "    </tr>\n",
       "    <tr>\n",
       "      <th>2000-01-16</th>\n",
       "      <td>1.013767</td>\n",
       "      <td>1.6134</td>\n",
       "      <td>0.619367</td>\n",
       "      <td>106.556667</td>\n",
       "      <td>29.060867</td>\n",
       "      <td>8.390933</td>\n",
       "    </tr>\n",
       "    <tr>\n",
       "      <th>2000-01-17</th>\n",
       "      <td>1.009400</td>\n",
       "      <td>1.6136</td>\n",
       "      <td>0.618000</td>\n",
       "      <td>105.810000</td>\n",
       "      <td>28.973800</td>\n",
       "      <td>8.354800</td>\n",
       "    </tr>\n",
       "  </tbody>\n",
       "</table>\n",
       "</div>"
      ],
      "text/plain": [
       "0                USD     CHF       GBP         JPY        RUB       CNY\n",
       "2000-01-13  1.027600  1.6111  0.625500  108.890000  29.483700  8.505400\n",
       "2000-01-14  1.022500  1.6130  0.622100  108.050000  29.235000  8.463200\n",
       "2000-01-15  1.018133  1.6132  0.620733  107.303333  29.147933  8.427067\n",
       "2000-01-16  1.013767  1.6134  0.619367  106.556667  29.060867  8.390933\n",
       "2000-01-17  1.009400  1.6136  0.618000  105.810000  28.973800  8.354800"
      ]
     },
     "execution_count": 38,
     "metadata": {},
     "output_type": "execute_result"
    }
   ],
   "source": [
    "# interpolate \n",
    "var.interpolate().head()"
   ]
  },
  {
   "cell_type": "code",
   "execution_count": 39,
   "metadata": {},
   "outputs": [
    {
     "data": {
      "text/plain": [
       "array([  0.,   5.,  10.,  15.,  20.,  25.,  30.,  35.,  40.,  45.,  50.,\n",
       "        55.,  60.,  65.,  70.,  75.,  80.,  85.,  90.,  95., 100.])"
      ]
     },
     "execution_count": 39,
     "metadata": {},
     "output_type": "execute_result"
    }
   ],
   "source": [
    "# numpy linspace\n",
    "np.linspace(0, 100, 21)"
   ]
  },
  {
   "cell_type": "code",
   "execution_count": 40,
   "metadata": {},
   "outputs": [
    {
     "data": {
      "text/html": [
       "<div>\n",
       "<style scoped>\n",
       "    .dataframe tbody tr th:only-of-type {\n",
       "        vertical-align: middle;\n",
       "    }\n",
       "\n",
       "    .dataframe tbody tr th {\n",
       "        vertical-align: top;\n",
       "    }\n",
       "\n",
       "    .dataframe thead th {\n",
       "        text-align: right;\n",
       "    }\n",
       "</style>\n",
       "<table border=\"1\" class=\"dataframe\">\n",
       "  <thead>\n",
       "    <tr style=\"text-align: right;\">\n",
       "      <th></th>\n",
       "      <th>0</th>\n",
       "      <th>1</th>\n",
       "      <th>2</th>\n",
       "      <th>3</th>\n",
       "      <th>4</th>\n",
       "      <th>5</th>\n",
       "    </tr>\n",
       "  </thead>\n",
       "  <tbody>\n",
       "    <tr>\n",
       "      <th>0</th>\n",
       "      <td>1.022500</td>\n",
       "      <td>1.6130</td>\n",
       "      <td>0.622100</td>\n",
       "      <td>108.050000</td>\n",
       "      <td>29.235000</td>\n",
       "      <td>8.463200</td>\n",
       "    </tr>\n",
       "    <tr>\n",
       "      <th>1</th>\n",
       "      <td>1.018133</td>\n",
       "      <td>1.6132</td>\n",
       "      <td>0.620733</td>\n",
       "      <td>107.303333</td>\n",
       "      <td>29.147933</td>\n",
       "      <td>8.427067</td>\n",
       "    </tr>\n",
       "    <tr>\n",
       "      <th>2</th>\n",
       "      <td>1.013767</td>\n",
       "      <td>1.6134</td>\n",
       "      <td>0.619367</td>\n",
       "      <td>106.556667</td>\n",
       "      <td>29.060867</td>\n",
       "      <td>8.390933</td>\n",
       "    </tr>\n",
       "    <tr>\n",
       "      <th>3</th>\n",
       "      <td>1.009400</td>\n",
       "      <td>1.6136</td>\n",
       "      <td>0.618000</td>\n",
       "      <td>105.810000</td>\n",
       "      <td>28.973800</td>\n",
       "      <td>8.354800</td>\n",
       "    </tr>\n",
       "  </tbody>\n",
       "</table>\n",
       "</div>"
      ],
      "text/plain": [
       "          0       1         2           3          4         5\n",
       "0  1.022500  1.6130  0.622100  108.050000  29.235000  8.463200\n",
       "1  1.018133  1.6132  0.620733  107.303333  29.147933  8.427067\n",
       "2  1.013767  1.6134  0.619367  106.556667  29.060867  8.390933\n",
       "3  1.009400  1.6136  0.618000  105.810000  28.973800  8.354800"
      ]
     },
     "execution_count": 40,
     "metadata": {},
     "output_type": "execute_result"
    }
   ],
   "source": [
    "# interpolate linear = numpy.linspace (lignes 1 et 4 pour ligne 2 et 3)\n",
    "array = np.linspace(var.iloc[1, :], var.iloc[4, :], 4)\n",
    "pd.DataFrame(array)"
   ]
  },
  {
   "cell_type": "markdown",
   "metadata": {},
   "source": [
    "**Agrégations temporelles**\n",
    "\n",
    "Méthode resample qui se comporte comme un groupby."
   ]
  },
  {
   "cell_type": "code",
   "execution_count": 41,
   "metadata": {},
   "outputs": [
    {
     "data": {
      "text/plain": [
       "Date\n",
       "2000-12-31    247\n",
       "2001-12-31    254\n",
       "2002-12-31    255\n",
       "2003-12-31    255\n",
       "2004-12-31    259\n",
       "2005-12-31    257\n",
       "2006-12-31    255\n",
       "2007-12-31    255\n",
       "2008-12-31    256\n",
       "2009-12-31    256\n",
       "2010-12-31    258\n",
       "2011-12-31    257\n",
       "2012-12-31    256\n",
       "2013-12-31    255\n",
       "2014-12-31    255\n",
       "2015-12-31    256\n",
       "2016-12-31    257\n",
       "2017-12-31    255\n",
       "2018-12-31    255\n",
       "2019-12-31    255\n",
       "2020-12-31    257\n",
       "2021-12-31    190\n",
       "Freq: A-DEC, dtype: int64"
      ]
     },
     "execution_count": 41,
     "metadata": {},
     "output_type": "execute_result"
    }
   ],
   "source": [
    "# yearly aggregation\n",
    "df.resample('A').size()"
   ]
  },
  {
   "cell_type": "code",
   "execution_count": 42,
   "metadata": {},
   "outputs": [
    {
     "data": {
      "text/html": [
       "<div>\n",
       "<style scoped>\n",
       "    .dataframe tbody tr th:only-of-type {\n",
       "        vertical-align: middle;\n",
       "    }\n",
       "\n",
       "    .dataframe tbody tr th {\n",
       "        vertical-align: top;\n",
       "    }\n",
       "\n",
       "    .dataframe thead th {\n",
       "        text-align: right;\n",
       "    }\n",
       "</style>\n",
       "<table border=\"1\" class=\"dataframe\">\n",
       "  <thead>\n",
       "    <tr style=\"text-align: right;\">\n",
       "      <th></th>\n",
       "      <th>USD</th>\n",
       "      <th>CHF</th>\n",
       "      <th>GBP</th>\n",
       "      <th>JPY</th>\n",
       "      <th>RUB</th>\n",
       "      <th>CNY</th>\n",
       "    </tr>\n",
       "    <tr>\n",
       "      <th>Date</th>\n",
       "      <th></th>\n",
       "      <th></th>\n",
       "      <th></th>\n",
       "      <th></th>\n",
       "      <th></th>\n",
       "      <th></th>\n",
       "    </tr>\n",
       "  </thead>\n",
       "  <tbody>\n",
       "    <tr>\n",
       "      <th>2000-12-31</th>\n",
       "      <td>1.0276</td>\n",
       "      <td>1.6147</td>\n",
       "      <td>0.64020</td>\n",
       "      <td>111.88</td>\n",
       "      <td>29.4837</td>\n",
       "      <td>8.5054</td>\n",
       "    </tr>\n",
       "    <tr>\n",
       "      <th>2001-12-31</th>\n",
       "      <td>0.9545</td>\n",
       "      <td>1.5434</td>\n",
       "      <td>0.64080</td>\n",
       "      <td>115.90</td>\n",
       "      <td>27.5286</td>\n",
       "      <td>7.9004</td>\n",
       "    </tr>\n",
       "    <tr>\n",
       "      <th>2002-12-31</th>\n",
       "      <td>1.0487</td>\n",
       "      <td>1.4856</td>\n",
       "      <td>0.65050</td>\n",
       "      <td>125.18</td>\n",
       "      <td>33.5108</td>\n",
       "      <td>8.6801</td>\n",
       "    </tr>\n",
       "    <tr>\n",
       "      <th>2003-12-31</th>\n",
       "      <td>1.2630</td>\n",
       "      <td>1.5729</td>\n",
       "      <td>0.72350</td>\n",
       "      <td>140.31</td>\n",
       "      <td>36.9555</td>\n",
       "      <td>10.4539</td>\n",
       "    </tr>\n",
       "    <tr>\n",
       "      <th>2004-12-31</th>\n",
       "      <td>1.3633</td>\n",
       "      <td>1.5838</td>\n",
       "      <td>0.70880</td>\n",
       "      <td>141.03</td>\n",
       "      <td>37.9096</td>\n",
       "      <td>11.2840</td>\n",
       "    </tr>\n",
       "    <tr>\n",
       "      <th>2005-12-31</th>\n",
       "      <td>1.3507</td>\n",
       "      <td>1.5635</td>\n",
       "      <td>0.70725</td>\n",
       "      <td>143.47</td>\n",
       "      <td>37.4442</td>\n",
       "      <td>11.1797</td>\n",
       "    </tr>\n",
       "    <tr>\n",
       "      <th>2006-12-31</th>\n",
       "      <td>1.3331</td>\n",
       "      <td>1.6069</td>\n",
       "      <td>0.70060</td>\n",
       "      <td>156.93</td>\n",
       "      <td>34.8930</td>\n",
       "      <td>10.4272</td>\n",
       "    </tr>\n",
       "    <tr>\n",
       "      <th>2007-12-31</th>\n",
       "      <td>1.4874</td>\n",
       "      <td>1.6803</td>\n",
       "      <td>0.73480</td>\n",
       "      <td>168.68</td>\n",
       "      <td>36.1180</td>\n",
       "      <td>10.9950</td>\n",
       "    </tr>\n",
       "    <tr>\n",
       "      <th>2008-12-31</th>\n",
       "      <td>1.5990</td>\n",
       "      <td>1.6529</td>\n",
       "      <td>0.97855</td>\n",
       "      <td>169.75</td>\n",
       "      <td>41.6925</td>\n",
       "      <td>11.1699</td>\n",
       "    </tr>\n",
       "    <tr>\n",
       "      <th>2009-12-31</th>\n",
       "      <td>1.5120</td>\n",
       "      <td>1.5421</td>\n",
       "      <td>0.96100</td>\n",
       "      <td>138.09</td>\n",
       "      <td>46.7135</td>\n",
       "      <td>10.3224</td>\n",
       "    </tr>\n",
       "    <tr>\n",
       "      <th>2010-12-31</th>\n",
       "      <td>1.4563</td>\n",
       "      <td>1.4873</td>\n",
       "      <td>0.91140</td>\n",
       "      <td>134.23</td>\n",
       "      <td>43.4300</td>\n",
       "      <td>9.9419</td>\n",
       "    </tr>\n",
       "    <tr>\n",
       "      <th>2011-12-31</th>\n",
       "      <td>1.4882</td>\n",
       "      <td>1.3163</td>\n",
       "      <td>0.90500</td>\n",
       "      <td>122.80</td>\n",
       "      <td>43.7214</td>\n",
       "      <td>9.6636</td>\n",
       "    </tr>\n",
       "    <tr>\n",
       "      <th>2012-12-31</th>\n",
       "      <td>1.3454</td>\n",
       "      <td>1.2196</td>\n",
       "      <td>0.84815</td>\n",
       "      <td>113.87</td>\n",
       "      <td>41.8100</td>\n",
       "      <td>8.4766</td>\n",
       "    </tr>\n",
       "    <tr>\n",
       "      <th>2013-12-31</th>\n",
       "      <td>1.3814</td>\n",
       "      <td>1.2599</td>\n",
       "      <td>0.87890</td>\n",
       "      <td>145.02</td>\n",
       "      <td>45.3246</td>\n",
       "      <td>8.4965</td>\n",
       "    </tr>\n",
       "    <tr>\n",
       "      <th>2014-12-31</th>\n",
       "      <td>1.3953</td>\n",
       "      <td>1.2383</td>\n",
       "      <td>0.83830</td>\n",
       "      <td>149.03</td>\n",
       "      <td>91.5200</td>\n",
       "      <td>8.6891</td>\n",
       "    </tr>\n",
       "    <tr>\n",
       "      <th>2015-12-31</th>\n",
       "      <td>1.2043</td>\n",
       "      <td>1.2022</td>\n",
       "      <td>0.78420</td>\n",
       "      <td>145.21</td>\n",
       "      <td>81.4420</td>\n",
       "      <td>7.4759</td>\n",
       "    </tr>\n",
       "    <tr>\n",
       "      <th>2016-12-31</th>\n",
       "      <td>1.1569</td>\n",
       "      <td>1.1169</td>\n",
       "      <td>0.90485</td>\n",
       "      <td>132.25</td>\n",
       "      <td>91.7660</td>\n",
       "      <td>7.5341</td>\n",
       "    </tr>\n",
       "    <tr>\n",
       "      <th>2017-12-31</th>\n",
       "      <td>1.2060</td>\n",
       "      <td>1.1772</td>\n",
       "      <td>0.92965</td>\n",
       "      <td>135.01</td>\n",
       "      <td>71.8059</td>\n",
       "      <td>7.9757</td>\n",
       "    </tr>\n",
       "    <tr>\n",
       "      <th>2018-12-31</th>\n",
       "      <td>1.2493</td>\n",
       "      <td>1.1986</td>\n",
       "      <td>0.90680</td>\n",
       "      <td>137.22</td>\n",
       "      <td>81.2688</td>\n",
       "      <td>8.0958</td>\n",
       "    </tr>\n",
       "    <tr>\n",
       "      <th>2019-12-31</th>\n",
       "      <td>1.1535</td>\n",
       "      <td>1.1470</td>\n",
       "      <td>0.92830</td>\n",
       "      <td>127.35</td>\n",
       "      <td>79.3589</td>\n",
       "      <td>7.9519</td>\n",
       "    </tr>\n",
       "    <tr>\n",
       "      <th>2020-12-31</th>\n",
       "      <td>1.2281</td>\n",
       "      <td>1.0866</td>\n",
       "      <td>0.92985</td>\n",
       "      <td>127.23</td>\n",
       "      <td>93.7450</td>\n",
       "      <td>8.2637</td>\n",
       "    </tr>\n",
       "    <tr>\n",
       "      <th>2021-12-31</th>\n",
       "      <td>1.2338</td>\n",
       "      <td>1.1114</td>\n",
       "      <td>0.90635</td>\n",
       "      <td>134.05</td>\n",
       "      <td>92.3842</td>\n",
       "      <td>7.9653</td>\n",
       "    </tr>\n",
       "  </tbody>\n",
       "</table>\n",
       "</div>"
      ],
      "text/plain": [
       "0              USD     CHF      GBP     JPY      RUB      CNY\n",
       "Date                                                         \n",
       "2000-12-31  1.0276  1.6147  0.64020  111.88  29.4837   8.5054\n",
       "2001-12-31  0.9545  1.5434  0.64080  115.90  27.5286   7.9004\n",
       "2002-12-31  1.0487  1.4856  0.65050  125.18  33.5108   8.6801\n",
       "2003-12-31  1.2630  1.5729  0.72350  140.31  36.9555  10.4539\n",
       "2004-12-31  1.3633  1.5838  0.70880  141.03  37.9096  11.2840\n",
       "2005-12-31  1.3507  1.5635  0.70725  143.47  37.4442  11.1797\n",
       "2006-12-31  1.3331  1.6069  0.70060  156.93  34.8930  10.4272\n",
       "2007-12-31  1.4874  1.6803  0.73480  168.68  36.1180  10.9950\n",
       "2008-12-31  1.5990  1.6529  0.97855  169.75  41.6925  11.1699\n",
       "2009-12-31  1.5120  1.5421  0.96100  138.09  46.7135  10.3224\n",
       "2010-12-31  1.4563  1.4873  0.91140  134.23  43.4300   9.9419\n",
       "2011-12-31  1.4882  1.3163  0.90500  122.80  43.7214   9.6636\n",
       "2012-12-31  1.3454  1.2196  0.84815  113.87  41.8100   8.4766\n",
       "2013-12-31  1.3814  1.2599  0.87890  145.02  45.3246   8.4965\n",
       "2014-12-31  1.3953  1.2383  0.83830  149.03  91.5200   8.6891\n",
       "2015-12-31  1.2043  1.2022  0.78420  145.21  81.4420   7.4759\n",
       "2016-12-31  1.1569  1.1169  0.90485  132.25  91.7660   7.5341\n",
       "2017-12-31  1.2060  1.1772  0.92965  135.01  71.8059   7.9757\n",
       "2018-12-31  1.2493  1.1986  0.90680  137.22  81.2688   8.0958\n",
       "2019-12-31  1.1535  1.1470  0.92830  127.35  79.3589   7.9519\n",
       "2020-12-31  1.2281  1.0866  0.92985  127.23  93.7450   8.2637\n",
       "2021-12-31  1.2338  1.1114  0.90635  134.05  92.3842   7.9653"
      ]
     },
     "execution_count": 42,
     "metadata": {},
     "output_type": "execute_result"
    }
   ],
   "source": [
    "# yearly aggregation\n",
    "df.resample('A').max()"
   ]
  },
  {
   "cell_type": "code",
   "execution_count": 43,
   "metadata": {},
   "outputs": [
    {
     "data": {
      "text/html": [
       "<div>\n",
       "<style scoped>\n",
       "    .dataframe tbody tr th:only-of-type {\n",
       "        vertical-align: middle;\n",
       "    }\n",
       "\n",
       "    .dataframe tbody tr th {\n",
       "        vertical-align: top;\n",
       "    }\n",
       "\n",
       "    .dataframe thead th {\n",
       "        text-align: right;\n",
       "    }\n",
       "</style>\n",
       "<table border=\"1\" class=\"dataframe\">\n",
       "  <thead>\n",
       "    <tr style=\"text-align: right;\">\n",
       "      <th></th>\n",
       "      <th>USD</th>\n",
       "      <th>CHF</th>\n",
       "      <th>GBP</th>\n",
       "      <th>JPY</th>\n",
       "      <th>RUB</th>\n",
       "      <th>CNY</th>\n",
       "    </tr>\n",
       "    <tr>\n",
       "      <th>Date</th>\n",
       "      <th></th>\n",
       "      <th></th>\n",
       "      <th></th>\n",
       "      <th></th>\n",
       "      <th></th>\n",
       "      <th></th>\n",
       "    </tr>\n",
       "  </thead>\n",
       "  <tbody>\n",
       "    <tr>\n",
       "      <th>2000-01-01</th>\n",
       "      <td>1.004985</td>\n",
       "      <td>1.612115</td>\n",
       "      <td>0.612831</td>\n",
       "      <td>106.091538</td>\n",
       "      <td>28.742685</td>\n",
       "      <td>8.318246</td>\n",
       "    </tr>\n",
       "    <tr>\n",
       "      <th>2000-02-01</th>\n",
       "      <td>0.983424</td>\n",
       "      <td>1.606886</td>\n",
       "      <td>0.614657</td>\n",
       "      <td>107.640952</td>\n",
       "      <td>28.288986</td>\n",
       "      <td>8.139800</td>\n",
       "    </tr>\n",
       "    <tr>\n",
       "      <th>2000-03-01</th>\n",
       "      <td>0.964343</td>\n",
       "      <td>1.604243</td>\n",
       "      <td>0.610626</td>\n",
       "      <td>102.590870</td>\n",
       "      <td>27.466526</td>\n",
       "      <td>7.981870</td>\n",
       "    </tr>\n",
       "    <tr>\n",
       "      <th>2000-04-01</th>\n",
       "      <td>0.946950</td>\n",
       "      <td>1.573956</td>\n",
       "      <td>0.598017</td>\n",
       "      <td>99.924444</td>\n",
       "      <td>27.098239</td>\n",
       "      <td>7.837911</td>\n",
       "    </tr>\n",
       "    <tr>\n",
       "      <th>2000-05-01</th>\n",
       "      <td>0.905968</td>\n",
       "      <td>1.556164</td>\n",
       "      <td>0.601509</td>\n",
       "      <td>98.090455</td>\n",
       "      <td>25.657673</td>\n",
       "      <td>7.498705</td>\n",
       "    </tr>\n",
       "    <tr>\n",
       "      <th>...</th>\n",
       "      <td>...</td>\n",
       "      <td>...</td>\n",
       "      <td>...</td>\n",
       "      <td>...</td>\n",
       "      <td>...</td>\n",
       "      <td>...</td>\n",
       "    </tr>\n",
       "    <tr>\n",
       "      <th>2021-05-01</th>\n",
       "      <td>1.214590</td>\n",
       "      <td>1.096829</td>\n",
       "      <td>0.862583</td>\n",
       "      <td>132.569048</td>\n",
       "      <td>89.873662</td>\n",
       "      <td>7.810919</td>\n",
       "    </tr>\n",
       "    <tr>\n",
       "      <th>2021-06-01</th>\n",
       "      <td>1.204709</td>\n",
       "      <td>1.094000</td>\n",
       "      <td>0.858720</td>\n",
       "      <td>132.631364</td>\n",
       "      <td>87.456068</td>\n",
       "      <td>7.739114</td>\n",
       "    </tr>\n",
       "    <tr>\n",
       "      <th>2021-07-01</th>\n",
       "      <td>1.182182</td>\n",
       "      <td>1.085595</td>\n",
       "      <td>0.856130</td>\n",
       "      <td>130.349091</td>\n",
       "      <td>87.397018</td>\n",
       "      <td>7.653632</td>\n",
       "    </tr>\n",
       "    <tr>\n",
       "      <th>2021-08-01</th>\n",
       "      <td>1.177182</td>\n",
       "      <td>1.076177</td>\n",
       "      <td>0.852874</td>\n",
       "      <td>129.284091</td>\n",
       "      <td>86.606650</td>\n",
       "      <td>7.623655</td>\n",
       "    </tr>\n",
       "    <tr>\n",
       "      <th>2021-09-01</th>\n",
       "      <td>1.178570</td>\n",
       "      <td>1.086010</td>\n",
       "      <td>0.856268</td>\n",
       "      <td>129.644000</td>\n",
       "      <td>85.900290</td>\n",
       "      <td>7.609820</td>\n",
       "    </tr>\n",
       "  </tbody>\n",
       "</table>\n",
       "<p>261 rows × 6 columns</p>\n",
       "</div>"
      ],
      "text/plain": [
       "0                USD       CHF       GBP         JPY        RUB       CNY\n",
       "Date                                                                     \n",
       "2000-01-01  1.004985  1.612115  0.612831  106.091538  28.742685  8.318246\n",
       "2000-02-01  0.983424  1.606886  0.614657  107.640952  28.288986  8.139800\n",
       "2000-03-01  0.964343  1.604243  0.610626  102.590870  27.466526  7.981870\n",
       "2000-04-01  0.946950  1.573956  0.598017   99.924444  27.098239  7.837911\n",
       "2000-05-01  0.905968  1.556164  0.601509   98.090455  25.657673  7.498705\n",
       "...              ...       ...       ...         ...        ...       ...\n",
       "2021-05-01  1.214590  1.096829  0.862583  132.569048  89.873662  7.810919\n",
       "2021-06-01  1.204709  1.094000  0.858720  132.631364  87.456068  7.739114\n",
       "2021-07-01  1.182182  1.085595  0.856130  130.349091  87.397018  7.653632\n",
       "2021-08-01  1.177182  1.076177  0.852874  129.284091  86.606650  7.623655\n",
       "2021-09-01  1.178570  1.086010  0.856268  129.644000  85.900290  7.609820\n",
       "\n",
       "[261 rows x 6 columns]"
      ]
     },
     "execution_count": 43,
     "metadata": {},
     "output_type": "execute_result"
    }
   ],
   "source": [
    "# monthly aggregation\n",
    "df.resample('MS').mean()"
   ]
  },
  {
   "cell_type": "markdown",
   "metadata": {},
   "source": [
    "Alias | Offset type | Description\n",
    "- | - | -\n",
    "D | Day | Calendar daily\n",
    "B | BusinessDay | Business daily\n",
    "H | Hour | Hourly\n",
    "T or min | Minute | Minutely\n",
    "S | Second | Secondly\n",
    "L or ms | Milli | Millisecond (1/1000th of 1 second)\n",
    "U | Micro | Microsecond (1/1000000th of 1 second)\n",
    "M | MonthEnd | Last calendar day of month\n",
    "BM | BusinessMonthEnd | Last business day (weekday) of month\n",
    "MS | MonthBegin | First calendar day of month\n",
    "BMS | BusinessMonthBegin | First weekday of month\n",
    "W-MON, W-TUE, ... | Week | Weekly on given day of week: MON, TUE, WED, THU, FRI, SAT, or SUN.\n",
    "Q-JAN, Q-FEB, ... | QuarterEnd | Quarterly dates anchored on last calendar day of each month,for year ending in indicated month: JAN, FEB, MAR, APR, MAY, JUN, JUL, AUG, SEP, OCT, NOV, or DEC.\n",
    "A-JAN, A-FEB, ... | YearEnd | Annual dates anchored on last calendar day of given month: JAN, FEB, MAR, APR, MAY, JUN, JUL, AUG, SEP, OCT, NOV, or DEC.\n",
    "\n",
    "Source: Python for Data Analysis, Wes McKinney, O'Reilly"
   ]
  },
  {
   "cell_type": "markdown",
   "metadata": {},
   "source": [
    "**Graphiques temporels**"
   ]
  },
  {
   "cell_type": "code",
   "execution_count": 44,
   "metadata": {},
   "outputs": [
    {
     "data": {
      "image/png": "[encoded data removed]",
      "text/plain": [
       "<Figure size 432x288 with 1 Axes>"
      ]
     },
     "metadata": {
      "needs_background": "light"
     },
     "output_type": "display_data"
    }
   ],
   "source": [
    "# taux de change\n",
    "df.plot();"
   ]
  },
  {
   "cell_type": "code",
   "execution_count": 45,
   "metadata": {},
   "outputs": [
    {
     "data": {
      "image/png": "[encoded data removed]",
      "text/plain": [
       "<Figure size 432x288 with 1 Axes>"
      ]
     },
     "metadata": {
      "needs_background": "light"
     },
     "output_type": "display_data"
    }
   ],
   "source": [
    "# taux de change divisés par leur moyenne\n",
    "(df / df.mean()).plot();"
   ]
  },
  {
   "cell_type": "code",
   "execution_count": 46,
   "metadata": {},
   "outputs": [
    {
     "data": {
      "image/png": "[encoded data removed]",
      "text/plain": [
       "<Figure size 432x288 with 1 Axes>"
      ]
     },
     "metadata": {
      "needs_background": "light"
     },
     "output_type": "display_data"
    }
   ],
   "source": [
    "# taux de change divisés par la dernière valeur\n",
    "(df / df.iloc[-1]).plot();"
   ]
  },
  {
   "cell_type": "code",
   "execution_count": 47,
   "metadata": {},
   "outputs": [
    {
     "data": {
      "image/png": "[encoded data removed]",
      "text/plain": [
       "<Figure size 432x288 with 1 Axes>"
      ]
     },
     "metadata": {
      "needs_background": "light"
     },
     "output_type": "display_data"
    }
   ],
   "source": [
    "# taux de change divisés par leur moyenne avec une moyenne glissante de 30 jours\n",
    "(df / df.mean()).rolling(30).mean().plot()\n",
    "plt.show()"
   ]
  },
  {
   "cell_type": "markdown",
   "metadata": {},
   "source": [
    "**Exercice n° 2**\n",
    "\n",
    "Affichez les taux de change divisés par la dernière valeur connueavec une moyenne glissante de 30 jours.\n",
    "\n",
    "Affichez les taux de change divisés par leur moyenne avec un maximum glissant sur 100 jours."
   ]
  },
  {
   "cell_type": "code",
   "execution_count": 50,
   "metadata": {},
   "outputs": [
    {
     "data": {
      "text/plain": [
       "<matplotlib.legend.Legend at 0x7fa5a0e150d0>"
      ]
     },
     "execution_count": 50,
     "metadata": {},
     "output_type": "execute_result"
    },
    {
     "data": {
      "image/png": "[encoded data removed]",
      "text/plain": [
       "<Figure size 432x288 with 1 Axes>"
      ]
     },
     "metadata": {
      "needs_background": "light"
     },
     "output_type": "display_data"
    }
   ],
   "source": [
    "(df/df.mean()).rolling(100).max().plot()\n",
    "plt.legend()"
   ]
  },
  {
   "cell_type": "markdown",
   "metadata": {},
   "source": [
    "## 2. Graphiques avec pandas\n",
    "\n",
    "pandas propose une API relativement simple qui s'appuie sur matplotlib.\n",
    "\n",
    "https://pandas.pydata.org/pandas-docs/stable/user_guide/visualization.html"
   ]
  },
  {
   "cell_type": "markdown",
   "metadata": {},
   "source": [
    "#### Data Names US et FR"
   ]
  },
  {
   "cell_type": "code",
   "execution_count": 52,
   "metadata": {},
   "outputs": [
    {
     "data": {
      "text/plain": [
       "(1989592, 4)"
      ]
     },
     "execution_count": 52,
     "metadata": {},
     "output_type": "execute_result"
    }
   ],
   "source": [
    "# names US\n",
    "def df_names_us():\n",
    "    dfs = []\n",
    "    for year in range(1880, 2020):\n",
    "        csv = pd.read_csv(f'names/yob{year}.txt',\n",
    "                          names=['name', 'gender', 'births'])\n",
    "        csv['year'] = year\n",
    "        dfs.append(csv)\n",
    "    df = pd.concat(dfs, ignore_index=True)\n",
    "    df = df[['year', 'name', 'gender', 'births']]\n",
    "    return df\n",
    "\n",
    "df_us = df_names_us()\n",
    "df_us.shape"
   ]
  },
  {
   "cell_type": "code",
   "execution_count": 56,
   "metadata": {},
   "outputs": [
    {
     "data": {
      "text/plain": [
       "(630407, 4)"
      ]
     },
     "execution_count": 56,
     "metadata": {},
     "output_type": "execute_result"
    }
   ],
   "source": [
    "def df_names_fr():\n",
    "    # dict for gender\n",
    "    d = {'1': 'M', '2': 'F'}\n",
    "    # read table\n",
    "    # no header\n",
    "    # set columns\n",
    "    # user converters for gender and name\n",
    "    df = pd.read_csv('nat2020.csv',\n",
    "                      sep=';',\n",
    "                      header=0,\n",
    "                      names=['gender', 'name', 'year', 'births'],\n",
    "                      converters={\n",
    "                          'gender': d.get,\n",
    "                          'name': str.title\n",
    "                      })\n",
    "    # select usable data\n",
    "    # name with length > 1\n",
    "    # year != 'XXXX'\n",
    "    # name != '_Prenoms_Rares' (after use of str.title)\n",
    "    df = df.loc[(df['name'].str.len() > 1)\n",
    "                & (df['year'] != 'XXXX')\n",
    "                & (df['name'] != '_Prenoms_Rares')]\n",
    "    # set year type to int\n",
    "    df['year'] = df['year'].astype(int)\n",
    "    # set columns order\n",
    "    df = df[['year', 'name', 'gender', 'births']]\n",
    "    # sort data\n",
    "    df = df.sort_values(['year', 'gender', 'births', 'name'],\n",
    "                   ascending=[True, True, False, True])\n",
    "    # reset index\n",
    "    df = df.reset_index(drop=True)\n",
    "    return df\n",
    "\n",
    "df_fr = df_names_fr()\n",
    "df_fr.shape"
   ]
  },
  {
   "cell_type": "code",
   "execution_count": 100,
   "metadata": {},
   "outputs": [],
   "source": [
    "df_fr['country'] = 'fr'"
   ]
  },
  {
   "cell_type": "code",
   "execution_count": 101,
   "metadata": {},
   "outputs": [],
   "source": [
    "df_us['country'] = 'us'"
   ]
  },
  {
   "cell_type": "code",
   "execution_count": 102,
   "metadata": {},
   "outputs": [],
   "source": [
    "df = pd.concat([df_fr, df_us])"
   ]
  },
  {
   "cell_type": "markdown",
   "metadata": {},
   "source": [
    "**Exercice n° 3**\n",
    "\n",
    "Combinez les 2 DataFrames en un seul DataFrame avec une colonne en plus \"country\" valant \"us\" ou \"fr\"."
   ]
  },
  {
   "cell_type": "code",
   "execution_count": 103,
   "metadata": {},
   "outputs": [
    {
     "data": {
      "image/png": "[encoded data removed]",
      "text/plain": [
       "<Figure size 432x288 with 1 Axes>"
      ]
     },
     "metadata": {
      "needs_background": "light"
     },
     "output_type": "display_data"
    }
   ],
   "source": [
    "# exemple\n",
    "tab = df.loc[(df['country'] == 'us') & (df['name'] == 'Emma') & (df['gender'] == 'F')]\n",
    "tab = tab.set_index('year')\n",
    "tab['births'].plot(title='Nombre de naissances pour Emma (F) - us');"
   ]
  },
  {
   "cell_type": "code",
   "execution_count": 104,
   "metadata": {},
   "outputs": [
    {
     "data": {
      "image/png": "[encoded data removed]",
      "text/plain": [
       "<Figure size 432x288 with 1 Axes>"
      ]
     },
     "metadata": {
      "needs_background": "light"
     },
     "output_type": "display_data"
    }
   ],
   "source": [
    "# exemple\n",
    "tab = df.loc[(df['country'] == 'fr') & (df['name'] == 'Emma') & (df['gender'] == 'F')]\n",
    "tab = tab.set_index('year')\n",
    "tab['births'].plot(title='Nombre de naissances pour Emma (F) - fr');"
   ]
  },
  {
   "cell_type": "code",
   "execution_count": 105,
   "metadata": {},
   "outputs": [],
   "source": [
    "# quelques fonctions\n",
    "def select(country, name, gender):\n",
    "    return df.loc[(df['country'] == country) &\n",
    "                  (df['name'] == name) &\n",
    "                  (df['gender'] == gender)]\n",
    "\n",
    "def plot_names(country, name, gender):\n",
    "    tab = select(country, name, gender)\n",
    "    tab = tab.set_index('year')\n",
    "    tab['births'].plot(title=f'Nombre de naissances pour {name} ({gender}) - {country}');"
   ]
  },
  {
   "cell_type": "code",
   "execution_count": 117,
   "metadata": {},
   "outputs": [
    {
     "data": {
      "image/png": "[encoded data removed]",
      "text/plain": [
       "<Figure size 432x288 with 1 Axes>"
      ]
     },
     "metadata": {
      "needs_background": "light"
     },
     "output_type": "display_data"
    }
   ],
   "source": [
    "plot_names('fr', 'Manuela', 'F')"
   ]
  },
  {
   "cell_type": "markdown",
   "metadata": {},
   "source": [
    "**Exercice n° 4**\n",
    "\n",
    "Afficher l'évolution du nombre de naissances US ou FR par année et par genre.\n",
    "\n",
    "Afficher l'évolution de la diversité des prénoms US ou FR par année et par genre."
   ]
  },
  {
   "cell_type": "markdown",
   "metadata": {},
   "source": [
    "**bar plot**"
   ]
  },
  {
   "cell_type": "code",
   "execution_count": 125,
   "metadata": {},
   "outputs": [
    {
     "data": {
      "text/html": [
       "<div>\n",
       "<style scoped>\n",
       "    .dataframe tbody tr th:only-of-type {\n",
       "        vertical-align: middle;\n",
       "    }\n",
       "\n",
       "    .dataframe tbody tr th {\n",
       "        vertical-align: top;\n",
       "    }\n",
       "\n",
       "    .dataframe thead th {\n",
       "        text-align: right;\n",
       "    }\n",
       "</style>\n",
       "<table border=\"1\" class=\"dataframe\">\n",
       "  <thead>\n",
       "    <tr style=\"text-align: right;\">\n",
       "      <th></th>\n",
       "      <th>births</th>\n",
       "    </tr>\n",
       "    <tr>\n",
       "      <th>name</th>\n",
       "      <th></th>\n",
       "    </tr>\n",
       "  </thead>\n",
       "  <tbody>\n",
       "    <tr>\n",
       "      <th>Agathe</th>\n",
       "      <td>1927</td>\n",
       "    </tr>\n",
       "    <tr>\n",
       "      <th>Ambre</th>\n",
       "      <td>2752</td>\n",
       "    </tr>\n",
       "    <tr>\n",
       "      <th>Camille</th>\n",
       "      <td>2569</td>\n",
       "    </tr>\n",
       "    <tr>\n",
       "      <th>Gabriel</th>\n",
       "      <td>4415</td>\n",
       "    </tr>\n",
       "    <tr>\n",
       "      <th>Louis</th>\n",
       "      <td>3795</td>\n",
       "    </tr>\n",
       "    <tr>\n",
       "      <th>Louise</th>\n",
       "      <td>3811</td>\n",
       "    </tr>\n",
       "    <tr>\n",
       "      <th>Léa</th>\n",
       "      <td>2429</td>\n",
       "    </tr>\n",
       "    <tr>\n",
       "      <th>Léo</th>\n",
       "      <td>4504</td>\n",
       "    </tr>\n",
       "    <tr>\n",
       "      <th>Maël</th>\n",
       "      <td>3301</td>\n",
       "    </tr>\n",
       "    <tr>\n",
       "      <th>Paul</th>\n",
       "      <td>2477</td>\n",
       "    </tr>\n",
       "  </tbody>\n",
       "</table>\n",
       "</div>"
      ],
      "text/plain": [
       "         births\n",
       "name           \n",
       "Agathe     1927\n",
       "Ambre      2752\n",
       "Camille    2569\n",
       "Gabriel    4415\n",
       "Louis      3795\n",
       "Louise     3811\n",
       "Léa        2429\n",
       "Léo        4504\n",
       "Maël       3301\n",
       "Paul       2477"
      ]
     },
     "execution_count": 125,
     "metadata": {},
     "output_type": "execute_result"
    }
   ],
   "source": [
    "# sélection + pivot\n",
    "top10 = ['Camille', 'Louise', 'Léa', 'Ambre', 'Agathe',\n",
    "         'Louis', 'Gabriel', 'Léo', 'Maël', 'Paul']\n",
    "selection = df.loc[(df['year'] == 2020) & (df['country'] == 'fr') & df['name'].isin(top10)]\n",
    "tab = selection.pivot_table(values='births',\n",
    "                      index='name',\n",
    "                      aggfunc='sum')\n",
    "tab"
   ]
  },
  {
   "cell_type": "code",
   "execution_count": 127,
   "metadata": {},
   "outputs": [
    {
     "data": {
      "image/png": "[encoded data removed]",
      "text/plain": [
       "<Figure size 432x288 with 1 Axes>"
      ]
     },
     "metadata": {
      "needs_background": "light"
     },
     "output_type": "display_data"
    }
   ],
   "source": [
    "# bar plot\n",
    "tab.plot(kind='barh', rot=60);  # testez avec barh"
   ]
  },
  {
   "cell_type": "markdown",
   "metadata": {},
   "source": [
    "#### pie plot"
   ]
  },
  {
   "cell_type": "code",
   "execution_count": 128,
   "metadata": {},
   "outputs": [
    {
     "data": {
      "text/html": [
       "<div>\n",
       "<style scoped>\n",
       "    .dataframe tbody tr th:only-of-type {\n",
       "        vertical-align: middle;\n",
       "    }\n",
       "\n",
       "    .dataframe tbody tr th {\n",
       "        vertical-align: top;\n",
       "    }\n",
       "\n",
       "    .dataframe thead th {\n",
       "        text-align: right;\n",
       "    }\n",
       "</style>\n",
       "<table border=\"1\" class=\"dataframe\">\n",
       "  <thead>\n",
       "    <tr style=\"text-align: right;\">\n",
       "      <th></th>\n",
       "      <th>births</th>\n",
       "    </tr>\n",
       "    <tr>\n",
       "      <th>gender</th>\n",
       "      <th></th>\n",
       "    </tr>\n",
       "  </thead>\n",
       "  <tbody>\n",
       "    <tr>\n",
       "      <th>F</th>\n",
       "      <td>458485</td>\n",
       "    </tr>\n",
       "    <tr>\n",
       "      <th>M</th>\n",
       "      <td>1938216</td>\n",
       "    </tr>\n",
       "  </tbody>\n",
       "</table>\n",
       "</div>"
      ],
      "text/plain": [
       "         births\n",
       "gender         \n",
       "F        458485\n",
       "M       1938216"
      ]
     },
     "execution_count": 128,
     "metadata": {},
     "output_type": "execute_result"
    }
   ],
   "source": [
    "# sélection + pivot\n",
    "selection = df.loc[df['name']=='Jean']\n",
    "tab = selection.pivot_table(values='births',\n",
    "                            index='gender',\n",
    "                            aggfunc='sum')\n",
    "tab"
   ]
  },
  {
   "cell_type": "code",
   "execution_count": 129,
   "metadata": {},
   "outputs": [
    {
     "data": {
      "image/png": "[encoded data removed]",
      "text/plain": [
       "<Figure size 432x288 with 1 Axes>"
      ]
     },
     "metadata": {},
     "output_type": "display_data"
    }
   ],
   "source": [
    "# pie plot\n",
    "tab.plot(kind='pie',\n",
    "         y='births',\n",
    "         colors=['m', 'c'],\n",
    "         autopct='%1.1f%%',\n",
    "         textprops={'color': 'w', 'weight': 'bold'},\n",
    "         explode=(0.0, 0.1));"
   ]
  },
  {
   "cell_type": "markdown",
   "metadata": {},
   "source": [
    "## 3. Graphiques avec matplotlib\n",
    "\n",
    "- Objet principal : Figure\n",
    "- Sous-graphiques : Axes à ne pas confondre avec les axes (axis en anglais)\n",
    "\n",
    "Méthodes :\n",
    "- add_subplot(ligne, colonne, n° de figure) ou 111, 121, 122... si < 10, par sous-graphique\n",
    "- 221, 222, 223, 224\n",
    "- subplots(nb lignes, nb colonnes) pour tous les sous-graphiques\n",
    "\n",
    "On utilise la sous-librairie pyplot.\n",
    "\n",
    "Voir : https://matplotlib.org/"
   ]
  },
  {
   "cell_type": "markdown",
   "metadata": {},
   "source": [
    "#### Plusieurs courbes en un grahique"
   ]
  },
  {
   "cell_type": "code",
   "execution_count": 130,
   "metadata": {},
   "outputs": [
    {
     "data": {
      "image/png": "[encoded data removed]",
      "text/plain": [
       "<Figure size 720x288 with 1 Axes>"
      ]
     },
     "metadata": {
      "needs_background": "light"
     },
     "output_type": "display_data"
    }
   ],
   "source": [
    "# plusieurs courbes en un grahique\n",
    "fig = plt.figure(figsize=(10, 4))\n",
    "name, gender = 'Emma', 'F'\n",
    "\n",
    "ax1 = fig.add_subplot(111)\n",
    "ax1.set_title(f'Nombre de naissances pour {name} ({gender})')\n",
    "\n",
    "country = 'us'\n",
    "tab = select(country, name, gender)\n",
    "tab = tab.set_index('year')\n",
    "b = tab['births']\n",
    "mean_us = b.mean()\n",
    "ax1.plot(b);\n",
    "\n",
    "country = 'fr'\n",
    "tab = select(country, name, gender)\n",
    "tab = tab.set_index('year')\n",
    "b = tab['births']\n",
    "mean_fr = b.mean()\n",
    "ax1.plot(b);\n",
    "\n",
    "ax1.axhline(y=mean_us, color='b', ls=':')\n",
    "ax1.axhline(y=mean_fr, color='r', ls=':')\n",
    "\n",
    "xmax = tab['births'].idxmax()\n",
    "ymax = tab['births'].max()\n",
    "plt.annotate('alpha optimal',\n",
    "             xy=(xmax, ymax),\n",
    "             xytext=(xmax, ymax+50),\n",
    "             arrowprops=dict(facecolor='black', shrink=0.01))\n",
    "\n",
    "ax1.legend(['us', 'fr']);"
   ]
  },
  {
   "cell_type": "markdown",
   "metadata": {},
   "source": [
    "#### Plusieurs grahiques avec add_subplot()"
   ]
  },
  {
   "cell_type": "code",
   "execution_count": 133,
   "metadata": {},
   "outputs": [
    {
     "data": {
      "image/png": "[encoded data removed]",
      "text/plain": [
       "<Figure size 720x288 with 2 Axes>"
      ]
     },
     "metadata": {
      "needs_background": "light"
     },
     "output_type": "display_data"
    }
   ],
   "source": [
    "def plot_country_name_gender(country, name, gender, ax):\n",
    "    tab = select(country, name, gender)\n",
    "    tab = tab.set_index('year')\n",
    "    ax.set_title(f'{country}')\n",
    "    ax.plot(tab['births']);\n",
    "      \n",
    "fig = plt.figure(figsize=(10, 4))\n",
    "name, gender = 'Emma', 'F'\n",
    "\n",
    "fig.suptitle(f'Nombre de naissances pour {name} ({gender})')\n",
    "\n",
    "country = 'us'\n",
    "ax1 = fig.add_subplot(121)\n",
    "plot_country_name_gender(country, name, gender, ax1)\n",
    "\n",
    "country = 'fr'\n",
    "ax2 = fig.add_subplot(122)\n",
    "plot_country_name_gender(country, name, gender, ax2)"
   ]
  },
  {
   "cell_type": "markdown",
   "metadata": {},
   "source": [
    "#### Plusieurs grahiques avec subplots()"
   ]
  },
  {
   "cell_type": "code",
   "execution_count": 134,
   "metadata": {},
   "outputs": [
    {
     "data": {
      "image/png": "[encoded data removed]",
      "text/plain": [
       "<Figure size 720x432 with 4 Axes>"
      ]
     },
     "metadata": {
      "needs_background": "light"
     },
     "output_type": "display_data"
    }
   ],
   "source": [
    "def plot_country_name_gender(country, name, gender, ax):\n",
    "    tab = select(country, name, gender)\n",
    "    tab = tab.set_index('year')\n",
    "    ax.set_title(f'{country} ({gender})')\n",
    "    ax.plot(tab['births']);\n",
    "      \n",
    "name = 'Jean'\n",
    "fig = plt.figure(figsize=(10, 6))\n",
    "fig.suptitle(f'Nombre de naissances pour {name}')\n",
    "# tableau lignes x colonnes\n",
    "[[ax1, ax2], [ax3, ax4]] = fig.subplots(2, 2, sharex=True, sharey=True)\n",
    "fig.subplots_adjust(hspace=0.3)  # séparation verticale\n",
    "\n",
    "plot_country_name_gender('us', name, 'F', ax1)\n",
    "plot_country_name_gender('fr', name, 'F', ax2)\n",
    "plot_country_name_gender('us', name, 'M', ax3)\n",
    "plot_country_name_gender('fr', name, 'M', ax4)"
   ]
  },
  {
   "cell_type": "code",
   "execution_count": 135,
   "metadata": {},
   "outputs": [],
   "source": [
    "#plt.Axes.plot?"
   ]
  },
  {
   "cell_type": "markdown",
   "metadata": {},
   "source": [
    "> plot(x, y, color='green', marker='o', linestyle='dashed',\n",
    "> ...      linewidth=2, markersize=12)\n",
    "\n",
    "Dans matplotlib il y a :\n",
    "- 4 types de lignes: '-' (solid), '--' (dashed), ':' (dotted), '-.' (dashdotted)\n",
    "- plusieurs referentiels de couleurs :\n",
    "    - 8 couleurs basiques : 'b' (blue), 'c' (cyan), 'g' (green), 'k' (black), 'm' (magenta), 'r' (red), 'w' (white) and 'y' (yellow)\n",
    "    - niveaux de gris : nombres sous forme de chaines entre '0.0' (noir) et '1.0' (blanc)\n",
    "    - 148 couleurs nommées : voir la variable matplotlib.colors.cnames\n",
    "    - 16+ millions de couleurs RVB en hexadecimal: #xxyyzz\n",
    "- 41 marqueurs : see variable matplotlib.lines.Line2D.markers\n",
    "- linewidth peut être remplacé par lw\n",
    "- linestyle peut être remplacé par ls"
   ]
  },
  {
   "cell_type": "code",
   "execution_count": 136,
   "metadata": {},
   "outputs": [
    {
     "data": {
      "image/png": "[encoded data removed]",
      "text/plain": [
       "<Figure size 864x576 with 4 Axes>"
      ]
     },
     "metadata": {
      "needs_background": "light"
     },
     "output_type": "display_data"
    }
   ],
   "source": [
    "def plot_country_name_gender(country, name, gender, ax):\n",
    "    tab = select(country, name, gender)\n",
    "    tab = tab.set_index('year')\n",
    "    ax.set_title(f'{country} ({gender})')\n",
    "    ax.plot(tab['births'],\n",
    "            '*' if country=='us' else 'H',\n",
    "            color='m' if gender=='F' else 'c');\n",
    "      \n",
    "name = 'Alix'\n",
    "fig = plt.figure(figsize=(12, 8))\n",
    "fig.suptitle(f'Nombre de naissances pour {name}')\n",
    "# tableau lignes x colonnes\n",
    "[[ax1, ax2], [ax3, ax4]] = fig.subplots(2, 2, sharex=True)\n",
    "fig.subplots_adjust(hspace=0.3)  # séparation verticale\n",
    "\n",
    "plot_country_name_gender('us', name, 'F', ax1)\n",
    "plot_country_name_gender('fr', name, 'F', ax2)\n",
    "plot_country_name_gender('us', name, 'M', ax3)\n",
    "plot_country_name_gender('fr', name, 'M', ax4)"
   ]
  },
  {
   "cell_type": "markdown",
   "metadata": {},
   "source": [
    "#### bar plot customisé"
   ]
  },
  {
   "cell_type": "code",
   "execution_count": 137,
   "metadata": {},
   "outputs": [
    {
     "data": {
      "text/html": [
       "<div>\n",
       "<style scoped>\n",
       "    .dataframe tbody tr th:only-of-type {\n",
       "        vertical-align: middle;\n",
       "    }\n",
       "\n",
       "    .dataframe tbody tr th {\n",
       "        vertical-align: top;\n",
       "    }\n",
       "\n",
       "    .dataframe thead th {\n",
       "        text-align: right;\n",
       "    }\n",
       "</style>\n",
       "<table border=\"1\" class=\"dataframe\">\n",
       "  <thead>\n",
       "    <tr style=\"text-align: right;\">\n",
       "      <th></th>\n",
       "      <th>births</th>\n",
       "    </tr>\n",
       "    <tr>\n",
       "      <th>name</th>\n",
       "      <th></th>\n",
       "    </tr>\n",
       "  </thead>\n",
       "  <tbody>\n",
       "    <tr>\n",
       "      <th>Agathe</th>\n",
       "      <td>1927</td>\n",
       "    </tr>\n",
       "    <tr>\n",
       "      <th>Ambre</th>\n",
       "      <td>2752</td>\n",
       "    </tr>\n",
       "    <tr>\n",
       "      <th>Camille</th>\n",
       "      <td>2569</td>\n",
       "    </tr>\n",
       "    <tr>\n",
       "      <th>Gabriel</th>\n",
       "      <td>4415</td>\n",
       "    </tr>\n",
       "    <tr>\n",
       "      <th>Louis</th>\n",
       "      <td>3795</td>\n",
       "    </tr>\n",
       "    <tr>\n",
       "      <th>Louise</th>\n",
       "      <td>3811</td>\n",
       "    </tr>\n",
       "    <tr>\n",
       "      <th>Léa</th>\n",
       "      <td>2429</td>\n",
       "    </tr>\n",
       "    <tr>\n",
       "      <th>Léo</th>\n",
       "      <td>4504</td>\n",
       "    </tr>\n",
       "    <tr>\n",
       "      <th>Maël</th>\n",
       "      <td>3301</td>\n",
       "    </tr>\n",
       "    <tr>\n",
       "      <th>Paul</th>\n",
       "      <td>2477</td>\n",
       "    </tr>\n",
       "  </tbody>\n",
       "</table>\n",
       "</div>"
      ],
      "text/plain": [
       "         births\n",
       "name           \n",
       "Agathe     1927\n",
       "Ambre      2752\n",
       "Camille    2569\n",
       "Gabriel    4415\n",
       "Louis      3795\n",
       "Louise     3811\n",
       "Léa        2429\n",
       "Léo        4504\n",
       "Maël       3301\n",
       "Paul       2477"
      ]
     },
     "execution_count": 137,
     "metadata": {},
     "output_type": "execute_result"
    }
   ],
   "source": [
    "# sélection + pivot\n",
    "top10 = ['Camille', 'Louise', 'Léa', 'Ambre', 'Agathe',\n",
    "         'Louis', 'Gabriel', 'Léo', 'Maël', 'Paul']\n",
    "selection = df.loc[(df['year'] == 2020) & (df['country'] == 'fr') & df['name'].isin(top10)]\n",
    "tab = selection.pivot_table(values='births',\n",
    "                      index='name',\n",
    "                      aggfunc='sum')\n",
    "tab"
   ]
  },
  {
   "cell_type": "code",
   "execution_count": 138,
   "metadata": {},
   "outputs": [
    {
     "data": {
      "image/png": "[encoded data removed]",
      "text/plain": [
       "<Figure size 432x288 with 1 Axes>"
      ]
     },
     "metadata": {
      "needs_background": "light"
     },
     "output_type": "display_data"
    }
   ],
   "source": [
    "# bar plot\n",
    "plt.bar(x=tab.index, height=tab['births'], color=list('mmmccmmccc'));  # testez avec barh\n",
    "plt.xticks(rotation=60);"
   ]
  },
  {
   "cell_type": "markdown",
   "metadata": {},
   "source": [
    "## 3. Graphiques avec seaborn\n",
    "\n",
    "Extension de matplotlib orientée statistiques.\n",
    "\n",
    "Voir : https://seaborn.pydata.org/api.html"
   ]
  },
  {
   "cell_type": "code",
   "execution_count": 139,
   "metadata": {},
   "outputs": [],
   "source": [
    "# import\n",
    "import seaborn as sns"
   ]
  },
  {
   "cell_type": "markdown",
   "metadata": {},
   "source": [
    "#### countplot\n",
    "\n",
    "Show the counts of observations in each categorical bin using bars."
   ]
  },
  {
   "cell_type": "code",
   "execution_count": 140,
   "metadata": {},
   "outputs": [
    {
     "data": {
      "image/png": "[encoded data removed]",
      "text/plain": [
       "<Figure size 432x288 with 1 Axes>"
      ]
     },
     "metadata": {
      "needs_background": "light"
     },
     "output_type": "display_data"
    }
   ],
   "source": [
    "# countplot\n",
    "df['initial'] = df['name'].str[0]\n",
    "df = df.sort_values('initial')\n",
    "sns.countplot(data=df, x='initial');"
   ]
  },
  {
   "cell_type": "markdown",
   "metadata": {},
   "source": [
    "#### barplot\n",
    "\n",
    "Show point estimates and confidence intervals as rectangular bars."
   ]
  },
  {
   "cell_type": "code",
   "execution_count": 141,
   "metadata": {},
   "outputs": [
    {
     "data": {
      "image/png": "[encoded data removed]",
      "text/plain": [
       "<Figure size 576x360 with 1 Axes>"
      ]
     },
     "metadata": {
      "needs_background": "light"
     },
     "output_type": "display_data"
    }
   ],
   "source": [
    "# seaborn barplot with births for decades\n",
    "plt.figure(figsize=(8, 5))\n",
    "var = df.loc[df['year'] % 10 == 0]\n",
    "sns.barplot(data=var, x='year', y='births', palette='Blues');"
   ]
  },
  {
   "cell_type": "code",
   "execution_count": 142,
   "metadata": {},
   "outputs": [
    {
     "data": {
      "image/png": "[encoded data removed]",
      "text/plain": [
       "<Figure size 576x360 with 1 Axes>"
      ]
     },
     "metadata": {
      "needs_background": "light"
     },
     "output_type": "display_data"
    }
   ],
   "source": [
    "# seaborn barplot with births for decades + hue\n",
    "plt.figure(figsize=(8, 5))\n",
    "var = df.loc[df['year'] % 10 == 0]\n",
    "sns.barplot(data=var, x='year', y='births', hue='gender', palette=['m', 'c'], ci=None);"
   ]
  },
  {
   "cell_type": "markdown",
   "metadata": {},
   "source": [
    "#### displot\n",
    "\n",
    "Flexibly plot a univariate distribution of observations."
   ]
  },
  {
   "cell_type": "code",
   "execution_count": 143,
   "metadata": {},
   "outputs": [
    {
     "name": "stdout",
     "output_type": "stream",
     "text": [
      "568494\n"
     ]
    },
    {
     "data": {
      "text/plain": [
       "name\n",
       "Aaliyah     0.998925\n",
       "Aaron       0.007013\n",
       "Abbey       0.997980\n",
       "Abbie       0.985110\n",
       "Abbigail    0.999576\n",
       "              ...   \n",
       "Zion        0.165495\n",
       "Zoe         0.996444\n",
       "Zoey        0.997578\n",
       "Zora        0.997914\n",
       "Zoé         0.994942\n",
       "Length: 3192, dtype: float64"
      ]
     },
     "execution_count": 143,
     "metadata": {},
     "output_type": "execute_result"
    }
   ],
   "source": [
    "# list of names which appear at least 10,000 times\n",
    "var = df.pivot_table(index='name', values='births', aggfunc='sum')\n",
    "var = var.loc[var['births'] >= 10_000]\n",
    "names10000 = var.index\n",
    "\n",
    "# data for names which appear at least 10,000 times\n",
    "df10000 = df.loc[df['name'].isin(names10000)]\n",
    "print(len(df10000))\n",
    "\n",
    "# number of births by gender, and ratio F / (F + M)\n",
    "var = df10000.pivot_table(index='name',\n",
    "                          columns='gender',\n",
    "                          values='births',\n",
    "                          aggfunc='sum')\n",
    "ratio = var['F'] / (var['F'] + var['M'])\n",
    "ratio"
   ]
  },
  {
   "cell_type": "code",
   "execution_count": 144,
   "metadata": {},
   "outputs": [
    {
     "ename": "AttributeError",
     "evalue": "module 'seaborn' has no attribute 'displot'",
     "output_type": "error",
     "traceback": [
      "\u001b[0;31m---------------------------------------------------------------------------\u001b[0m",
      "\u001b[0;31mAttributeError\u001b[0m                            Traceback (most recent call last)",
      "\u001b[0;32m<ipython-input-144-6109eeb9aa2f>\u001b[0m in \u001b[0;36m<module>\u001b[0;34m\u001b[0m\n\u001b[1;32m      1\u001b[0m \u001b[0;31m# seaborn distplot\u001b[0m\u001b[0;34m\u001b[0m\u001b[0;34m\u001b[0m\u001b[0;34m\u001b[0m\u001b[0m\n\u001b[1;32m      2\u001b[0m \u001b[0mvar\u001b[0m \u001b[0;34m=\u001b[0m \u001b[0mdf\u001b[0m\u001b[0;34m.\u001b[0m\u001b[0mloc\u001b[0m\u001b[0;34m[\u001b[0m\u001b[0mdf\u001b[0m\u001b[0;34m[\u001b[0m\u001b[0;34m'year'\u001b[0m\u001b[0;34m]\u001b[0m \u001b[0;34m%\u001b[0m \u001b[0;36m10\u001b[0m \u001b[0;34m==\u001b[0m \u001b[0;36m0\u001b[0m\u001b[0;34m]\u001b[0m\u001b[0;34m\u001b[0m\u001b[0;34m\u001b[0m\u001b[0m\n\u001b[0;32m----> 3\u001b[0;31m \u001b[0msns\u001b[0m\u001b[0;34m.\u001b[0m\u001b[0mdisplot\u001b[0m\u001b[0;34m(\u001b[0m\u001b[0mratio\u001b[0m\u001b[0;34m,\u001b[0m \u001b[0mkde\u001b[0m\u001b[0;34m=\u001b[0m\u001b[0;32mFalse\u001b[0m\u001b[0;34m,\u001b[0m \u001b[0mbins\u001b[0m\u001b[0;34m=\u001b[0m\u001b[0;36m10\u001b[0m\u001b[0;34m)\u001b[0m\u001b[0;34m;\u001b[0m\u001b[0;34m\u001b[0m\u001b[0;34m\u001b[0m\u001b[0m\n\u001b[0m",
      "\u001b[0;31mAttributeError\u001b[0m: module 'seaborn' has no attribute 'displot'"
     ]
    }
   ],
   "source": [
    "# seaborn distplot\n",
    "var = df.loc[df['year'] % 10 == 0]\n",
    "sns.displot(ratio, kde=False, bins=10);"
   ]
  },
  {
   "cell_type": "markdown",
   "metadata": {},
   "source": [
    "#### regplot\n",
    "\n",
    "Plot data and a linear regression model fit."
   ]
  },
  {
   "cell_type": "code",
   "execution_count": 145,
   "metadata": {},
   "outputs": [
    {
     "data": {
      "image/png": "[encoded data removed]",
      "text/plain": [
       "<Figure size 432x288 with 1 Axes>"
      ]
     },
     "metadata": {
      "needs_background": "light"
     },
     "output_type": "display_data"
    }
   ],
   "source": [
    "# select years year1 and year2\n",
    "year1 = 2013\n",
    "year2 = 2020\n",
    "var = df.loc[df[\"year\"].isin([year1, year2])]\n",
    "var = var.pivot_table(values=\"births\",\n",
    "                      index=\"name\",\n",
    "                      columns=\"year\",\n",
    "                      aggfunc='sum')\n",
    "sns.regplot(x=var[year1], y=var[year2]);"
   ]
  },
  {
   "cell_type": "code",
   "execution_count": 146,
   "metadata": {},
   "outputs": [
    {
     "name": "stdout",
     "output_type": "stream",
     "text": [
      "LinregressResult(slope=0.08738737455487557, intercept=33.856959151204336, rvalue=0.4661135132973257, pvalue=0.0, stderr=0.0016011238560321001)\n"
     ]
    }
   ],
   "source": [
    "from scipy.stats import linregress\n",
    "\n",
    "var = var.dropna()\n",
    "print(linregress(var[2013].values, var[2020].values))"
   ]
  },
  {
   "cell_type": "markdown",
   "metadata": {},
   "source": [
    "#### stripplot\n",
    "\n",
    "Draw a scatterplot where one variable is categorical."
   ]
  },
  {
   "cell_type": "code",
   "execution_count": 147,
   "metadata": {},
   "outputs": [
    {
     "data": {
      "image/png": "[encoded data removed]",
      "text/plain": [
       "<Figure size 432x288 with 1 Axes>"
      ]
     },
     "metadata": {
      "needs_background": "light"
     },
     "output_type": "display_data"
    }
   ],
   "source": [
    "# stripplot horizontal\n",
    "df['terminal'] = df['name'].str[-1].str.upper()\n",
    "letters = list('AEN')\n",
    "var = df.loc[df['terminal'].isin(letters) & (df['year'] > 2000) & (df['country'] == 'us')]\n",
    "sns.stripplot(data=var, x='terminal', y='births');"
   ]
  },
  {
   "cell_type": "code",
   "execution_count": 148,
   "metadata": {},
   "outputs": [
    {
     "data": {
      "image/png": "[encoded data removed]",
      "text/plain": [
       "<Figure size 432x288 with 1 Axes>"
      ]
     },
     "metadata": {
      "needs_background": "light"
     },
     "output_type": "display_data"
    }
   ],
   "source": [
    "# stripplot vertical\n",
    "var = df.loc[df['terminal'].isin(letters) & (df['year'] > 2000) & (df['country'] == 'fr')]\n",
    "sns.stripplot(data=var, y='terminal', x='births');"
   ]
  },
  {
   "cell_type": "markdown",
   "metadata": {},
   "source": [
    "#### heatmap\n",
    "\n",
    "Plot rectangular data as a color-encoded matrix."
   ]
  },
  {
   "cell_type": "code",
   "execution_count": 149,
   "metadata": {},
   "outputs": [
    {
     "data": {
      "image/png": "[encoded data removed]",
      "text/plain": [
       "<Figure size 576x576 with 2 Axes>"
      ]
     },
     "metadata": {
      "needs_background": "light"
     },
     "output_type": "display_data"
    }
   ],
   "source": [
    "# heatmap\n",
    "fig, ax = plt.subplots(1, 1, figsize=(8, 8))\n",
    "sns.heatmap(pd.crosstab(df['terminal'], df['initial']), cmap='Blues', ax=ax);"
   ]
  },
  {
   "cell_type": "code",
   "execution_count": 150,
   "metadata": {},
   "outputs": [
    {
     "data": {
      "image/png": "[encoded data removed]",
      "text/plain": [
       "<Figure size 432x288 with 2 Axes>"
      ]
     },
     "metadata": {
      "needs_background": "light"
     },
     "output_type": "display_data"
    }
   ],
   "source": [
    "tab = pd.crosstab(df['terminal'], df['initial']).iloc[:5, :5]\n",
    "sns.heatmap(tab, cmap='Blues', annot=True, fmt='d');"
   ]
  },
  {
   "cell_type": "markdown",
   "metadata": {},
   "source": [
    "## 5. Cartes : maplotlib, plotly, ipyleaflet\n",
    "\n",
    "### 5.1 Cartes naives avec matplotlib"
   ]
  },
  {
   "cell_type": "code",
   "execution_count": 152,
   "metadata": {},
   "outputs": [
    {
     "data": {
      "text/plain": [
       "(36742, 19)"
      ]
     },
     "execution_count": 152,
     "metadata": {},
     "output_type": "execute_result"
    }
   ],
   "source": [
    "# communes de France\n",
    "\n",
    "df = pd.read_csv('correspondance-code-insee-code-postal.csv',\n",
    "                sep=';')\n",
    "df[['Latitude', 'Longitude']] = df['geo_point_2d'].str.extract('(.*), (.*)').astype(float)\n",
    "df.shape"
   ]
  },
  {
   "cell_type": "code",
   "execution_count": 153,
   "metadata": {},
   "outputs": [
    {
     "data": {
      "image/png": "[encoded data removed]",
      "text/plain": [
       "<Figure size 432x288 with 1 Axes>"
      ]
     },
     "metadata": {
      "needs_background": "light"
     },
     "output_type": "display_data"
    }
   ],
   "source": [
    "# carte naive\n",
    "plt.scatter(df['Longitude'], df['Latitude']);"
   ]
  },
  {
   "cell_type": "code",
   "execution_count": 154,
   "metadata": {},
   "outputs": [
    {
     "data": {
      "image/png": "[encoded data removed]",
      "text/plain": [
       "<Figure size 432x288 with 1 Axes>"
      ]
     },
     "metadata": {
      "needs_background": "light"
     },
     "output_type": "display_data"
    }
   ],
   "source": [
    "# métro : projection cylindrique équidistante vs Mercator\n",
    "metro = df.loc[df['Latitude'] > 40]\n",
    "plt.scatter(metro['Longitude'], metro['Latitude']);"
   ]
  },
  {
   "cell_type": "markdown",
   "metadata": {},
   "source": [
    "Prise en compte du relief."
   ]
  },
  {
   "cell_type": "code",
   "execution_count": 155,
   "metadata": {},
   "outputs": [
    {
     "data": {
      "image/png": "[encoded data removed]",
      "text/plain": [
       "<Figure size 432x288 with 1 Axes>"
      ]
     },
     "metadata": {
      "needs_background": "light"
     },
     "output_type": "display_data"
    }
   ],
   "source": [
    "# nuancier bleu\n",
    "plt.scatter(metro[\"Longitude\"],\n",
    "            metro[\"Latitude\"],\n",
    "            c=metro[\"Altitude Moyenne\"],\n",
    "            cmap=plt.cm.Blues,\n",
    "            edgecolors='none');"
   ]
  },
  {
   "cell_type": "markdown",
   "metadata": {},
   "source": [
    "Avec tri des altitudes."
   ]
  },
  {
   "cell_type": "code",
   "execution_count": 156,
   "metadata": {},
   "outputs": [
    {
     "data": {
      "image/png": "[encoded data removed]",
      "text/plain": [
       "<Figure size 432x288 with 1 Axes>"
      ]
     },
     "metadata": {
      "needs_background": "light"
     },
     "output_type": "display_data"
    }
   ],
   "source": [
    "# nuancier bleu avec tri des valeurs\n",
    "metro = metro.sort_values(\"Altitude Moyenne\")\n",
    "plt.scatter(metro[\"Longitude\"],\n",
    "            metro[\"Latitude\"],\n",
    "            c=metro[\"Altitude Moyenne\"],\n",
    "            cmap=plt.cm.Blues,\n",
    "            edgecolors='none');"
   ]
  },
  {
   "cell_type": "markdown",
   "metadata": {},
   "source": [
    "Avec une autre palette de couleur et une colorbar."
   ]
  },
  {
   "cell_type": "code",
   "execution_count": 157,
   "metadata": {},
   "outputs": [
    {
     "data": {
      "image/png": "[encoded data removed]",
      "text/plain": [
       "<Figure size 432x288 with 2 Axes>"
      ]
     },
     "metadata": {
      "needs_background": "light"
     },
     "output_type": "display_data"
    }
   ],
   "source": [
    "# on utilise plt.cm.Spectral_r\n",
    "var = plt.scatter(x=metro[\"Longitude\"],\n",
    "            y=metro[\"Latitude\"],\n",
    "            c=metro[\"Altitude Moyenne\"],\n",
    "            cmap=plt.cm.Spectral_r,\n",
    "            edgecolors='none')\n",
    "plt.colorbar(var);"
   ]
  },
  {
   "cell_type": "markdown",
   "metadata": {},
   "source": [
    "**Remarque**\n",
    "\n",
    "Il existe dans *matplotlib* (et *seaborn*) un système de palettes de couleurs :\n",
    "\n",
    "- matplotlib : http://matplotlib.org/users/colormaps.html\n",
    "\n",
    "- seaborn : http://seaborn.pydata.org/tutorial/color_palettes.html\n",
    "\n",
    "Les librairies gèrent également :\n",
    "\n",
    "- Les palettes de couleurs de **ColorBrewer** : http://colorbrewer2.org\n",
    "\n",
    "- Les 954 couleurs nommées de manière participative par l'initiative **xkcd** : https://xkcd.com/color/rgb/ Voir également le blog : https://blog.xkcd.com/2010/05/03/color-survey-results/"
   ]
  },
  {
   "cell_type": "markdown",
   "metadata": {},
   "source": [
    "### 5.2 Cartes avec plotly\n",
    "\n",
    "Plotly Python Open Source Graphing Library\n",
    "\n",
    "Plotly's Python graphing library makes interactive, publication-quality graphs.\n",
    "\n",
    "Voir : https://plotly.com/python/\n",
    "\n",
    "La société canadienne plotly édite également la librairie **dash**.\n",
    "\n",
    "Voir : https://plotly.com/dash/"
   ]
  },
  {
   "cell_type": "code",
   "execution_count": 161,
   "metadata": {},
   "outputs": [
    {
     "name": "stdout",
     "output_type": "stream",
     "text": [
      "Collecting package metadata (current_repodata.json): done\n",
      "Solving environment: done\n",
      "\n",
      "## Package Plan ##\n",
      "\n",
      "  environment location: /Users/nico/opt/anaconda3\n",
      "\n",
      "  added / updated specs:\n",
      "    - plotly\n",
      "\n",
      "\n",
      "The following packages will be downloaded:\n",
      "\n",
      "    package                    |            build\n",
      "    ---------------------------|-----------------\n",
      "    conda-4.10.3               |   py37hecd8cb5_0         2.9 MB\n",
      "    plotly-3.6.1               |           py37_0        12.9 MB\n",
      "    retrying-1.3.3             |           py37_2          16 KB\n",
      "    ------------------------------------------------------------\n",
      "                                           Total:        15.7 MB\n",
      "\n",
      "The following NEW packages will be INSTALLED:\n",
      "\n",
      "  plotly             pkgs/main/osx-64::plotly-3.6.1-py37_0\n",
      "  retrying           pkgs/main/osx-64::retrying-1.3.3-py37_2\n",
      "\n",
      "The following packages will be UPDATED:\n",
      "\n",
      "  conda                                        4.8.3-py37_0 --> 4.10.3-py37hecd8cb5_0\n",
      "\n",
      "\n",
      "\n",
      "Downloading and Extracting Packages\n",
      "retrying-1.3.3       | 16 KB     | ##################################### | 100% \n",
      "conda-4.10.3         | 2.9 MB    | ##################################### | 100% \n",
      "plotly-3.6.1         | 12.9 MB   | ##################################### | 100% \n",
      "Preparing transaction: done\n",
      "Verifying transaction: done\n",
      "Executing transaction: done\n",
      "\n",
      "Note: you may need to restart the kernel to use updated packages.\n"
     ]
    }
   ],
   "source": [
    "conda install plotly"
   ]
  },
  {
   "cell_type": "code",
   "execution_count": 168,
   "metadata": {},
   "outputs": [
    {
     "name": "stdout",
     "output_type": "stream",
     "text": [
      "Collecting colorlover\n",
      "  Downloading colorlover-0.3.0-py3-none-any.whl (8.9 kB)\n",
      "Installing collected packages: colorlover\n",
      "Successfully installed colorlover-0.3.0\n",
      "\u001b[33mWARNING: You are using pip version 20.1; however, version 21.3 is available.\n",
      "You should consider upgrading via the '/Users/nico/opt/anaconda3/bin/python -m pip install --upgrade pip' command.\u001b[0m\n",
      "Note: you may need to restart the kernel to use updated packages.\n"
     ]
    }
   ],
   "source": [
    "pip install colorlover"
   ]
  },
  {
   "cell_type": "code",
   "execution_count": 169,
   "metadata": {},
   "outputs": [
    {
     "data": {
      "text/html": [
       "<script type=\"text/javascript\">window.PlotlyConfig = {MathJaxConfig: 'local'};</script><script type=\"text/javascript\">if (window.MathJax) {MathJax.Hub.Config({SVG: {font: \"STIX-Web\"}});}</script><script>requirejs.config({paths: { 'plotly': ['https://cdn.plot.ly/plotly-latest.min']},});if(!window._Plotly) {require(['plotly'],function(plotly) {window._Plotly=plotly;});}</script>"
      ],
      "text/vnd.plotly.v1+html": [
       "<script type=\"text/javascript\">window.PlotlyConfig = {MathJaxConfig: 'local'};</script><script type=\"text/javascript\">if (window.MathJax) {MathJax.Hub.Config({SVG: {font: \"STIX-Web\"}});}</script><script>requirejs.config({paths: { 'plotly': ['https://cdn.plot.ly/plotly-latest.min']},});if(!window._Plotly) {require(['plotly'],function(plotly) {window._Plotly=plotly;});}</script>"
      ]
     },
     "metadata": {},
     "output_type": "display_data"
    }
   ],
   "source": [
    "# import\n",
    "from plotly.offline import iplot, init_notebook_mode\n",
    "import colorlover as cl\n",
    "\n",
    "# init\n",
    "init_notebook_mode(connected=True)"
   ]
  },
  {
   "cell_type": "code",
   "execution_count": 170,
   "metadata": {},
   "outputs": [
    {
     "data": {
      "text/plain": [
       "(250, 9)"
      ]
     },
     "execution_count": 170,
     "metadata": {},
     "output_type": "execute_result"
    }
   ],
   "source": [
    "# pays\n",
    "var = pd.read_html('https://www.geonames.org/countries/',\n",
    "                   header=0,\n",
    "                   keep_default_na=False)  # NA = North America\n",
    "df = var[1]\n",
    "df.shape"
   ]
  },
  {
   "cell_type": "markdown",
   "metadata": {},
   "source": [
    "Carte mondiale : programmation déclarative"
   ]
  },
  {
   "cell_type": "code",
   "execution_count": 172,
   "metadata": {},
   "outputs": [
    {
     "data": {
      "application/vnd.plotly.v1+json": {
       "config": {
        "linkText": "Export to plot.ly",
        "plotlyServerURL": "https://plot.ly",
        "showLink": false
       },
       "data": [
        {
         "autocolorscale": false,
         "colorbar": {
          "autotick": false,
          "title": "Population"
         },
         "colorscale": [
          [
           0,
           "rgb(255,245,240)"
          ],
          [
           0.125,
           "rgb(254,224,210)"
          ],
          [
           0.25,
           "rgb(252,187,161)"
          ],
          [
           0.375,
           "rgb(252,146,114)"
          ],
          [
           0.5,
           "rgb(251,106,74)"
          ],
          [
           0.625,
           "rgb(239,59,44)"
          ],
          [
           0.75,
           "rgb(203,24,29)"
          ],
          [
           0.875,
           "rgb(165,15,21)"
          ],
          [
           1,
           "rgb(103,0,13)"
          ]
         ],
         "locations": [
          "AND",
          "ARE",
          "AFG",
          "ATG",
          "AIA",
          "ALB",
          "ARM",
          "AGO",
          "ATA",
          "ARG",
          "ASM",
          "AUT",
          "AUS",
          "ABW",
          "ALA",
          "AZE",
          "BIH",
          "BRB",
          "BGD",
          "BEL",
          "BFA",
          "BGR",
          "BHR",
          "BDI",
          "BEN",
          "BLM",
          "BMU",
          "BRN",
          "BOL",
          "BES",
          "BRA",
          "BHS",
          "BTN",
          "BVT",
          "BWA",
          "BLR",
          "BLZ",
          "CAN",
          "CCK",
          "COD",
          "CAF",
          "COG",
          "CHE",
          "CIV",
          "COK",
          "CHL",
          "CMR",
          "CHN",
          "COL",
          "CRI",
          "CUB",
          "CPV",
          "CUW",
          "CXR",
          "CYP",
          "CZE",
          "DEU",
          "DJI",
          "DNK",
          "DMA",
          "DOM",
          "DZA",
          "ECU",
          "EST",
          "EGY",
          "ESH",
          "ERI",
          "ESP",
          "ETH",
          "FIN",
          "FJI",
          "FLK",
          "FSM",
          "FRO",
          "FRA",
          "GAB",
          "GBR",
          "GRD",
          "GEO",
          "GUF",
          "GGY",
          "GHA",
          "GIB",
          "GRL",
          "GMB",
          "GIN",
          "GLP",
          "GNQ",
          "GRC",
          "SGS",
          "GTM",
          "GUM",
          "GNB",
          "GUY",
          "HKG",
          "HMD",
          "HND",
          "HRV",
          "HTI",
          "HUN",
          "IDN",
          "IRL",
          "ISR",
          "IMN",
          "IND",
          "IOT",
          "IRQ",
          "IRN",
          "ISL",
          "ITA",
          "JEY",
          "JAM",
          "JOR",
          "JPN",
          "KEN",
          "KGZ",
          "KHM",
          "KIR",
          "COM",
          "KNA",
          "PRK",
          "KOR",
          "KWT",
          "CYM",
          "KAZ",
          "LAO",
          "LBN",
          "LCA",
          "LIE",
          "LKA",
          "LBR",
          "LSO",
          "LTU",
          "LUX",
          "LVA",
          "LBY",
          "MAR",
          "MCO",
          "MDA",
          "MNE",
          "MAF",
          "MDG",
          "MHL",
          "MKD",
          "MLI",
          "MMR",
          "MNG",
          "MAC",
          "MNP",
          "MTQ",
          "MRT",
          "MSR",
          "MLT",
          "MUS",
          "MDV",
          "MWI",
          "MEX",
          "MYS",
          "MOZ",
          "NAM",
          "NCL",
          "NER",
          "NFK",
          "NGA",
          "NIC",
          "NLD",
          "NOR",
          "NPL",
          "NRU",
          "NIU",
          "NZL",
          "OMN",
          "PAN",
          "PER",
          "PYF",
          "PNG",
          "PHL",
          "PAK",
          "POL",
          "SPM",
          "PCN",
          "PRI",
          "PSE",
          "PRT",
          "PLW",
          "PRY",
          "QAT",
          "REU",
          "ROU",
          "SRB",
          "RUS",
          "RWA",
          "SAU",
          "SLB",
          "SYC",
          "SDN",
          "SWE",
          "SGP",
          "SHN",
          "SVN",
          "SJM",
          "SVK",
          "SLE",
          "SMR",
          "SEN",
          "SOM",
          "SUR",
          "SSD",
          "STP",
          "SLV",
          "SXM",
          "SYR",
          "SWZ",
          "TCA",
          "TCD",
          "ATF",
          "TGO",
          "THA",
          "TJK",
          "TKL",
          "TLS",
          "TKM",
          "TUN",
          "TON",
          "TUR",
          "TTO",
          "TUV",
          "TWN",
          "TZA",
          "UKR",
          "UGA",
          "UMI",
          "USA",
          "URY",
          "UZB",
          "VAT",
          "VCT",
          "VEN",
          "VGB",
          "VIR",
          "VNM",
          "VUT",
          "WLF",
          "WSM",
          "XKX",
          "YEM",
          "MYT",
          "ZAF",
          "ZMB",
          "ZWE"
         ],
         "marker": {
          "line": {
           "color": "rgb(180,180,180)",
           "width": 0.5
          }
         },
         "reversescale": false,
         "text": [
          "Andorra",
          "United Arab Emirates",
          "Afghanistan",
          "Antigua and Barbuda",
          "Anguilla",
          "Albania",
          "Armenia",
          "Angola",
          "Antarctica",
          "Argentina",
          "American Samoa",
          "Austria",
          "Australia",
          "Aruba",
          "Ãland",
          "Azerbaijan",
          "Bosnia and Herzegovina",
          "Barbados",
          "Bangladesh",
          "Belgium",
          "Burkina Faso",
          "Bulgaria",
          "Bahrain",
          "Burundi",
          "Benin",
          "Saint BarthÃ©lemy",
          "Bermuda",
          "Brunei",
          "Bolivia",
          "Bonaire, Sint Eustatius, and Saba",
          "Brazil",
          "Bahamas",
          "Bhutan",
          "Bouvet Island",
          "Botswana",
          "Belarus",
          "Belize",
          "Canada",
          "Cocos (Keeling) Islands",
          "DR Congo",
          "Central African Republic",
          "Congo Republic",
          "Switzerland",
          "Ivory Coast",
          "Cook Islands",
          "Chile",
          "Cameroon",
          "China",
          "Colombia",
          "Costa Rica",
          "Cuba",
          "Cabo Verde",
          "CuraÃ§ao",
          "Christmas Island",
          "Cyprus",
          "Czechia",
          "Germany",
          "Djibouti",
          "Denmark",
          "Dominica",
          "Dominican Republic",
          "Algeria",
          "Ecuador",
          "Estonia",
          "Egypt",
          "Western Sahara",
          "Eritrea",
          "Spain",
          "Ethiopia",
          "Finland",
          "Fiji",
          "Falkland Islands",
          "Micronesia",
          "Faroe Islands",
          "France",
          "Gabon",
          "United Kingdom",
          "Grenada",
          "Georgia",
          "French Guiana",
          "Guernsey",
          "Ghana",
          "Gibraltar",
          "Greenland",
          "The Gambia",
          "Guinea",
          "Guadeloupe",
          "Equatorial Guinea",
          "Greece",
          "South Georgia and South Sandwich Islands",
          "Guatemala",
          "Guam",
          "Guinea-Bissau",
          "Guyana",
          "Hong Kong",
          "Heard and McDonald Islands",
          "Honduras",
          "Croatia",
          "Haiti",
          "Hungary",
          "Indonesia",
          "Ireland",
          "Israel",
          "Isle of Man",
          "India",
          "British Indian Ocean Territory",
          "Iraq",
          "Iran",
          "Iceland",
          "Italy",
          "Jersey",
          "Jamaica",
          "Jordan",
          "Japan",
          "Kenya",
          "Kyrgyzstan",
          "Cambodia",
          "Kiribati",
          "Comoros",
          "St Kitts and Nevis",
          "North Korea",
          "South Korea",
          "Kuwait",
          "Cayman Islands",
          "Kazakhstan",
          "Laos",
          "Lebanon",
          "Saint Lucia",
          "Liechtenstein",
          "Sri Lanka",
          "Liberia",
          "Lesotho",
          "Lithuania",
          "Luxembourg",
          "Latvia",
          "Libya",
          "Morocco",
          "Monaco",
          "Moldova",
          "Montenegro",
          "Saint Martin",
          "Madagascar",
          "Marshall Islands",
          "North Macedonia",
          "Mali",
          "Myanmar",
          "Mongolia",
          "Macao",
          "Northern Mariana Islands",
          "Martinique",
          "Mauritania",
          "Montserrat",
          "Malta",
          "Mauritius",
          "Maldives",
          "Malawi",
          "Mexico",
          "Malaysia",
          "Mozambique",
          "Namibia",
          "New Caledonia",
          "Niger",
          "Norfolk Island",
          "Nigeria",
          "Nicaragua",
          "Netherlands",
          "Norway",
          "Nepal",
          "Nauru",
          "Niue",
          "New Zealand",
          "Oman",
          "Panama",
          "Peru",
          "French Polynesia",
          "Papua New Guinea",
          "Philippines",
          "Pakistan",
          "Poland",
          "Saint Pierre and Miquelon",
          "Pitcairn Islands",
          "Puerto Rico",
          "Palestine",
          "Portugal",
          "Palau",
          "Paraguay",
          "Qatar",
          "RÃ©union",
          "Romania",
          "Serbia",
          "Russia",
          "Rwanda",
          "Saudi Arabia",
          "Solomon Islands",
          "Seychelles",
          "Sudan",
          "Sweden",
          "Singapore",
          "Saint Helena",
          "Slovenia",
          "Svalbard and Jan Mayen",
          "Slovakia",
          "Sierra Leone",
          "San Marino",
          "Senegal",
          "Somalia",
          "Suriname",
          "South Sudan",
          "SÃ£o TomÃ© and PrÃ­ncipe",
          "El Salvador",
          "Sint Maarten",
          "Syria",
          "Eswatini",
          "Turks and Caicos Islands",
          "Chad",
          "French Southern Territories",
          "Togo",
          "Thailand",
          "Tajikistan",
          "Tokelau",
          "Timor-Leste",
          "Turkmenistan",
          "Tunisia",
          "Tonga",
          "Turkey",
          "Trinidad and Tobago",
          "Tuvalu",
          "Taiwan",
          "Tanzania",
          "Ukraine",
          "Uganda",
          "U.S. Outlying Islands",
          "United States",
          "Uruguay",
          "Uzbekistan",
          "Vatican City",
          "St Vincent and Grenadines",
          "Venezuela",
          "British Virgin Islands",
          "U.S. Virgin Islands",
          "Vietnam",
          "Vanuatu",
          "Wallis and Futuna",
          "Samoa",
          "Kosovo",
          "Yemen",
          "Mayotte",
          "South Africa",
          "Zambia",
          "Zimbabwe"
         ],
         "type": "choropleth",
         "z": [
          77006,
          9630959,
          37172386,
          96286,
          13254,
          2866376,
          2951776,
          30809762,
          0,
          44494502,
          55465,
          8847037,
          24992369,
          105845,
          26711,
          9942334,
          3323929,
          286641,
          161356039,
          11422068,
          19751535,
          7000039,
          1569439,
          11175378,
          11485048,
          8450,
          63968,
          428962,
          11353142,
          18012,
          209469333,
          385640,
          754394,
          0,
          2254126,
          9485386,
          383071,
          37058856,
          628,
          84068091,
          4666377,
          5244363,
          8516543,
          25069229,
          21388,
          18729160,
          25216237,
          1392730000,
          49648685,
          4999441,
          11338138,
          543767,
          159849,
          1500,
          1189265,
          10625695,
          82927922,
          958920,
          5797446,
          71625,
          10627165,
          42228429,
          17084357,
          1320884,
          98423595,
          273008,
          0,
          46723749,
          109224559,
          5518050,
          883483,
          2638,
          112640,
          48497,
          66987244,
          2119275,
          66488991,
          111454,
          3731000,
          195506,
          65228,
          29767108,
          33718,
          56025,
          2280102,
          12414318,
          443000,
          1308974,
          10727668,
          30,
          17247807,
          165768,
          1874309,
          779004,
          7451000,
          0,
          9587522,
          4089400,
          11123176,
          9768785,
          267663435,
          4853506,
          8883800,
          84077,
          1352617328,
          4000,
          38433600,
          81800269,
          353574,
          60431283,
          90812,
          2934855,
          9956011,
          126529100,
          51393010,
          6315800,
          16249798,
          115847,
          832322,
          52441,
          25549819,
          51635256,
          4137309,
          64174,
          18276499,
          7061507,
          6848925,
          181889,
          37910,
          21670000,
          4818977,
          2108132,
          2789533,
          607728,
          1926542,
          6678567,
          36029138,
          38682,
          3545883,
          622345,
          37264,
          26262368,
          58413,
          2082958,
          19077690,
          53708395,
          3170208,
          631636,
          56882,
          432900,
          4403319,
          9341,
          483530,
          1265303,
          515696,
          17563749,
          126190788,
          31528585,
          29495962,
          2448255,
          284060,
          22442948,
          1828,
          195874740,
          6465513,
          17231017,
          5314336,
          28087871,
          12704,
          2166,
          4885500,
          4829483,
          4176873,
          31989256,
          277679,
          8606316,
          106651922,
          212215030,
          37978548,
          7012,
          46,
          3195153,
          4569087,
          10281762,
          17907,
          6956071,
          2781677,
          776948,
          19473936,
          6982084,
          144478050,
          12301939,
          33699947,
          652858,
          96762,
          41801533,
          10183175,
          5638676,
          7460,
          2067372,
          2550,
          5447011,
          7650154,
          33785,
          15854360,
          15008154,
          575991,
          8260490,
          197700,
          6420744,
          40654,
          16906283,
          1136191,
          37665,
          15477751,
          140,
          7889094,
          69428524,
          9100837,
          1466,
          1267972,
          5850908,
          11565204,
          103197,
          82319724,
          1389858,
          11508,
          22894384,
          56318348,
          44622516,
          42723139,
          0,
          327167434,
          3449299,
          32955400,
          921,
          110211,
          28870195,
          29802,
          106977,
          95540395,
          292680,
          16025,
          196130,
          1845300,
          28498687,
          279471,
          57779622,
          17351822,
          14439018
         ]
        }
       ],
       "layout": {
        "geo": {
         "projection": {
          "type": "natural earth"
         },
         "showcoastlines": false,
         "showcountries": true,
         "showframe": false
        },
        "title": "<br>Source:            <a href=\"https://www.geonames.org/countries/\">            geonames</a>"
       }
      },
      "text/html": [
       "<div id=\"d07e8002-35ae-4142-b97a-1ee7fd85456a\" style=\"height: 525px; width: 100%;\" class=\"plotly-graph-div\"></div><script type=\"text/javascript\">require([\"plotly\"], function(Plotly) { window.PLOTLYENV=window.PLOTLYENV || {};window.PLOTLYENV.BASE_URL=\"https://plot.ly\";Plotly.newPlot(\"d07e8002-35ae-4142-b97a-1ee7fd85456a\", [{\"type\": \"choropleth\", \"locations\": [\"AND\", \"ARE\", \"AFG\", \"ATG\", \"AIA\", \"ALB\", \"ARM\", \"AGO\", \"ATA\", \"ARG\", \"ASM\", \"AUT\", \"AUS\", \"ABW\", \"ALA\", \"AZE\", \"BIH\", \"BRB\", \"BGD\", \"BEL\", \"BFA\", \"BGR\", \"BHR\", \"BDI\", \"BEN\", \"BLM\", \"BMU\", \"BRN\", \"BOL\", \"BES\", \"BRA\", \"BHS\", \"BTN\", \"BVT\", \"BWA\", \"BLR\", \"BLZ\", \"CAN\", \"CCK\", \"COD\", \"CAF\", \"COG\", \"CHE\", \"CIV\", \"COK\", \"CHL\", \"CMR\", \"CHN\", \"COL\", \"CRI\", \"CUB\", \"CPV\", \"CUW\", \"CXR\", \"CYP\", \"CZE\", \"DEU\", \"DJI\", \"DNK\", \"DMA\", \"DOM\", \"DZA\", \"ECU\", \"EST\", \"EGY\", \"ESH\", \"ERI\", \"ESP\", \"ETH\", \"FIN\", \"FJI\", \"FLK\", \"FSM\", \"FRO\", \"FRA\", \"GAB\", \"GBR\", \"GRD\", \"GEO\", \"GUF\", \"GGY\", \"GHA\", \"GIB\", \"GRL\", \"GMB\", \"GIN\", \"GLP\", \"GNQ\", \"GRC\", \"SGS\", \"GTM\", \"GUM\", \"GNB\", \"GUY\", \"HKG\", \"HMD\", \"HND\", \"HRV\", \"HTI\", \"HUN\", \"IDN\", \"IRL\", \"ISR\", \"IMN\", \"IND\", \"IOT\", \"IRQ\", \"IRN\", \"ISL\", \"ITA\", \"JEY\", \"JAM\", \"JOR\", \"JPN\", \"KEN\", \"KGZ\", \"KHM\", \"KIR\", \"COM\", \"KNA\", \"PRK\", \"KOR\", \"KWT\", \"CYM\", \"KAZ\", \"LAO\", \"LBN\", \"LCA\", \"LIE\", \"LKA\", \"LBR\", \"LSO\", \"LTU\", \"LUX\", \"LVA\", \"LBY\", \"MAR\", \"MCO\", \"MDA\", \"MNE\", \"MAF\", \"MDG\", \"MHL\", \"MKD\", \"MLI\", \"MMR\", \"MNG\", \"MAC\", \"MNP\", \"MTQ\", \"MRT\", \"MSR\", \"MLT\", \"MUS\", \"MDV\", \"MWI\", \"MEX\", \"MYS\", \"MOZ\", \"NAM\", \"NCL\", \"NER\", \"NFK\", \"NGA\", \"NIC\", \"NLD\", \"NOR\", \"NPL\", \"NRU\", \"NIU\", \"NZL\", \"OMN\", \"PAN\", \"PER\", \"PYF\", \"PNG\", \"PHL\", \"PAK\", \"POL\", \"SPM\", \"PCN\", \"PRI\", \"PSE\", \"PRT\", \"PLW\", \"PRY\", \"QAT\", \"REU\", \"ROU\", \"SRB\", \"RUS\", \"RWA\", \"SAU\", \"SLB\", \"SYC\", \"SDN\", \"SWE\", \"SGP\", \"SHN\", \"SVN\", \"SJM\", \"SVK\", \"SLE\", \"SMR\", \"SEN\", \"SOM\", \"SUR\", \"SSD\", \"STP\", \"SLV\", \"SXM\", \"SYR\", \"SWZ\", \"TCA\", \"TCD\", \"ATF\", \"TGO\", \"THA\", \"TJK\", \"TKL\", \"TLS\", \"TKM\", \"TUN\", \"TON\", \"TUR\", \"TTO\", \"TUV\", \"TWN\", \"TZA\", \"UKR\", \"UGA\", \"UMI\", \"USA\", \"URY\", \"UZB\", \"VAT\", \"VCT\", \"VEN\", \"VGB\", \"VIR\", \"VNM\", \"VUT\", \"WLF\", \"WSM\", \"XKX\", \"YEM\", \"MYT\", \"ZAF\", \"ZMB\", \"ZWE\"], \"z\": [77006, 9630959, 37172386, 96286, 13254, 2866376, 2951776, 30809762, 0, 44494502, 55465, 8847037, 24992369, 105845, 26711, 9942334, 3323929, 286641, 161356039, 11422068, 19751535, 7000039, 1569439, 11175378, 11485048, 8450, 63968, 428962, 11353142, 18012, 209469333, 385640, 754394, 0, 2254126, 9485386, 383071, 37058856, 628, 84068091, 4666377, 5244363, 8516543, 25069229, 21388, 18729160, 25216237, 1392730000, 49648685, 4999441, 11338138, 543767, 159849, 1500, 1189265, 10625695, 82927922, 958920, 5797446, 71625, 10627165, 42228429, 17084357, 1320884, 98423595, 273008, 0, 46723749, 109224559, 5518050, 883483, 2638, 112640, 48497, 66987244, 2119275, 66488991, 111454, 3731000, 195506, 65228, 29767108, 33718, 56025, 2280102, 12414318, 443000, 1308974, 10727668, 30, 17247807, 165768, 1874309, 779004, 7451000, 0, 9587522, 4089400, 11123176, 9768785, 267663435, 4853506, 8883800, 84077, 1352617328, 4000, 38433600, 81800269, 353574, 60431283, 90812, 2934855, 9956011, 126529100, 51393010, 6315800, 16249798, 115847, 832322, 52441, 25549819, 51635256, 4137309, 64174, 18276499, 7061507, 6848925, 181889, 37910, 21670000, 4818977, 2108132, 2789533, 607728, 1926542, 6678567, 36029138, 38682, 3545883, 622345, 37264, 26262368, 58413, 2082958, 19077690, 53708395, 3170208, 631636, 56882, 432900, 4403319, 9341, 483530, 1265303, 515696, 17563749, 126190788, 31528585, 29495962, 2448255, 284060, 22442948, 1828, 195874740, 6465513, 17231017, 5314336, 28087871, 12704, 2166, 4885500, 4829483, 4176873, 31989256, 277679, 8606316, 106651922, 212215030, 37978548, 7012, 46, 3195153, 4569087, 10281762, 17907, 6956071, 2781677, 776948, 19473936, 6982084, 144478050, 12301939, 33699947, 652858, 96762, 41801533, 10183175, 5638676, 7460, 2067372, 2550, 5447011, 7650154, 33785, 15854360, 15008154, 575991, 8260490, 197700, 6420744, 40654, 16906283, 1136191, 37665, 15477751, 140, 7889094, 69428524, 9100837, 1466, 1267972, 5850908, 11565204, 103197, 82319724, 1389858, 11508, 22894384, 56318348, 44622516, 42723139, 0, 327167434, 3449299, 32955400, 921, 110211, 28870195, 29802, 106977, 95540395, 292680, 16025, 196130, 1845300, 28498687, 279471, 57779622, 17351822, 14439018], \"text\": [\"Andorra\", \"United Arab Emirates\", \"Afghanistan\", \"Antigua and Barbuda\", \"Anguilla\", \"Albania\", \"Armenia\", \"Angola\", \"Antarctica\", \"Argentina\", \"American Samoa\", \"Austria\", \"Australia\", \"Aruba\", \"\\u00c3\\u0085land\", \"Azerbaijan\", \"Bosnia and Herzegovina\", \"Barbados\", \"Bangladesh\", \"Belgium\", \"Burkina Faso\", \"Bulgaria\", \"Bahrain\", \"Burundi\", \"Benin\", \"Saint Barth\\u00c3\\u00a9lemy\", \"Bermuda\", \"Brunei\", \"Bolivia\", \"Bonaire, Sint Eustatius, and Saba\", \"Brazil\", \"Bahamas\", \"Bhutan\", \"Bouvet Island\", \"Botswana\", \"Belarus\", \"Belize\", \"Canada\", \"Cocos (Keeling) Islands\", \"DR Congo\", \"Central African Republic\", \"Congo Republic\", \"Switzerland\", \"Ivory Coast\", \"Cook Islands\", \"Chile\", \"Cameroon\", \"China\", \"Colombia\", \"Costa Rica\", \"Cuba\", \"Cabo Verde\", \"Cura\\u00c3\\u00a7ao\", \"Christmas Island\", \"Cyprus\", \"Czechia\", \"Germany\", \"Djibouti\", \"Denmark\", \"Dominica\", \"Dominican Republic\", \"Algeria\", \"Ecuador\", \"Estonia\", \"Egypt\", \"Western Sahara\", \"Eritrea\", \"Spain\", \"Ethiopia\", \"Finland\", \"Fiji\", \"Falkland Islands\", \"Micronesia\", \"Faroe Islands\", \"France\", \"Gabon\", \"United Kingdom\", \"Grenada\", \"Georgia\", \"French Guiana\", \"Guernsey\", \"Ghana\", \"Gibraltar\", \"Greenland\", \"The Gambia\", \"Guinea\", \"Guadeloupe\", \"Equatorial Guinea\", \"Greece\", \"South Georgia and South Sandwich Islands\", \"Guatemala\", \"Guam\", \"Guinea-Bissau\", \"Guyana\", \"Hong Kong\", \"Heard and McDonald Islands\", \"Honduras\", \"Croatia\", \"Haiti\", \"Hungary\", \"Indonesia\", \"Ireland\", \"Israel\", \"Isle of Man\", \"India\", \"British Indian Ocean Territory\", \"Iraq\", \"Iran\", \"Iceland\", \"Italy\", \"Jersey\", \"Jamaica\", \"Jordan\", \"Japan\", \"Kenya\", \"Kyrgyzstan\", \"Cambodia\", \"Kiribati\", \"Comoros\", \"St Kitts and Nevis\", \"North Korea\", \"South Korea\", \"Kuwait\", \"Cayman Islands\", \"Kazakhstan\", \"Laos\", \"Lebanon\", \"Saint Lucia\", \"Liechtenstein\", \"Sri Lanka\", \"Liberia\", \"Lesotho\", \"Lithuania\", \"Luxembourg\", \"Latvia\", \"Libya\", \"Morocco\", \"Monaco\", \"Moldova\", \"Montenegro\", \"Saint Martin\", \"Madagascar\", \"Marshall Islands\", \"North Macedonia\", \"Mali\", \"Myanmar\", \"Mongolia\", \"Macao\", \"Northern Mariana Islands\", \"Martinique\", \"Mauritania\", \"Montserrat\", \"Malta\", \"Mauritius\", \"Maldives\", \"Malawi\", \"Mexico\", \"Malaysia\", \"Mozambique\", \"Namibia\", \"New Caledonia\", \"Niger\", \"Norfolk Island\", \"Nigeria\", \"Nicaragua\", \"Netherlands\", \"Norway\", \"Nepal\", \"Nauru\", \"Niue\", \"New Zealand\", \"Oman\", \"Panama\", \"Peru\", \"French Polynesia\", \"Papua New Guinea\", \"Philippines\", \"Pakistan\", \"Poland\", \"Saint Pierre and Miquelon\", \"Pitcairn Islands\", \"Puerto Rico\", \"Palestine\", \"Portugal\", \"Palau\", \"Paraguay\", \"Qatar\", \"R\\u00c3\\u00a9union\", \"Romania\", \"Serbia\", \"Russia\", \"Rwanda\", \"Saudi Arabia\", \"Solomon Islands\", \"Seychelles\", \"Sudan\", \"Sweden\", \"Singapore\", \"Saint Helena\", \"Slovenia\", \"Svalbard and Jan Mayen\", \"Slovakia\", \"Sierra Leone\", \"San Marino\", \"Senegal\", \"Somalia\", \"Suriname\", \"South Sudan\", \"S\\u00c3\\u00a3o Tom\\u00c3\\u00a9 and Pr\\u00c3\\u00adncipe\", \"El Salvador\", \"Sint Maarten\", \"Syria\", \"Eswatini\", \"Turks and Caicos Islands\", \"Chad\", \"French Southern Territories\", \"Togo\", \"Thailand\", \"Tajikistan\", \"Tokelau\", \"Timor-Leste\", \"Turkmenistan\", \"Tunisia\", \"Tonga\", \"Turkey\", \"Trinidad and Tobago\", \"Tuvalu\", \"Taiwan\", \"Tanzania\", \"Ukraine\", \"Uganda\", \"U.S. Outlying Islands\", \"United States\", \"Uruguay\", \"Uzbekistan\", \"Vatican City\", \"St Vincent and Grenadines\", \"Venezuela\", \"British Virgin Islands\", \"U.S. Virgin Islands\", \"Vietnam\", \"Vanuatu\", \"Wallis and Futuna\", \"Samoa\", \"Kosovo\", \"Yemen\", \"Mayotte\", \"South Africa\", \"Zambia\", \"Zimbabwe\"], \"colorscale\": [[0.0, \"rgb(255,245,240)\"], [0.125, \"rgb(254,224,210)\"], [0.25, \"rgb(252,187,161)\"], [0.375, \"rgb(252,146,114)\"], [0.5, \"rgb(251,106,74)\"], [0.625, \"rgb(239,59,44)\"], [0.75, \"rgb(203,24,29)\"], [0.875, \"rgb(165,15,21)\"], [1.0, \"rgb(103,0,13)\"]], \"autocolorscale\": false, \"reversescale\": false, \"marker\": {\"line\": {\"color\": \"rgb(180,180,180)\", \"width\": 0.5}}, \"colorbar\": {\"autotick\": false, \"title\": \"Population\"}}], {\"title\": \"<br>Source:            <a href=\\\"https://www.geonames.org/countries/\\\">            geonames</a>\", \"geo\": {\"showcountries\": true, \"showframe\": false, \"showcoastlines\": false, \"projection\": {\"type\": \"natural earth\"}}}, {\"showLink\": false, \"linkText\": \"Export to plot.ly\", \"plotlyServerURL\": \"https://plot.ly\"})});</script><script type=\"text/javascript\">window.addEventListener(\"resize\", function(){window._Plotly.Plots.resize(document.getElementById(\"d07e8002-35ae-4142-b97a-1ee7fd85456a\"));});</script>"
      ],
      "text/vnd.plotly.v1+html": [
       "<div id=\"d07e8002-35ae-4142-b97a-1ee7fd85456a\" style=\"height: 525px; width: 100%;\" class=\"plotly-graph-div\"></div><script type=\"text/javascript\">require([\"plotly\"], function(Plotly) { window.PLOTLYENV=window.PLOTLYENV || {};window.PLOTLYENV.BASE_URL=\"https://plot.ly\";Plotly.newPlot(\"d07e8002-35ae-4142-b97a-1ee7fd85456a\", [{\"type\": \"choropleth\", \"locations\": [\"AND\", \"ARE\", \"AFG\", \"ATG\", \"AIA\", \"ALB\", \"ARM\", \"AGO\", \"ATA\", \"ARG\", \"ASM\", \"AUT\", \"AUS\", \"ABW\", \"ALA\", \"AZE\", \"BIH\", \"BRB\", \"BGD\", \"BEL\", \"BFA\", \"BGR\", \"BHR\", \"BDI\", \"BEN\", \"BLM\", \"BMU\", \"BRN\", \"BOL\", \"BES\", \"BRA\", \"BHS\", \"BTN\", \"BVT\", \"BWA\", \"BLR\", \"BLZ\", \"CAN\", \"CCK\", \"COD\", \"CAF\", \"COG\", \"CHE\", \"CIV\", \"COK\", \"CHL\", \"CMR\", \"CHN\", \"COL\", \"CRI\", \"CUB\", \"CPV\", \"CUW\", \"CXR\", \"CYP\", \"CZE\", \"DEU\", \"DJI\", \"DNK\", \"DMA\", \"DOM\", \"DZA\", \"ECU\", \"EST\", \"EGY\", \"ESH\", \"ERI\", \"ESP\", \"ETH\", \"FIN\", \"FJI\", \"FLK\", \"FSM\", \"FRO\", \"FRA\", \"GAB\", \"GBR\", \"GRD\", \"GEO\", \"GUF\", \"GGY\", \"GHA\", \"GIB\", \"GRL\", \"GMB\", \"GIN\", \"GLP\", \"GNQ\", \"GRC\", \"SGS\", \"GTM\", \"GUM\", \"GNB\", \"GUY\", \"HKG\", \"HMD\", \"HND\", \"HRV\", \"HTI\", \"HUN\", \"IDN\", \"IRL\", \"ISR\", \"IMN\", \"IND\", \"IOT\", \"IRQ\", \"IRN\", \"ISL\", \"ITA\", \"JEY\", \"JAM\", \"JOR\", \"JPN\", \"KEN\", \"KGZ\", \"KHM\", \"KIR\", \"COM\", \"KNA\", \"PRK\", \"KOR\", \"KWT\", \"CYM\", \"KAZ\", \"LAO\", \"LBN\", \"LCA\", \"LIE\", \"LKA\", \"LBR\", \"LSO\", \"LTU\", \"LUX\", \"LVA\", \"LBY\", \"MAR\", \"MCO\", \"MDA\", \"MNE\", \"MAF\", \"MDG\", \"MHL\", \"MKD\", \"MLI\", \"MMR\", \"MNG\", \"MAC\", \"MNP\", \"MTQ\", \"MRT\", \"MSR\", \"MLT\", \"MUS\", \"MDV\", \"MWI\", \"MEX\", \"MYS\", \"MOZ\", \"NAM\", \"NCL\", \"NER\", \"NFK\", \"NGA\", \"NIC\", \"NLD\", \"NOR\", \"NPL\", \"NRU\", \"NIU\", \"NZL\", \"OMN\", \"PAN\", \"PER\", \"PYF\", \"PNG\", \"PHL\", \"PAK\", \"POL\", \"SPM\", \"PCN\", \"PRI\", \"PSE\", \"PRT\", \"PLW\", \"PRY\", \"QAT\", \"REU\", \"ROU\", \"SRB\", \"RUS\", \"RWA\", \"SAU\", \"SLB\", \"SYC\", \"SDN\", \"SWE\", \"SGP\", \"SHN\", \"SVN\", \"SJM\", \"SVK\", \"SLE\", \"SMR\", \"SEN\", \"SOM\", \"SUR\", \"SSD\", \"STP\", \"SLV\", \"SXM\", \"SYR\", \"SWZ\", \"TCA\", \"TCD\", \"ATF\", \"TGO\", \"THA\", \"TJK\", \"TKL\", \"TLS\", \"TKM\", \"TUN\", \"TON\", \"TUR\", \"TTO\", \"TUV\", \"TWN\", \"TZA\", \"UKR\", \"UGA\", \"UMI\", \"USA\", \"URY\", \"UZB\", \"VAT\", \"VCT\", \"VEN\", \"VGB\", \"VIR\", \"VNM\", \"VUT\", \"WLF\", \"WSM\", \"XKX\", \"YEM\", \"MYT\", \"ZAF\", \"ZMB\", \"ZWE\"], \"z\": [77006, 9630959, 37172386, 96286, 13254, 2866376, 2951776, 30809762, 0, 44494502, 55465, 8847037, 24992369, 105845, 26711, 9942334, 3323929, 286641, 161356039, 11422068, 19751535, 7000039, 1569439, 11175378, 11485048, 8450, 63968, 428962, 11353142, 18012, 209469333, 385640, 754394, 0, 2254126, 9485386, 383071, 37058856, 628, 84068091, 4666377, 5244363, 8516543, 25069229, 21388, 18729160, 25216237, 1392730000, 49648685, 4999441, 11338138, 543767, 159849, 1500, 1189265, 10625695, 82927922, 958920, 5797446, 71625, 10627165, 42228429, 17084357, 1320884, 98423595, 273008, 0, 46723749, 109224559, 5518050, 883483, 2638, 112640, 48497, 66987244, 2119275, 66488991, 111454, 3731000, 195506, 65228, 29767108, 33718, 56025, 2280102, 12414318, 443000, 1308974, 10727668, 30, 17247807, 165768, 1874309, 779004, 7451000, 0, 9587522, 4089400, 11123176, 9768785, 267663435, 4853506, 8883800, 84077, 1352617328, 4000, 38433600, 81800269, 353574, 60431283, 90812, 2934855, 9956011, 126529100, 51393010, 6315800, 16249798, 115847, 832322, 52441, 25549819, 51635256, 4137309, 64174, 18276499, 7061507, 6848925, 181889, 37910, 21670000, 4818977, 2108132, 2789533, 607728, 1926542, 6678567, 36029138, 38682, 3545883, 622345, 37264, 26262368, 58413, 2082958, 19077690, 53708395, 3170208, 631636, 56882, 432900, 4403319, 9341, 483530, 1265303, 515696, 17563749, 126190788, 31528585, 29495962, 2448255, 284060, 22442948, 1828, 195874740, 6465513, 17231017, 5314336, 28087871, 12704, 2166, 4885500, 4829483, 4176873, 31989256, 277679, 8606316, 106651922, 212215030, 37978548, 7012, 46, 3195153, 4569087, 10281762, 17907, 6956071, 2781677, 776948, 19473936, 6982084, 144478050, 12301939, 33699947, 652858, 96762, 41801533, 10183175, 5638676, 7460, 2067372, 2550, 5447011, 7650154, 33785, 15854360, 15008154, 575991, 8260490, 197700, 6420744, 40654, 16906283, 1136191, 37665, 15477751, 140, 7889094, 69428524, 9100837, 1466, 1267972, 5850908, 11565204, 103197, 82319724, 1389858, 11508, 22894384, 56318348, 44622516, 42723139, 0, 327167434, 3449299, 32955400, 921, 110211, 28870195, 29802, 106977, 95540395, 292680, 16025, 196130, 1845300, 28498687, 279471, 57779622, 17351822, 14439018], \"text\": [\"Andorra\", \"United Arab Emirates\", \"Afghanistan\", \"Antigua and Barbuda\", \"Anguilla\", \"Albania\", \"Armenia\", \"Angola\", \"Antarctica\", \"Argentina\", \"American Samoa\", \"Austria\", \"Australia\", \"Aruba\", \"\\u00c3\\u0085land\", \"Azerbaijan\", \"Bosnia and Herzegovina\", \"Barbados\", \"Bangladesh\", \"Belgium\", \"Burkina Faso\", \"Bulgaria\", \"Bahrain\", \"Burundi\", \"Benin\", \"Saint Barth\\u00c3\\u00a9lemy\", \"Bermuda\", \"Brunei\", \"Bolivia\", \"Bonaire, Sint Eustatius, and Saba\", \"Brazil\", \"Bahamas\", \"Bhutan\", \"Bouvet Island\", \"Botswana\", \"Belarus\", \"Belize\", \"Canada\", \"Cocos (Keeling) Islands\", \"DR Congo\", \"Central African Republic\", \"Congo Republic\", \"Switzerland\", \"Ivory Coast\", \"Cook Islands\", \"Chile\", \"Cameroon\", \"China\", \"Colombia\", \"Costa Rica\", \"Cuba\", \"Cabo Verde\", \"Cura\\u00c3\\u00a7ao\", \"Christmas Island\", \"Cyprus\", \"Czechia\", \"Germany\", \"Djibouti\", \"Denmark\", \"Dominica\", \"Dominican Republic\", \"Algeria\", \"Ecuador\", \"Estonia\", \"Egypt\", \"Western Sahara\", \"Eritrea\", \"Spain\", \"Ethiopia\", \"Finland\", \"Fiji\", \"Falkland Islands\", \"Micronesia\", \"Faroe Islands\", \"France\", \"Gabon\", \"United Kingdom\", \"Grenada\", \"Georgia\", \"French Guiana\", \"Guernsey\", \"Ghana\", \"Gibraltar\", \"Greenland\", \"The Gambia\", \"Guinea\", \"Guadeloupe\", \"Equatorial Guinea\", \"Greece\", \"South Georgia and South Sandwich Islands\", \"Guatemala\", \"Guam\", \"Guinea-Bissau\", \"Guyana\", \"Hong Kong\", \"Heard and McDonald Islands\", \"Honduras\", \"Croatia\", \"Haiti\", \"Hungary\", \"Indonesia\", \"Ireland\", \"Israel\", \"Isle of Man\", \"India\", \"British Indian Ocean Territory\", \"Iraq\", \"Iran\", \"Iceland\", \"Italy\", \"Jersey\", \"Jamaica\", \"Jordan\", \"Japan\", \"Kenya\", \"Kyrgyzstan\", \"Cambodia\", \"Kiribati\", \"Comoros\", \"St Kitts and Nevis\", \"North Korea\", \"South Korea\", \"Kuwait\", \"Cayman Islands\", \"Kazakhstan\", \"Laos\", \"Lebanon\", \"Saint Lucia\", \"Liechtenstein\", \"Sri Lanka\", \"Liberia\", \"Lesotho\", \"Lithuania\", \"Luxembourg\", \"Latvia\", \"Libya\", \"Morocco\", \"Monaco\", \"Moldova\", \"Montenegro\", \"Saint Martin\", \"Madagascar\", \"Marshall Islands\", \"North Macedonia\", \"Mali\", \"Myanmar\", \"Mongolia\", \"Macao\", \"Northern Mariana Islands\", \"Martinique\", \"Mauritania\", \"Montserrat\", \"Malta\", \"Mauritius\", \"Maldives\", \"Malawi\", \"Mexico\", \"Malaysia\", \"Mozambique\", \"Namibia\", \"New Caledonia\", \"Niger\", \"Norfolk Island\", \"Nigeria\", \"Nicaragua\", \"Netherlands\", \"Norway\", \"Nepal\", \"Nauru\", \"Niue\", \"New Zealand\", \"Oman\", \"Panama\", \"Peru\", \"French Polynesia\", \"Papua New Guinea\", \"Philippines\", \"Pakistan\", \"Poland\", \"Saint Pierre and Miquelon\", \"Pitcairn Islands\", \"Puerto Rico\", \"Palestine\", \"Portugal\", \"Palau\", \"Paraguay\", \"Qatar\", \"R\\u00c3\\u00a9union\", \"Romania\", \"Serbia\", \"Russia\", \"Rwanda\", \"Saudi Arabia\", \"Solomon Islands\", \"Seychelles\", \"Sudan\", \"Sweden\", \"Singapore\", \"Saint Helena\", \"Slovenia\", \"Svalbard and Jan Mayen\", \"Slovakia\", \"Sierra Leone\", \"San Marino\", \"Senegal\", \"Somalia\", \"Suriname\", \"South Sudan\", \"S\\u00c3\\u00a3o Tom\\u00c3\\u00a9 and Pr\\u00c3\\u00adncipe\", \"El Salvador\", \"Sint Maarten\", \"Syria\", \"Eswatini\", \"Turks and Caicos Islands\", \"Chad\", \"French Southern Territories\", \"Togo\", \"Thailand\", \"Tajikistan\", \"Tokelau\", \"Timor-Leste\", \"Turkmenistan\", \"Tunisia\", \"Tonga\", \"Turkey\", \"Trinidad and Tobago\", \"Tuvalu\", \"Taiwan\", \"Tanzania\", \"Ukraine\", \"Uganda\", \"U.S. Outlying Islands\", \"United States\", \"Uruguay\", \"Uzbekistan\", \"Vatican City\", \"St Vincent and Grenadines\", \"Venezuela\", \"British Virgin Islands\", \"U.S. Virgin Islands\", \"Vietnam\", \"Vanuatu\", \"Wallis and Futuna\", \"Samoa\", \"Kosovo\", \"Yemen\", \"Mayotte\", \"South Africa\", \"Zambia\", \"Zimbabwe\"], \"colorscale\": [[0.0, \"rgb(255,245,240)\"], [0.125, \"rgb(254,224,210)\"], [0.25, \"rgb(252,187,161)\"], [0.375, \"rgb(252,146,114)\"], [0.5, \"rgb(251,106,74)\"], [0.625, \"rgb(239,59,44)\"], [0.75, \"rgb(203,24,29)\"], [0.875, \"rgb(165,15,21)\"], [1.0, \"rgb(103,0,13)\"]], \"autocolorscale\": false, \"reversescale\": false, \"marker\": {\"line\": {\"color\": \"rgb(180,180,180)\", \"width\": 0.5}}, \"colorbar\": {\"autotick\": false, \"title\": \"Population\"}}], {\"title\": \"<br>Source:            <a href=\\\"https://www.geonames.org/countries/\\\">            geonames</a>\", \"geo\": {\"showcountries\": true, \"showframe\": false, \"showcoastlines\": false, \"projection\": {\"type\": \"natural earth\"}}}, {\"showLink\": false, \"linkText\": \"Export to plot.ly\", \"plotlyServerURL\": \"https://plot.ly\"})});</script><script type=\"text/javascript\">window.addEventListener(\"resize\", function(){window._Plotly.Plots.resize(document.getElementById(\"d07e8002-35ae-4142-b97a-1ee7fd85456a\"));});</script>"
      ]
     },
     "metadata": {},
     "output_type": "display_data"
    }
   ],
   "source": [
    "# carte mondiale\n",
    "data = [{\n",
    "        'type': 'choropleth',\n",
    "        'locations': df['ISO-3166alpha3'],\n",
    "        'z': df['Population'],\n",
    "        'text': df['Country'],\n",
    "        'colorscale': list(zip(np.linspace(0, 1, 9), cl.scales['9']['seq']['Reds'])),\n",
    "        'autocolorscale': False,\n",
    "        'reversescale': False,\n",
    "        'marker': {\n",
    "            'line': {\n",
    "                'color': 'rgb(180,180,180)',\n",
    "                'width': 0.5\n",
    "            }},\n",
    "        'colorbar':\n",
    "            {'autotick': False,\n",
    "            'title': 'Population'},\n",
    "        }]\n",
    "\n",
    "layout = {\n",
    "    'title': '<br>Source:\\\n",
    "            <a href=\"https://www.geonames.org/countries/\">\\\n",
    "            geonames</a>',\n",
    "    'geo': {\n",
    "        'showcountries': True,\n",
    "        'showframe': False,\n",
    "        'showcoastlines': False,\n",
    "        'projection': {\n",
    "            'type': 'natural earth'  # 'mercator'\n",
    "        }\n",
    "    }\n",
    "}\n",
    "\n",
    "\n",
    "fig = {'data': data, 'layout': layout}\n",
    "iplot(fig, validate=False, filename='d3-world-map')"
   ]
  },
  {
   "cell_type": "markdown",
   "metadata": {},
   "source": [
    "**Exercice n° 5**\n",
    "\n",
    "- Ajoutez une colonne 'Densité'\n",
    "- Affichez la densité en niveaux de bleus (cherchez une correction des données pour obtenir un affichage pertinent).\n",
    "- Prenez une projection aléatoire parmi : 'equirectangular', 'mercator', 'orthographic', 'natural earth', 'kavrayskiy7', 'miller', 'robinson', 'eckert4', 'azimuthal equal area', 'azimuthal equidistant', 'conic equal area', 'conic conformal', 'conic equidistant', 'gnomonic', 'stereographic', 'mollweide', 'hammer', 'transverse mercator' en utilisant numpy.random.choice()"
   ]
  },
  {
   "cell_type": "markdown",
   "metadata": {},
   "source": [
    "### 5.3 Geocoding avec geopy et cartes avec ipyleaflet\n",
    "\n",
    "ipyleaflet provides interactive maps in the Jupyter notebook based on leaflet.js JavaScript library and OpenStreetMap.\n",
    "\n",
    "Installation (in a shell):\n",
    "\n",
    "    conda install -c conda-forge geopy or pip install geopy\n",
    "\n",
    "    conda install -c conda-forge ipyleaflet or pip install ipyleaflet\n",
    "\n",
    "    jupyter nbextension enable --py --sys-prefix ipyleaflet\n"
   ]
  },
  {
   "cell_type": "markdown",
   "metadata": {},
   "source": [
    "**geopy** : informations sur une adresse physique.\n",
    "\n",
    "Voir : https://geopy.readthedocs.io/en/stable/index.html"
   ]
  },
  {
   "cell_type": "code",
   "execution_count": 173,
   "metadata": {},
   "outputs": [
    {
     "ename": "ModuleNotFoundError",
     "evalue": "No module named 'geopy'",
     "output_type": "error",
     "traceback": [
      "\u001b[0;31m---------------------------------------------------------------------------\u001b[0m",
      "\u001b[0;31mModuleNotFoundError\u001b[0m                       Traceback (most recent call last)",
      "\u001b[0;32m<ipython-input-173-fbdea5f1bec1>\u001b[0m in \u001b[0;36m<module>\u001b[0;34m\u001b[0m\n\u001b[1;32m      6\u001b[0m \u001b[0;31m#import geopy\u001b[0m\u001b[0;34m\u001b[0m\u001b[0;34m\u001b[0m\u001b[0;34m\u001b[0m\u001b[0m\n\u001b[1;32m      7\u001b[0m \u001b[0;34m\u001b[0m\u001b[0m\n\u001b[0;32m----> 8\u001b[0;31m \u001b[0;32mfrom\u001b[0m \u001b[0mgeopy\u001b[0m\u001b[0;34m.\u001b[0m\u001b[0mgeocoders\u001b[0m \u001b[0;32mimport\u001b[0m \u001b[0mNominatim\u001b[0m\u001b[0;34m\u001b[0m\u001b[0;34m\u001b[0m\u001b[0m\n\u001b[0m\u001b[1;32m      9\u001b[0m \u001b[0;34m\u001b[0m\u001b[0m\n\u001b[1;32m     10\u001b[0m \u001b[0mgeolocator\u001b[0m \u001b[0;34m=\u001b[0m \u001b[0mNominatim\u001b[0m\u001b[0;34m(\u001b[0m\u001b[0muser_agent\u001b[0m\u001b[0;34m=\u001b[0m\u001b[0;34m'telecom_paris'\u001b[0m\u001b[0;34m,\u001b[0m \u001b[0mtimeout\u001b[0m\u001b[0;34m=\u001b[0m\u001b[0;36m7\u001b[0m\u001b[0;34m)\u001b[0m\u001b[0;34m\u001b[0m\u001b[0;34m\u001b[0m\u001b[0m\n",
      "\u001b[0;31mModuleNotFoundError\u001b[0m: No module named 'geopy'"
     ]
    }
   ],
   "source": [
    "# mandatory if Python ssl.SSLError occurs\n",
    "#import ssl\n",
    "#import certifi\n",
    "#ctx = ssl.create_default_context(cafile=certifi.where())\n",
    "#geopy.geocoders.options.default_ssl_context = ctx\n",
    "#import geopy\n",
    "\n",
    "from geopy.geocoders import Nominatim\n",
    "\n",
    "geolocator = Nominatim(user_agent='telecom_paris', timeout=7)\n",
    "location = geolocator.geocode('19 Place Marguerite Perey, 91120 Palaiseau, France')\n",
    "location.raw"
   ]
  },
  {
   "cell_type": "code",
   "execution_count": null,
   "metadata": {},
   "outputs": [],
   "source": [
    "# get latitude and longitude\n",
    "lat, lon = location.raw['lat'], location.raw['lon']\n",
    "lat, lon"
   ]
  },
  {
   "cell_type": "markdown",
   "metadata": {},
   "source": [
    "**Plan**"
   ]
  },
  {
   "cell_type": "code",
   "execution_count": null,
   "metadata": {},
   "outputs": [],
   "source": [
    "# demo\n",
    "from ipyleaflet import Map\n",
    "\n",
    "# map arround 48.71, 2.20\n",
    "m = Map(center=(lat, lon), zoom=18)\n",
    "m"
   ]
  },
  {
   "cell_type": "markdown",
   "metadata": {},
   "source": [
    "**Image satellite**"
   ]
  },
  {
   "cell_type": "code",
   "execution_count": null,
   "metadata": {},
   "outputs": [],
   "source": [
    "# satellite map\n",
    "from datetime import datetime, timedelta\n",
    "from ipyleaflet import basemaps, basemap_to_tiles\n",
    "\n",
    "# satellite map for yesterday\n",
    "# NASA's Global Imagery Browse Services\n",
    "yesterday = datetime.now() - timedelta(days=1)\n",
    "nasa = basemap_to_tiles(basemaps.NASAGIBS.ModisTerraTrueColorCR, yesterday.strftime('%Y-%m-%d'))\n",
    "m = Map(layers=(nasa, ), center=(lat, lon), zoom=4)\n",
    "\n",
    "m"
   ]
  },
  {
   "cell_type": "markdown",
   "metadata": {},
   "source": [
    "**Autre carte...**"
   ]
  },
  {
   "cell_type": "code",
   "execution_count": null,
   "metadata": {},
   "outputs": [],
   "source": [
    "# villes\n",
    "df = pd.read_csv('cities500.zip',\n",
    "                 sep='\\t',header=None,\n",
    "                 keep_default_na=False,  # NA = North America\n",
    "                 na_values=['', -9999],\n",
    "                 names=['geonameid', 'name', 'asciiname', 'alternatenames', 'latitude', \n",
    "                        'longitude', 'feature class', 'feature code', 'country code',\n",
    "                        'cc2', 'admin1 code', 'admin2 code', 'admin3 code', 'admin4 code',\n",
    "                        'population', 'elevation', 'dem', 'timezone', 'modification date'],\n",
    "                        dtype={'admin1 code': str,\n",
    "                               'admin2 code': str,\n",
    "                               'admin3 code': str,\n",
    "                               'admin4 code': str})\n",
    "df.shape"
   ]
  },
  {
   "cell_type": "code",
   "execution_count": null,
   "metadata": {},
   "outputs": [],
   "source": [
    "# map with markers\n",
    "\n",
    "from ipyleaflet import Marker, LayerGroup\n",
    "\n",
    "watercolor = basemap_to_tiles(basemaps.Stamen.Watercolor)\n",
    "m = Map(layers=(watercolor, ), center=(50, 50), zoom=1)\n",
    "\n",
    "# add markers for cities with population >= 3M\n",
    "df2 = df.loc[df['population'] >= 3e6]\n",
    "layers = []\n",
    "for i, row in df2.iterrows():\n",
    "    marker = Marker(location=(row['latitude'], row['longitude']),\n",
    "                    draggable=False,\n",
    "                    title=row['name'])\n",
    "    layers.append(marker)\n",
    "layer_group = LayerGroup(layers=layers)\n",
    "m.add_layer(layer_group)\n",
    "\n",
    "m"
   ]
  }
 ],
 "metadata": {
  "kernelspec": {
   "display_name": "Python 3",
   "language": "python",
   "name": "python3"
  },
  "language_info": {
   "codemirror_mode": {
    "name": "ipython",
    "version": 3
   },
   "file_extension": ".py",
   "mimetype": "text/x-python",
   "name": "python",
   "nbconvert_exporter": "python",
   "pygments_lexer": "ipython3",
   "version": "3.7.6"
  }
 },
 "nbformat": 4,
 "nbformat_minor": 4
}
